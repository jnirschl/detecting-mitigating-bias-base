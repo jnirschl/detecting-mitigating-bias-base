{
  "nbformat": 4,
  "nbformat_minor": 0,
  "metadata": {
    "kernelspec": {
      "display_name": "Python 3",
      "language": "python",
      "name": "python3"
    },
    "language_info": {
      "codemirror_mode": {
        "name": "ipython",
        "version": 3
      },
      "file_extension": ".py",
      "mimetype": "text/x-python",
      "name": "python",
      "nbconvert_exporter": "python",
      "pygments_lexer": "ipython3",
      "version": "3.7.6"
    },
    "colab": {
      "name": "milestone 3 instructions",
      "provenance": [],
      "include_colab_link": true
    }
  },
  "cells": [
    {
      "cell_type": "markdown",
      "metadata": {
        "id": "view-in-github",
        "colab_type": "text"
      },
      "source": [
        "<a href=\"https://colab.research.google.com/github/jnirschl/detecting-mitigating-bias-base/blob/main/notebooks/Milestone_3_submission.ipynb\" target=\"_parent\"><img src=\"https://colab.research.google.com/assets/colab-badge.svg\" alt=\"Open In Colab\"/></a>"
      ]
    },
    {
      "cell_type": "markdown",
      "metadata": {
        "id": "_Xq71zWCn--G"
      },
      "source": [
        "# Milestone 3 \n",
        " \n",
        "#### Objective:\n",
        "\n",
        " - Build a model with algorithmic gender bias. Using SHAP, AIF-360, and manual calculations, detect algorithmic bias. Then, using AIF-360, mitigate the bias you detected.\n",
        "\n",
        "#### Workflow:\n",
        "\n",
        "1. Import modules, register helper functions, and load data\n",
        "2. Train a model without unwanted gender bias. Demonstrate using confusion matrices and bias metrics that the model has minimal allocation bias. \n",
        "3. Train a model with gender bias.  Demonstrate using confusion matrices that the model is significantly biased. \n",
        "4. Use SHAP to interpret the biased model's predictions and demonstrate bias.\n",
        "5. Debias the model using AIF-360. Between three debiasing approaches (reweighing, disparate impact remover, and calibrated equal odds postprocessing),  choose one of the approaches, recommend it for use, and explain why.\n",
        "\n",
        "6. Fine-tune your reweighing and disparate impact remover approaches by selecting the best possible threshold.\n",
        "\n",
        "#### Importance to Project:\n",
        "\n",
        " - In the scenario of this LiveProject, you are called upon to detect and/or mitigate unwanted bias in three models (and their corresponding datasets) for the WHO. Here we work with two models - one which probably does not have unwanted bias, and one which does. In these cases, the protected class data is available. For our final model, in Milestone 4, it is not available. \n",
        " - Most of the work here is done on the model which does have unwanted bias. We want to measure that bias and try and mitigate it. The workflow guides you through that process.\n",
        " \n",
        "#### Resources:\n",
        " - https://www.ncbi.nlm.nih.gov/pmc/articles/PMC6678298/ (a description of the original dataset and its use)\n",
        " - https://arxiv.org/pdf/1810.01943.pdf (the original AIF360 paper, which describes several methods for debiasing implemented within the package)\n",
        " - https://aif360.mybluemix.net/data (a demo of AIF360. Here, we are unpacking what is done at the \"check\" and \"mitigate\" steps.) \n",
        " - https://towardsdatascience.com/a-tutorial-on-fairness-in-machine-learning-3ff8ba1040cb (a helpful summary of key metrics. Section 4.7 on impossibility is relevant for the final section of this milestone.)"
      ]
    },
    {
      "cell_type": "markdown",
      "metadata": {
        "id": "LgBv0K0pn--H"
      },
      "source": [
        "# 1. Import modules, register helper functions, and load data"
      ]
    },
    {
      "cell_type": "markdown",
      "metadata": {
        "id": "qOKVp9gVn--H"
      },
      "source": [
        "\n",
        "\n",
        "The dataset we are using is a cardiology dataset described in Padmanabhan et al.’s [paper](https://www.ncbi.nlm.nih.gov/pmc/articles/PMC6678298/) in the _Journal of Clinical Medicine_. In the original dataset, the “cardio” column represented whether the patient has cardiovascular disease.\n",
        "\n",
        "In our scenario, we can obtain all of the measurements in the dataset, but we cannot detect cardiovascular disease directly. This is where a model is used. A patient who has a prediction of cardiovascular disease will be given a medication that reduces the likelihood of a cardiac event, but not enough medication is available to give to everyone, so our model will also be used to prioritize the allocation of that medicine.\n",
        "\n",
        "To introduce you to the data, let’s do the following:\n",
        "\n",
        "1. Import the relevant modules and helper functions.\n",
        "2. Load the data from 'cardio_train.csv'.\n",
        "3. Drop NAN values.\n",
        "4. Sort the data by 'cardio', the target variable.\n",
        "5. Inspect the dataframe, and familiarize yourself with the labels (see table 2 of Padmanabhan et al.’s paper).\n",
        "\n",
        "Run the below helper code to get started. To see this code in context, click [here](https://colab.research.google.com/drive/1pLOgIU_t998KKEcO9nz_6T8xWr05R1UT#scrollTo=ft07GaGRn--H&line=1&uniqifier=1)"
      ]
    },
    {
      "cell_type": "code",
      "metadata": {
        "colab": {
          "base_uri": "https://localhost:8080/"
        },
        "id": "2safI5msJeDW",
        "outputId": "d653655f-d5a4-409d-bb33-8b70789660fb"
      },
      "source": [
        "# setup colab environment\r\n",
        "import os\r\n",
        "if \"COLAB_GPU\" in os.environ:\r\n",
        "  print(f\"Setting up Colab environment...\")\r\n",
        "  # pip install requirements\r\n",
        "  !pip install scikit-learn aif360 pandas lightgbm shap BlackBoxAuditing seaborn matplotlib"
      ],
      "execution_count": null,
      "outputs": [
        {
          "output_type": "stream",
          "text": [
            "Setting up environment...\n",
            "Requirement already satisfied: scikit-learn in /usr/local/lib/python3.6/dist-packages (0.22.2.post1)\n",
            "Requirement already satisfied: aif360 in /usr/local/lib/python3.6/dist-packages (0.3.0)\n",
            "Requirement already satisfied: pandas in /usr/local/lib/python3.6/dist-packages (1.1.5)\n",
            "Requirement already satisfied: lightgbm in /usr/local/lib/python3.6/dist-packages (2.2.3)\n",
            "Requirement already satisfied: shap in /usr/local/lib/python3.6/dist-packages (0.37.0)\n",
            "Requirement already satisfied: BlackBoxAuditing in /usr/local/lib/python3.6/dist-packages (0.1.54)\n",
            "Requirement already satisfied: seaborn in /usr/local/lib/python3.6/dist-packages (0.11.0)\n",
            "Requirement already satisfied: matplotlib in /usr/local/lib/python3.6/dist-packages (3.2.2)\n",
            "Requirement already satisfied: scipy>=0.17.0 in /usr/local/lib/python3.6/dist-packages (from scikit-learn) (1.4.1)\n",
            "Requirement already satisfied: joblib>=0.11 in /usr/local/lib/python3.6/dist-packages (from scikit-learn) (1.0.0)\n",
            "Requirement already satisfied: numpy>=1.11.0 in /usr/local/lib/python3.6/dist-packages (from scikit-learn) (1.19.4)\n",
            "Requirement already satisfied: python-dateutil>=2.7.3 in /usr/local/lib/python3.6/dist-packages (from pandas) (2.8.1)\n",
            "Requirement already satisfied: pytz>=2017.2 in /usr/local/lib/python3.6/dist-packages (from pandas) (2018.9)\n",
            "Requirement already satisfied: tqdm>4.25.0 in /usr/local/lib/python3.6/dist-packages (from shap) (4.41.1)\n",
            "Requirement already satisfied: slicer==0.0.3 in /usr/local/lib/python3.6/dist-packages (from shap) (0.0.3)\n",
            "Requirement already satisfied: numba in /usr/local/lib/python3.6/dist-packages (from shap) (0.48.0)\n",
            "Requirement already satisfied: networkx in /usr/local/lib/python3.6/dist-packages (from BlackBoxAuditing) (2.5)\n",
            "Requirement already satisfied: kiwisolver>=1.0.1 in /usr/local/lib/python3.6/dist-packages (from matplotlib) (1.3.1)\n",
            "Requirement already satisfied: pyparsing!=2.0.4,!=2.1.2,!=2.1.6,>=2.0.1 in /usr/local/lib/python3.6/dist-packages (from matplotlib) (2.4.7)\n",
            "Requirement already satisfied: cycler>=0.10 in /usr/local/lib/python3.6/dist-packages (from matplotlib) (0.10.0)\n",
            "Requirement already satisfied: six>=1.5 in /usr/local/lib/python3.6/dist-packages (from python-dateutil>=2.7.3->pandas) (1.15.0)\n",
            "Requirement already satisfied: llvmlite<0.32.0,>=0.31.0dev0 in /usr/local/lib/python3.6/dist-packages (from numba->shap) (0.31.0)\n",
            "Requirement already satisfied: setuptools in /usr/local/lib/python3.6/dist-packages (from numba->shap) (51.0.0)\n",
            "Requirement already satisfied: decorator>=4.3.0 in /usr/local/lib/python3.6/dist-packages (from networkx->BlackBoxAuditing) (4.4.2)\n"
          ],
          "name": "stdout"
        }
      ]
    },
    {
      "cell_type": "code",
      "metadata": {
        "id": "ft07GaGRn--H"
      },
      "source": [
        "import pandas as pd\n",
        "import seaborn as sns\n",
        "import matplotlib.pyplot as plt    \n",
        "import numpy as np\n",
        "import shap\n",
        "import sklearn\n",
        "from sklearn import model_selection\n",
        "from sklearn.ensemble import RandomForestClassifier\n",
        "from sklearn.metrics import confusion_matrix, f1_score, accuracy_score\n",
        "import aif360\n",
        "from aif360.algorithms.preprocessing import Reweighing, DisparateImpactRemover\n",
        "from aif360.algorithms.inprocessing import PrejudiceRemover\n",
        "from aif360.algorithms.postprocessing import CalibratedEqOddsPostprocessing\n",
        "from aif360.metrics import ClassificationMetric\n",
        "from aif360.metrics import BinaryLabelDatasetMetric\n",
        "from aif360.explainers import MetricTextExplainer"
      ],
      "execution_count": null,
      "outputs": []
    },
    {
      "cell_type": "code",
      "metadata": {
        "id": "kBQ6xhLcn--H"
      },
      "source": [
        "def generate_biased_dataset(dataset, women_yes_event_subsample_rate):\n",
        "    \n",
        "    \"\"\" (DataFrame, float) -> DataFrame\n",
        "    Using the Cardio dataset, subsample positive cardiac events for women\"\"\"\n",
        "    \n",
        "    women_no_event = dataset[(dataset['gender']==1) & (dataset['cardio']==0)]\n",
        "    women_yes_event = dataset[(dataset['gender']==1) & (dataset['cardio']==1)]\n",
        "    men_no_event = dataset[(dataset['gender']==2) & (dataset['cardio']==0)]\n",
        "    men_yes_event = dataset[(dataset['gender']==2) & (dataset['cardio']==1)]\n",
        "\n",
        "    biased_dataset = pd.concat([\n",
        "        women_no_event,\n",
        "        women_yes_event.sample(int(len(women_yes_event)*women_yes_event_subsample_rate)),\n",
        "        men_no_event,\n",
        "        men_yes_event\n",
        "    ])\n",
        "    return biased_dataset\n",
        "\n",
        "def train_model(dataset, exclude_gender = False):\n",
        "    \n",
        "    \"\"\" (DataFrame, bool) -> RandomForestClassifier, DataFrame, DataFrame, DataFrame, DataFrame\n",
        "    Given a dataset in Cardio format, split the model into train and test, and train a Random Forest classifier on the data\"\"\"\n",
        "    \n",
        "    X_cols = [c for c in dataset.columns if c!='cardio']\n",
        "    X = dataset[X_cols]\n",
        "    y = dataset['cardio']\n",
        "    X_train, X_test, y_train, y_test = sklearn.model_selection.train_test_split(X,y, random_state=42)\n",
        "\n",
        "    rf = RandomForestClassifier(random_state=42)\n",
        "    if exclude_gender:\n",
        "        X_cols.remove('gender')\n",
        "    rf.fit(X_train[X_cols], y_train)\n",
        "        \n",
        "    return rf, X_cols, X_train, X_test, y_train, y_test\n",
        "\n",
        " \n",
        "\n",
        "def plot_confusion_matrix(y_true,y_pred, return_percentage=False):\n",
        "    \n",
        "    \"\"\" (Series, Series, bool) -> None\n",
        "    Plot a confusion matrix\"\"\"\n",
        "    \n",
        "    cm = confusion_matrix(y_true,y_pred,labels=[1,0])\n",
        "    \n",
        "    if return_percentage:\n",
        "        cm = np.round(np.asarray(cm)/(np.asarray(cm).sum()),3)\n",
        "\n",
        "    ax= plt.subplot()\n",
        "    sns.heatmap(cm, annot=True, ax = ax, cmap='Greens',fmt='g'); #annot=True to annotate cells\n",
        "\n",
        "    # labels, title and ticks\n",
        "    ax.set_xlabel('Predicted labels');ax.set_ylabel('True labels'); \n",
        "    ax.set_title('Confusion Matrix'); \n",
        "    ax.xaxis.set_ticklabels(['positive', 'negative']); ax.yaxis.set_ticklabels(['positive', 'negative']);\n",
        "    plt.show()\n",
        "    return cm\n",
        "    \n",
        "def aif360_to_pandas(dataset_aif360):\n",
        "    return dataset_aif360.convert_to_dataframe()[0]\n",
        "\n",
        "def pandas_to_aif360(dataset_pd):\n",
        "    return aif360.datasets.BinaryLabelDataset(favorable_label=1,\n",
        "                                              unfavorable_label=0,\n",
        "                                              df=dataset_pd,\n",
        "                                              label_names=['cardio'],\n",
        "                                              protected_attribute_names=['gender',\n",
        "                                                                         'dummy'])\n",
        "    "
      ],
      "execution_count": null,
      "outputs": []
    },
    {
      "cell_type": "code",
      "metadata": {
        "id": "CZxPn3Upn--H",
        "colab": {
          "base_uri": "https://localhost:8080/",
          "height": 424
        },
        "outputId": "c268e88c-4e15-4ce3-ae3d-3e4d82967b1f"
      },
      "source": [
        "# read data from url\n",
        "import requests\n",
        "data_url = \"https://raw.githubusercontent.com/mikejump/detecting-mitigating-bias-base/main/data/cardio_train.csv\"\n",
        "\n",
        "dataset = pd.read_csv(data_url, delimiter=';')\n",
        "\n",
        "# add dummy random variable for negative control testing fairness metrics\n",
        "# the random dummy var should have no bias and negligible Shap contribution\n",
        "dataset['dummy'] = np.random.choice(2, size=dataset.shape[0])\n",
        "\n",
        "\n",
        "# drop nans\n",
        "dataset = dataset.dropna()\n",
        "\n",
        "dataset.sort_values('cardio',ascending=False)"
      ],
      "execution_count": null,
      "outputs": [
        {
          "output_type": "execute_result",
          "data": {
            "text/html": [
              "<div>\n",
              "<style scoped>\n",
              "    .dataframe tbody tr th:only-of-type {\n",
              "        vertical-align: middle;\n",
              "    }\n",
              "\n",
              "    .dataframe tbody tr th {\n",
              "        vertical-align: top;\n",
              "    }\n",
              "\n",
              "    .dataframe thead th {\n",
              "        text-align: right;\n",
              "    }\n",
              "</style>\n",
              "<table border=\"1\" class=\"dataframe\">\n",
              "  <thead>\n",
              "    <tr style=\"text-align: right;\">\n",
              "      <th></th>\n",
              "      <th>id</th>\n",
              "      <th>age</th>\n",
              "      <th>gender</th>\n",
              "      <th>height</th>\n",
              "      <th>weight</th>\n",
              "      <th>ap_hi</th>\n",
              "      <th>ap_lo</th>\n",
              "      <th>cholesterol</th>\n",
              "      <th>gluc</th>\n",
              "      <th>smoke</th>\n",
              "      <th>alco</th>\n",
              "      <th>active</th>\n",
              "      <th>cardio</th>\n",
              "      <th>dummy</th>\n",
              "    </tr>\n",
              "  </thead>\n",
              "  <tbody>\n",
              "    <tr>\n",
              "      <th>23316</th>\n",
              "      <td>33309</td>\n",
              "      <td>19645</td>\n",
              "      <td>1</td>\n",
              "      <td>160</td>\n",
              "      <td>80.0</td>\n",
              "      <td>130</td>\n",
              "      <td>80</td>\n",
              "      <td>3</td>\n",
              "      <td>1</td>\n",
              "      <td>0</td>\n",
              "      <td>0</td>\n",
              "      <td>1</td>\n",
              "      <td>1</td>\n",
              "      <td>1</td>\n",
              "    </tr>\n",
              "    <tr>\n",
              "      <th>28870</th>\n",
              "      <td>41257</td>\n",
              "      <td>15868</td>\n",
              "      <td>1</td>\n",
              "      <td>158</td>\n",
              "      <td>83.0</td>\n",
              "      <td>160</td>\n",
              "      <td>100</td>\n",
              "      <td>1</td>\n",
              "      <td>1</td>\n",
              "      <td>0</td>\n",
              "      <td>0</td>\n",
              "      <td>1</td>\n",
              "      <td>1</td>\n",
              "      <td>1</td>\n",
              "    </tr>\n",
              "    <tr>\n",
              "      <th>55488</th>\n",
              "      <td>79158</td>\n",
              "      <td>21224</td>\n",
              "      <td>2</td>\n",
              "      <td>178</td>\n",
              "      <td>95.0</td>\n",
              "      <td>150</td>\n",
              "      <td>90</td>\n",
              "      <td>1</td>\n",
              "      <td>1</td>\n",
              "      <td>0</td>\n",
              "      <td>0</td>\n",
              "      <td>1</td>\n",
              "      <td>1</td>\n",
              "      <td>1</td>\n",
              "    </tr>\n",
              "    <tr>\n",
              "      <th>55486</th>\n",
              "      <td>79156</td>\n",
              "      <td>18111</td>\n",
              "      <td>1</td>\n",
              "      <td>164</td>\n",
              "      <td>90.0</td>\n",
              "      <td>140</td>\n",
              "      <td>1000</td>\n",
              "      <td>3</td>\n",
              "      <td>1</td>\n",
              "      <td>0</td>\n",
              "      <td>0</td>\n",
              "      <td>1</td>\n",
              "      <td>1</td>\n",
              "      <td>1</td>\n",
              "    </tr>\n",
              "    <tr>\n",
              "      <th>28862</th>\n",
              "      <td>41249</td>\n",
              "      <td>19688</td>\n",
              "      <td>1</td>\n",
              "      <td>160</td>\n",
              "      <td>63.0</td>\n",
              "      <td>110</td>\n",
              "      <td>80</td>\n",
              "      <td>1</td>\n",
              "      <td>1</td>\n",
              "      <td>0</td>\n",
              "      <td>0</td>\n",
              "      <td>0</td>\n",
              "      <td>1</td>\n",
              "      <td>0</td>\n",
              "    </tr>\n",
              "    <tr>\n",
              "      <th>...</th>\n",
              "      <td>...</td>\n",
              "      <td>...</td>\n",
              "      <td>...</td>\n",
              "      <td>...</td>\n",
              "      <td>...</td>\n",
              "      <td>...</td>\n",
              "      <td>...</td>\n",
              "      <td>...</td>\n",
              "      <td>...</td>\n",
              "      <td>...</td>\n",
              "      <td>...</td>\n",
              "      <td>...</td>\n",
              "      <td>...</td>\n",
              "      <td>...</td>\n",
              "    </tr>\n",
              "    <tr>\n",
              "      <th>30978</th>\n",
              "      <td>44245</td>\n",
              "      <td>20991</td>\n",
              "      <td>1</td>\n",
              "      <td>164</td>\n",
              "      <td>85.0</td>\n",
              "      <td>120</td>\n",
              "      <td>80</td>\n",
              "      <td>2</td>\n",
              "      <td>1</td>\n",
              "      <td>0</td>\n",
              "      <td>0</td>\n",
              "      <td>1</td>\n",
              "      <td>0</td>\n",
              "      <td>1</td>\n",
              "    </tr>\n",
              "    <tr>\n",
              "      <th>30979</th>\n",
              "      <td>44246</td>\n",
              "      <td>16950</td>\n",
              "      <td>1</td>\n",
              "      <td>162</td>\n",
              "      <td>54.0</td>\n",
              "      <td>110</td>\n",
              "      <td>80</td>\n",
              "      <td>1</td>\n",
              "      <td>1</td>\n",
              "      <td>0</td>\n",
              "      <td>0</td>\n",
              "      <td>1</td>\n",
              "      <td>0</td>\n",
              "      <td>0</td>\n",
              "    </tr>\n",
              "    <tr>\n",
              "      <th>30980</th>\n",
              "      <td>44248</td>\n",
              "      <td>19036</td>\n",
              "      <td>1</td>\n",
              "      <td>165</td>\n",
              "      <td>89.0</td>\n",
              "      <td>130</td>\n",
              "      <td>80</td>\n",
              "      <td>1</td>\n",
              "      <td>1</td>\n",
              "      <td>0</td>\n",
              "      <td>0</td>\n",
              "      <td>1</td>\n",
              "      <td>0</td>\n",
              "      <td>0</td>\n",
              "    </tr>\n",
              "    <tr>\n",
              "      <th>30982</th>\n",
              "      <td>44250</td>\n",
              "      <td>15954</td>\n",
              "      <td>1</td>\n",
              "      <td>165</td>\n",
              "      <td>72.0</td>\n",
              "      <td>120</td>\n",
              "      <td>70</td>\n",
              "      <td>1</td>\n",
              "      <td>3</td>\n",
              "      <td>0</td>\n",
              "      <td>0</td>\n",
              "      <td>1</td>\n",
              "      <td>0</td>\n",
              "      <td>0</td>\n",
              "    </tr>\n",
              "    <tr>\n",
              "      <th>69999</th>\n",
              "      <td>99999</td>\n",
              "      <td>20540</td>\n",
              "      <td>1</td>\n",
              "      <td>170</td>\n",
              "      <td>72.0</td>\n",
              "      <td>120</td>\n",
              "      <td>80</td>\n",
              "      <td>2</td>\n",
              "      <td>1</td>\n",
              "      <td>0</td>\n",
              "      <td>0</td>\n",
              "      <td>1</td>\n",
              "      <td>0</td>\n",
              "      <td>1</td>\n",
              "    </tr>\n",
              "  </tbody>\n",
              "</table>\n",
              "<p>70000 rows × 14 columns</p>\n",
              "</div>"
            ],
            "text/plain": [
              "          id    age  gender  height  weight  ...  smoke  alco  active  cardio  dummy\n",
              "23316  33309  19645       1     160    80.0  ...      0     0       1       1      1\n",
              "28870  41257  15868       1     158    83.0  ...      0     0       1       1      1\n",
              "55488  79158  21224       2     178    95.0  ...      0     0       1       1      1\n",
              "55486  79156  18111       1     164    90.0  ...      0     0       1       1      1\n",
              "28862  41249  19688       1     160    63.0  ...      0     0       0       1      0\n",
              "...      ...    ...     ...     ...     ...  ...    ...   ...     ...     ...    ...\n",
              "30978  44245  20991       1     164    85.0  ...      0     0       1       0      1\n",
              "30979  44246  16950       1     162    54.0  ...      0     0       1       0      0\n",
              "30980  44248  19036       1     165    89.0  ...      0     0       1       0      0\n",
              "30982  44250  15954       1     165    72.0  ...      0     0       1       0      0\n",
              "69999  99999  20540       1     170    72.0  ...      0     0       1       0      1\n",
              "\n",
              "[70000 rows x 14 columns]"
            ]
          },
          "metadata": {
            "tags": []
          },
          "execution_count": 4
        }
      ]
    },
    {
      "cell_type": "markdown",
      "metadata": {
        "id": "yQjehcvCn--I"
      },
      "source": [
        "# 2. Train a model without unwanted gender bias. Demonstrate using confusion matrices and bias metrics that the model has minimal allocation bias. "
      ]
    },
    {
      "cell_type": "markdown",
      "metadata": {
        "id": "4rhkHpmYn--I"
      },
      "source": [
        "\n",
        "\n",
        "A model trained from this data will not be subject to significant bias. However, being able to recognize when a model isn't biased is an important part of the debiasing process.\n",
        "\n",
        "Code is provided below to do the following steps:\n",
        "\n",
        "1. Using the helper function train_model, train a model.\n",
        "2. Using the helper function plot_confusion_matrix, plot a confusion matrix based on the model's predictions for the test set.\n",
        "3. Split the patients in the test set by gender, and create a confusion matrix for each.\n",
        "\n",
        "Based on the confusion matrices generated above, you are asked to\n",
        "\n",
        "* Manually measure the disparate impact by dividing the ratio of positive predictions for females by the ratio of positive predictions for males. There should be negligible bias (disparate impact is close to 1).\n",
        "\n",
        "* Manually measure the equal opportunity difference by subtracting the true positive rate for males from the true positive rate for females. There should be negligible bias (equal opportunity difference is close to 0).\n",
        "\n",
        "To see the below code in context, click [here](https://colab.research.google.com/drive/1pLOgIU_t998KKEcO9nz_6T8xWr05R1UT#scrollTo=DgQYKzeGn--I&line=3&uniqifier=1)"
      ]
    },
    {
      "cell_type": "code",
      "metadata": {
        "id": "DgQYKzeGn--I",
        "colab": {
          "base_uri": "https://localhost:8080/",
          "height": 610
        },
        "outputId": "349f7098-b225-4b54-b8f2-054da68e6369"
      },
      "source": [
        "original_rf, X_cols,X_train, X_test, y_train, y_test = train_model(dataset)\n",
        "plot_confusion_matrix(y_test, original_rf.predict(X_test[X_cols]))\n",
        "plot_confusion_matrix(y_test, original_rf.predict(X_test[X_cols]),return_percentage=True)"
      ],
      "execution_count": null,
      "outputs": [
        {
          "output_type": "display_data",
          "data": {
            "image/png": "[encoded data removed]",
            "text/plain": [
              "<Figure size 432x288 with 2 Axes>"
            ]
          },
          "metadata": {
            "tags": [],
            "needs_background": "light"
          }
        },
        {
          "output_type": "display_data",
          "data": {
            "image/png": "[encoded data removed]",
            "text/plain": [
              "<Figure size 432x288 with 2 Axes>"
            ]
          },
          "metadata": {
            "tags": [],
            "needs_background": "light"
          }
        },
        {
          "output_type": "execute_result",
          "data": {
            "text/plain": [
              "array([[0.35 , 0.153],\n",
              "       [0.122, 0.375]])"
            ]
          },
          "metadata": {
            "tags": []
          },
          "execution_count": 5
        }
      ]
    },
    {
      "cell_type": "code",
      "metadata": {
        "id": "GirDgZjqn--I",
        "colab": {
          "base_uri": "https://localhost:8080/",
          "height": 1000
        },
        "outputId": "01bfd8f2-0a29-4d49-ecdb-34f1bc5214ae"
      },
      "source": [
        "women_test_idx = (X_test['gender']==1)\n",
        "men_test_idx = (X_test['gender']==2)\n",
        "print('confusion matrix for women in test')\n",
        "cm_female = plot_confusion_matrix(y_test[women_test_idx], original_rf.predict(X_test[X_cols][women_test_idx]))\n",
        "plot_confusion_matrix(y_test[women_test_idx], original_rf.predict(X_test[X_cols][women_test_idx]),return_percentage=True)\n",
        "\n",
        "print('confusion matrix for men in test')\n",
        "cm_male = plot_confusion_matrix(y_test[men_test_idx], original_rf.predict(X_test[X_cols][men_test_idx]))\n",
        "plot_confusion_matrix(y_test[men_test_idx], original_rf.predict(X_test[X_cols][men_test_idx]),return_percentage=True)"
      ],
      "execution_count": null,
      "outputs": [
        {
          "output_type": "stream",
          "text": [
            "confusion matrix for women in test\n"
          ],
          "name": "stdout"
        },
        {
          "output_type": "display_data",
          "data": {
            "image/png": "[encoded data removed]",
            "text/plain": [
              "<Figure size 432x288 with 2 Axes>"
            ]
          },
          "metadata": {
            "tags": [],
            "needs_background": "light"
          }
        },
        {
          "output_type": "display_data",
          "data": {
            "image/png": "[encoded data removed]",
            "text/plain": [
              "<Figure size 432x288 with 2 Axes>"
            ]
          },
          "metadata": {
            "tags": [],
            "needs_background": "light"
          }
        },
        {
          "output_type": "stream",
          "text": [
            "confusion matrix for men in test\n"
          ],
          "name": "stdout"
        },
        {
          "output_type": "display_data",
          "data": {
            "image/png": "[encoded data removed]",
            "text/plain": [
              "<Figure size 432x288 with 2 Axes>"
            ]
          },
          "metadata": {
            "tags": [],
            "needs_background": "light"
          }
        },
        {
          "output_type": "display_data",
          "data": {
            "image/png": "[encoded data removed]",
            "text/plain": [
              "<Figure size 432x288 with 2 Axes>"
            ]
          },
          "metadata": {
            "tags": [],
            "needs_background": "light"
          }
        },
        {
          "output_type": "execute_result",
          "data": {
            "text/plain": [
              "array([[0.355, 0.155],\n",
              "       [0.118, 0.372]])"
            ]
          },
          "metadata": {
            "tags": []
          },
          "execution_count": 6
        }
      ]
    },
    {
      "cell_type": "markdown",
      "metadata": {
        "id": "ah_C9SCmn--I"
      },
      "source": [
        "### Place your disparate impact and equal opportunity difference measurements here"
      ]
    },
    {
      "cell_type": "code",
      "metadata": {
        "id": "GK-0qY8d7XD7"
      },
      "source": [
        "# true positive rate\n",
        "def calc_metric(conf_mat, metric=None):\n",
        "  assert (metric.lower() in {\"tpr\",\"pos_rate\",\"neg_rate\"}), \"Expected TPR or Pos_Rate\"\n",
        "\n",
        "  TP = conf_mat[0][0]\n",
        "  FN = conf_mat[0][1]\n",
        "  FP = conf_mat[1][0]\n",
        "  TN = conf_mat[1][1]\n",
        "\n",
        "  TPR = TP/(TP+FN)\n",
        "  pos_rate, neg_rate = np.sum(conf_mat, axis=0)/np.sum(conf_mat[:])\n",
        "\n",
        "  if metric.lower() == \"tpr\":\n",
        "    return TPR.round(3)\n",
        "\n",
        "  if metric.lower() == \"pos_rate\":\n",
        "    return pos_rate.round(3)\n",
        "\n",
        "  if metric.lower() == \"neg_rate\":\n",
        "    return neg_rate.round(3)"
      ],
      "execution_count": null,
      "outputs": []
    },
    {
      "cell_type": "code",
      "metadata": {
        "colab": {
          "base_uri": "https://localhost:8080/"
        },
        "id": "JUa5gzHXmQTc",
        "outputId": "a050ac5d-6b08-4089-ea3f-ebfebad25e11"
      },
      "source": [
        "# compute equal opportunity difference\r\n",
        "tpr_female = calc_metric(cm_female, metric=\"tpr\")\r\n",
        "tpr_male = calc_metric(cm_male, metric=\"tpr\")\r\n",
        "eodiff = tpr_female-tpr_male\r\n",
        "print(f\"Equal opportunity difference:\\n\\tRecall (female):\\t{tpr_female}\")\r\n",
        "print(f\"\\tRecall (male):\\t\\t{tpr_male}\")\r\n",
        "print(f\"\\tEqual opp. diff.:\\t{eodiff.round(3)}\")\r\n",
        "\r\n",
        "# compute disparate impact\r\n",
        "pos_rate_female = calc_metric(cm_female, metric=\"pos_rate\")\r\n",
        "pos_rate_male = calc_metric(cm_male, metric=\"pos_rate\")\r\n",
        "disp_impact = pos_rate_female/pos_rate_male\r\n",
        "print(f\"Disparate impact:\\n\\tRecall (female):\\t{pos_rate_female}\")\r\n",
        "print(f\"\\tRecall (male):\\t\\t{pos_rate_male}\")\r\n",
        "print(f\"\\tDisparate impact:\\t{disp_impact.round(3)}\")"
      ],
      "execution_count": null,
      "outputs": [
        {
          "output_type": "stream",
          "text": [
            "Equal opportunity difference:\n",
            "\tRecall (female):\t0.696\n",
            "\tRecall (male):\t\t0.696\n",
            "\tEqual opp. diff.:\t0.0\n",
            "Disparate impact:\n",
            "\tRecall (female):\t0.472\n",
            "\tRecall (male):\t\t0.473\n",
            "\tDisparate impact:\t0.998\n"
          ],
          "name": "stdout"
        }
      ]
    },
    {
      "cell_type": "code",
      "metadata": {
        "id": "ZKoHBtklXt5b"
      },
      "source": [
        "# convert test df to aif360 format\r\n",
        "X_test_df = X_test\r\n",
        "aif360_gt_df = pandas_to_aif360(X_test_df.join(y_test))\r\n",
        "\r\n",
        "# predict y_test and convert to aif360 \r\n",
        "yhat_test = X_test\r\n",
        "yhat_test[\"cardio\"] = original_rf.predict(X_test)\r\n",
        "aif360_pred_df = pandas_to_aif360(yhat_test)"
      ],
      "execution_count": null,
      "outputs": []
    },
    {
      "cell_type": "code",
      "metadata": {
        "colab": {
          "base_uri": "https://localhost:8080/"
        },
        "id": "x4gBWkd_OTni",
        "outputId": "b13afdf7-29fb-4c79-bc88-8bae9e405c90"
      },
      "source": [
        "# set gender codes\r\n",
        "female_code = 1\r\n",
        "male_code = 2\r\n",
        "metric = aif360.metrics.BinaryLabelDatasetMetric(aif360_gt_df,\r\n",
        "                                        unprivileged_groups=[{'gender':1}],\r\n",
        "                                        privileged_groups=[{'gender':2}])\r\n",
        "print(f\"Fairness metrics test dataset:\\n\\tBase rate (female):\\t{metric.base_rate(privileged=True).round(3)}\")\r\n",
        "print(f\"\\tBase rate (male):\\t{metric.base_rate(privileged=False).round(3)}\")\r\n",
        "print(f\"\\n\\tDisparate impact:\\t{metric.disparate_impact().round(3)}\")\r\n",
        "print(f\"\\n\\tMean difference:\\t{metric.mean_difference().round(3)}\")"
      ],
      "execution_count": null,
      "outputs": [
        {
          "output_type": "stream",
          "text": [
            "Fairness metrics test dataset:\n",
            "\tBase rate (female):\t0.51\n",
            "\tBase rate (male):\t0.5\n",
            "\n",
            "\tDisparate impact:\t0.981\n",
            "\n",
            "\tMean difference:\t-0.01\n"
          ],
          "name": "stdout"
        }
      ]
    },
    {
      "cell_type": "code",
      "metadata": {
        "colab": {
          "base_uri": "https://localhost:8080/"
        },
        "id": "sOUW_k04aesE",
        "outputId": "cfae2192-e4d6-4553-b21a-7e8975edd458"
      },
      "source": [
        "# metrics on classified data\r\n",
        "# predicted_labels(original_rf.predict(X_test[X_cols]))\r\n",
        "model_metrics = aif360.metrics.ClassificationMetric(aif360_gt_df, aif360_pred_df,\r\n",
        "                                    unprivileged_groups=[{'gender':1}],\r\n",
        "                                    privileged_groups=[{'gender':2}])\r\n",
        "\r\n",
        "print(f\"Fairness metrics classifier:\\n\\tBase rate (female):\\t{model_metrics.base_rate(privileged=True).round(3)}\")\r\n",
        "print(f\"\\tBase rate (male):\\t{model_metrics.base_rate(privileged=False).round(3)}\")\r\n",
        "print(f\"\\n\\tDisparate impact:\\t{model_metrics.disparate_impact().round(3)}\")\r\n",
        "print(f\"\\n\\tTheil index:\\t\\t{model_metrics.theil_index().round(3)}\")\r\n",
        "print(f\"\\n\\tEqual opp diff:\\t\\t{model_metrics.true_positive_rate_difference().round(3)}\")\r\n",
        "print(f\"\\n\\tConsistency:\\t\\t{model_metrics.consistency()[0].round(3)}\")\r\n"
      ],
      "execution_count": null,
      "outputs": [
        {
          "output_type": "stream",
          "text": [
            "Fairness metrics classifier:\n",
            "\tBase rate (female):\t0.51\n",
            "\tBase rate (male):\t0.5\n",
            "\n",
            "\tDisparate impact:\t0.997\n",
            "\n",
            "\tTheil index:\t\t0.206\n",
            "\n",
            "\tEqual opp diff:\t\t-0.001\n",
            "\n",
            "\tConsistency:\t\t0.626\n"
          ],
          "name": "stdout"
        }
      ]
    },
    {
      "cell_type": "markdown",
      "metadata": {
        "id": "cbSMoPIgdkFK"
      },
      "source": [
        "**Consistency**: A metric that compares a model's classification prediction of a given data item $x$ to it's $k$ nearest neighbors, $kNN(x)$. Values close to one indicate similar inputs are treated similarly [1]\r\n",
        "\r\n",
        "```\r\n",
        "[1] Zemel, R., Wu, Y., Swersky, K., Pitassi, T. & Dwork, C.. (2013).\r\n",
        "Learning Fair Representations. Proceedings of the 30th International\r\n",
        "Conference on Machine Learning, in PMLR 28(3):325-333 \r\n",
        "```"
      ]
    },
    {
      "cell_type": "markdown",
      "metadata": {
        "id": "37ysrEJUn--I"
      },
      "source": [
        "# 3. Train a model with gender bias.  Demonstrate using confusion matrices that the model is significantly biased. \n",
        "\n",
        "We can introduce gender bias into the data by manipulating the ratio of positive to negative events for either gender. In this case, we will alter the dataset by removing a percentage of the occurrences where women have cardiovascular disease. In other words, on the altered data, women will have a lower likelihood of cardiovascular disease.\n",
        "\n",
        "Code is provided to do the following steps:\n",
        "\n",
        "1. Create the biased dataset using the generate_biased_dataset helper function. **By default, 40% of cardiac events for women are removed, creating a gender imbalance**.\n",
        "2. Train a model based on this biased dataset using the train_model helper function.\n",
        "3. Create a confusion matrix using the plot_confusion_matrix helper function.\n",
        "4. Create a confusion matrix for the subset of the test set where the gender is male, and a confusion matrix for the subset of the test set where gender is female.\n",
        "\n",
        "Based on the confusion matrices generated above, you are asked to\n",
        "\n",
        "* Manually measure the disparate impact by dividing the ratio of positive predictions for females by the ratio of positive predictions for males. There should be negligible bias (disparate impact is close to 1).\n",
        "* Manually measure the equal opportunity difference by subtracting the true positive rate for females from the true positive rate for males (there should be a difference around 10%).\n",
        "\n",
        "To view the below helper code in context, click [here](https://colab.research.google.com/drive/1pLOgIU_t998KKEcO9nz_6T8xWr05R1UT#scrollTo=WJquV7FWn--I&line=2&uniqifier=1)"
      ]
    },
    {
      "cell_type": "code",
      "metadata": {
        "id": "WJquV7FWn--I",
        "colab": {
          "base_uri": "https://localhost:8080/",
          "height": 332
        },
        "outputId": "dba0106c-658f-4d59-d9b1-c7b9906cc6d3"
      },
      "source": [
        "biased_dataset = generate_biased_dataset(dataset, women_yes_event_subsample_rate = 0.6)\n",
        "\n",
        "biased_rf, X_cols,X_train, X_test, y_train, y_test = train_model(biased_dataset)\n",
        "plot_confusion_matrix(y_test, biased_rf.predict(X_test[X_cols]))"
      ],
      "execution_count": null,
      "outputs": [
        {
          "output_type": "display_data",
          "data": {
            "image/png": "[encoded data removed]",
            "text/plain": [
              "<Figure size 432x288 with 2 Axes>"
            ]
          },
          "metadata": {
            "tags": [],
            "needs_background": "light"
          }
        },
        {
          "output_type": "execute_result",
          "data": {
            "text/plain": [
              "array([[4140, 2356],\n",
              "       [1562, 7181]])"
            ]
          },
          "metadata": {
            "tags": []
          },
          "execution_count": 12
        }
      ]
    },
    {
      "cell_type": "code",
      "metadata": {
        "id": "739ZbYien--J",
        "colab": {
          "base_uri": "https://localhost:8080/",
          "height": 610
        },
        "outputId": "78a06db1-4002-47aa-9e07-b8e8cb68a79f"
      },
      "source": [
        "women_test_idx = (X_test['gender']==1)\n",
        "men_test_idx = (X_test['gender']==2)\n",
        "\n",
        "cm_female = plot_confusion_matrix(\n",
        "    y_test[women_test_idx], \n",
        "    biased_rf.predict(X_test[X_cols][women_test_idx]))\n",
        "\n",
        "plot_confusion_matrix(\n",
        "    y_test[women_test_idx], \n",
        "    biased_rf.predict(X_test[X_cols][women_test_idx]),return_percentage=True)"
      ],
      "execution_count": null,
      "outputs": [
        {
          "output_type": "display_data",
          "data": {
            "image/png": "[encoded data removed]",
            "text/plain": [
              "<Figure size 432x288 with 2 Axes>"
            ]
          },
          "metadata": {
            "tags": [],
            "needs_background": "light"
          }
        },
        {
          "output_type": "display_data",
          "data": {
            "image/png": "[encoded data removed]",
            "text/plain": [
              "<Figure size 432x288 with 2 Axes>"
            ]
          },
          "metadata": {
            "tags": [],
            "needs_background": "light"
          }
        },
        {
          "output_type": "execute_result",
          "data": {
            "text/plain": [
              "array([[0.218, 0.154],\n",
              "       [0.093, 0.535]])"
            ]
          },
          "metadata": {
            "tags": []
          },
          "execution_count": 13
        }
      ]
    },
    {
      "cell_type": "code",
      "metadata": {
        "id": "KFpM1jbsn--J",
        "colab": {
          "base_uri": "https://localhost:8080/",
          "height": 610
        },
        "outputId": "30fe2189-20d8-4f0d-d4f0-786fee5ab894"
      },
      "source": [
        "cm_male = plot_confusion_matrix(\n",
        "    y_test[men_test_idx], \n",
        "    biased_rf.predict(X_test[X_cols][men_test_idx]),)\n",
        "plot_confusion_matrix(\n",
        "    y_test[men_test_idx], \n",
        "    biased_rf.predict(X_test[X_cols][men_test_idx]),return_percentage=True)"
      ],
      "execution_count": null,
      "outputs": [
        {
          "output_type": "display_data",
          "data": {
            "image/png": "[encoded data removed]",
            "text/plain": [
              "<Figure size 432x288 with 2 Axes>"
            ]
          },
          "metadata": {
            "tags": [],
            "needs_background": "light"
          }
        },
        {
          "output_type": "display_data",
          "data": {
            "image/png": "[encoded data removed]",
            "text/plain": [
              "<Figure size 432x288 with 2 Axes>"
            ]
          },
          "metadata": {
            "tags": [],
            "needs_background": "light"
          }
        },
        {
          "output_type": "execute_result",
          "data": {
            "text/plain": [
              "array([[0.35 , 0.156],\n",
              "       [0.117, 0.377]])"
            ]
          },
          "metadata": {
            "tags": []
          },
          "execution_count": 14
        }
      ]
    },
    {
      "cell_type": "markdown",
      "metadata": {
        "id": "8AhBlDMrn--J"
      },
      "source": [
        "### Place your disparate impact and equal opportunity difference measurements here¶"
      ]
    },
    {
      "cell_type": "code",
      "metadata": {
        "colab": {
          "base_uri": "https://localhost:8080/"
        },
        "id": "El20KYuE8h5e",
        "outputId": "66f38229-8ea1-45b2-99f7-22b456e1b0c6"
      },
      "source": [
        "# compute equal opportunity difference\r\n",
        "tpr_female = calc_metric(cm_female, metric=\"tpr\")\r\n",
        "tpr_male = calc_metric(cm_male, metric=\"tpr\")\r\n",
        "eodiff = tpr_female-tpr_male\r\n",
        "print(f\"Equal opportunity difference:\\n\\tRecall (female):\\t{tpr_female}\")\r\n",
        "print(f\"\\tRecall (male):\\t\\t{tpr_male}\")\r\n",
        "print(f\"\\tEqual opp. diff.:\\t{eodiff.round(3)}\")\r\n",
        "\r\n",
        "# compute disparate impact\r\n",
        "pos_rate_female = calc_metric(cm_female, metric=\"pos_rate\")\r\n",
        "pos_rate_male = calc_metric(cm_male, metric=\"pos_rate\")\r\n",
        "disp_impact = pos_rate_female/pos_rate_male\r\n",
        "print(f\"Disparate impact:\\n\\tRecall (female):\\t{pos_rate_female}\")\r\n",
        "print(f\"\\tRecall (male):\\t\\t{pos_rate_male}\")\r\n",
        "print(f\"\\tDisparate impact:\\t{disp_impact.round(3)}\")"
      ],
      "execution_count": null,
      "outputs": [
        {
          "output_type": "stream",
          "text": [
            "Equal opportunity difference:\n",
            "\tRecall (female):\t0.587\n",
            "\tRecall (male):\t\t0.692\n",
            "\tEqual opp. diff.:\t-0.105\n",
            "Disparate impact:\n",
            "\tRecall (female):\t0.311\n",
            "\tRecall (male):\t\t0.467\n",
            "\tDisparate impact:\t0.666\n"
          ],
          "name": "stdout"
        }
      ]
    },
    {
      "cell_type": "code",
      "metadata": {
        "id": "qS01C-tUnAie"
      },
      "source": [
        "# convert test df to aif360 format\r\n",
        "X_test_df = X_test\r\n",
        "aif360_gt_df = pandas_to_aif360(X_test_df.join(y_test))\r\n",
        "\r\n",
        "# predict y_test and convert to aif360 \r\n",
        "yhat_test = X_test\r\n",
        "yhat_test[\"cardio\"] = original_rf.predict(X_test)\r\n",
        "aif360_pred_df = pandas_to_aif360(yhat_test)"
      ],
      "execution_count": null,
      "outputs": []
    },
    {
      "cell_type": "code",
      "metadata": {
        "colab": {
          "base_uri": "https://localhost:8080/"
        },
        "id": "TmZaf3sA6Y4n",
        "outputId": "10c312af-ec9d-4fef-e932-41cc6eccfa45"
      },
      "source": [
        "# set gender codes\r\n",
        "female_code = 1\r\n",
        "male_code = 2\r\n",
        "metric = aif360.metrics.BinaryLabelDatasetMetric(aif360_gt_df,\r\n",
        "                                        unprivileged_groups=[{'gender':1}],\r\n",
        "                                        privileged_groups=[{'gender':2}])\r\n",
        "print(f\"Fairness metrics test dataset:\\n\\tBase rate (female):\\t{metric.base_rate(privileged=True).round(3)}\")\r\n",
        "print(f\"\\tBase rate (male):\\t{metric.base_rate(privileged=False).round(3)}\")\r\n",
        "print(f\"\\n\\tDisparate impact:\\t{metric.disparate_impact().round(3)}\")\r\n",
        "print(f\"\\n\\tMean difference:\\t{metric.mean_difference().round(3)}\")"
      ],
      "execution_count": null,
      "outputs": [
        {
          "output_type": "stream",
          "text": [
            "Fairness metrics test dataset:\n",
            "\tBase rate (female):\t0.506\n",
            "\tBase rate (male):\t0.372\n",
            "\n",
            "\tDisparate impact:\t0.735\n",
            "\n",
            "\tMean difference:\t-0.134\n"
          ],
          "name": "stdout"
        }
      ]
    },
    {
      "cell_type": "code",
      "metadata": {
        "colab": {
          "base_uri": "https://localhost:8080/"
        },
        "id": "Q8m1mvcV6c_G",
        "outputId": "b34583de-b6be-427c-f5d8-3c7ce90f7860"
      },
      "source": [
        "# metrics on classified data\r\n",
        "# predicted_labels(original_rf.predict(X_test[X_cols]))\r\n",
        "model_metrics = aif360.metrics.ClassificationMetric(aif360_gt_df, aif360_pred_df,\r\n",
        "                                    unprivileged_groups=[{'gender':1}],\r\n",
        "                                    privileged_groups=[{'gender':2}])\r\n",
        "\r\n",
        "print(f\"Fairness metrics classifier:\\n\\tBase rate (female):\\t{model_metrics.base_rate(privileged=True).round(3)}\")\r\n",
        "print(f\"\\tBase rate (male):\\t{model_metrics.base_rate(privileged=False).round(3)}\")\r\n",
        "print(f\"\\n\\tDisparate impact:\\t{model_metrics.disparate_impact().round(3)}\")\r\n",
        "print(f\"\\n\\tTheil index:\\t\\t{model_metrics.theil_index().round(3)}\")\r\n",
        "print(f\"\\n\\tEqual opp diff:\\t\\t{model_metrics.true_positive_rate_difference().round(3)}\")\r\n",
        "print(f\"\\n\\tConsistency:\\t\\t{model_metrics.consistency()[0].round(3)}\")\r\n"
      ],
      "execution_count": null,
      "outputs": [
        {
          "output_type": "stream",
          "text": [
            "Fairness metrics classifier:\n",
            "\tBase rate (female):\t0.506\n",
            "\tBase rate (male):\t0.372\n",
            "\n",
            "\tDisparate impact:\t0.767\n",
            "\n",
            "\tTheil index:\t\t0.046\n",
            "\n",
            "\tEqual opp diff:\t\t-0.0\n",
            "\n",
            "\tConsistency:\t\t0.634\n"
          ],
          "name": "stdout"
        }
      ]
    },
    {
      "cell_type": "markdown",
      "metadata": {
        "id": "GyTfljiBn--J"
      },
      "source": [
        "## 4. Use SHAP to interpret the biased model's predictions and demonstrate bias.\n",
        "\n",
        "* It is relatively simple to show that the model is considering gender by creating a SHAP summary plot, as we learnt in milestone 1.\n",
        "* If we were looking at this model for the first time, without prior knowledge that it had gender bias, seeing gender as a very important feature would be a red flag.\n",
        "* It is not possible to determine from the SHAP plot if the gender feature is given high importance because of genuine physiological differences, or if unwanted algorithmic bias is present.\n",
        "\n",
        "Generate a SHAP summary plot explaining the biased model. You learned this process in Milestone 1, but there is one difference here, because you are interpreting a classifier instead of a regressor.\n",
        "\n",
        "Regressor: `shap.summary_plot(shap_values, X_test[:50])`\n",
        "\n",
        "Classifier: `shap.summary_plot(shap_values[1], X_test[:50])`\n",
        "\n",
        "## Optional Exercise\n",
        "\n",
        "An interesting question: If the SHAP value is indicating that the 'gender' variable has some importance, and we don't want it to be a source of bias, could we simply remove it rather than going through a time-consuming debiasing process?\n",
        "\n",
        "Unfortunately, it is usually not so simple. In this instance, like many others, the model will be able to approximate gender using other variables. Removing the variable also can reduce the accuracy of the model.\n",
        "\n",
        "As an optional exercise, if you are curious, you can train a model without the 'gender' variable and confirm that removing the gender variable does not resolve all the algorithmic bias issues. You can pass in **exclude_gender=True** to the train_model helper function. Repeat the previous process of generating confusion matrices and manually calculating disparate impact and equal opportunity difference. Though there is less bias, it is not removed."
      ]
    },
    {
      "cell_type": "code",
      "metadata": {
        "scrolled": false,
        "id": "eXd-JysAn--J"
      },
      "source": [
        ""
      ],
      "execution_count": null,
      "outputs": []
    },
    {
      "cell_type": "markdown",
      "metadata": {
        "id": "5Mni6nCIn--J"
      },
      "source": [
        ""
      ]
    },
    {
      "cell_type": "code",
      "metadata": {
        "id": "ZX4tcPVJn--J"
      },
      "source": [
        ""
      ],
      "execution_count": null,
      "outputs": []
    },
    {
      "cell_type": "code",
      "metadata": {
        "id": "mjWsnkhln--J"
      },
      "source": [
        ""
      ],
      "execution_count": null,
      "outputs": []
    },
    {
      "cell_type": "markdown",
      "metadata": {
        "id": "G4vspQpIn--J"
      },
      "source": [
        "# Debiasing our model with AIF360\n",
        "\n",
        "We have now manually observed bias which might be unwanted. We should nail down exactly what these biases are. There are at least two obvious biases in the model we built:\n",
        " 1. Due directly to our tampering with the dataset, the model predicts more positive cases for men than women. **The relevant bias metric here is disparate impact.**\n",
        " 2. The model's errors are distributed unevenly across genders: women have a lower true positive rater than men. **The relevant bias metric here is equal opportunity difference.**\n",
        "\n",
        "The question remains which of these biases are unwanted algorithmic biases, and how we could mitigate them \n",
        "\n",
        "1. In this milestone, we artifically caused disparate impact **(1)**. However, disparities between men and women can be due to general physiological differences (for example, breast cancer is [70-100 times less common in men than in women](https://www.cancer.org/cancer/breast-cancer-in-men/about/key-statistics.html). With more knowledge about the experimental setup, a subject matter expert in cardiovascular disease would be able to give a qualified answer about the source of the bias and whether or not it's unwanted. For learning purposes, we will assume that this bias is unwanted and attempt to remove it.\n",
        "\n",
        "2. The uneven distribution of errors **(2)** is more straightforward. The model errors are unfairly distributed in such a way that borderline cases in women are more likely to be judged as negative than borderline cases in men. If we can resolve this without a substantial drop in overall accuracy, that would usually be the correct choice.\n",
        "\n",
        "For learning purposes, we will attempt to mitigate both types of bias. "
      ]
    },
    {
      "cell_type": "markdown",
      "metadata": {
        "id": "5HI2o_Sqn--J"
      },
      "source": [
        "## Debiasing steps\n",
        "\n",
        "1. Load train and test datasets into AIF360.\n",
        "2. Using ClassificationMetric, measure key bias metrics (accuracy, disparate impact, equal opportunity difference) in the biased model's predictions. \n",
        "3. Use each of the following debiasing methods:\n",
        "   * Pre-processing debiasing methods\n",
        "      * Reweighing\n",
        "\n",
        "      * Disparate Impact Remover\n",
        "\n",
        "   * Post-processing debiasing methods\n",
        "\n",
        "      * Calibration\n",
        "4. Decide on a preferred debiasing approach\n",
        "5. Select optimal thresholds and understand tradeoffs\n",
        "\n",
        "Since this workflow is quite complicated, most code is already provided. If you feel confident, you do not need to use the provided code. \n",
        "\n",
        "The parts of the workflow without provided code deserve special note. Based on the Reweighing example, you should be able to mitigate bias on your own using Disparate Impact remover. Using your knowledge of bias and performance metrics, you should be able to decide on a preferred debiasing approach and select an optimal threshold."
      ]
    },
    {
      "cell_type": "markdown",
      "metadata": {
        "id": "mOJwusSNn--J"
      },
      "source": [
        "### Understanding AIF360 Datasets and ClassificationMetrics\n",
        "\n",
        "For our purposes, AIF360 BinaryLabelDatasets have four key components:\n",
        "\n",
        "\n",
        "| Component  | Code  | Description  | \n",
        "| --- | --- | ---\n",
        "| Features | BinaryLabelDataset.features  |  features (usually inputs to a model).\n",
        "| Scores  | BinaryLabelDataset.scores |  probability of a positive event.\n",
        "| Labels  | BinaryLabelDataset.labels  | record of a positive event. Can be 1 or 0. \n",
        "| Weights  | BinaryLabelDataset.instance_weights  | when using Reweighing, instance weights will be placed here.\n",
        "\n",
        "When we run an inference over the dataset, we replace both the scores and the labels with the model's prediction over the dataset's features.\n",
        "\n",
        "When we measure bias metrics with ClassificationMetric, we generally need to pass in two BinaryLabelDataset objects. The first object will be the original dataset, the second will be the dataset which has had some inference run on it."
      ]
    },
    {
      "cell_type": "code",
      "metadata": {
        "id": "1c9b0WLzn--J"
      },
      "source": [
        "aif360_biased_dataset_train = pandas_to_aif360(pd.concat([X_train, y_train], axis=1)) #this is a helper function, you could instead use the below\n",
        "# aif360_biased_dataset = aif360.datasets.BinaryLabelDataset(1,0,df=pd.concat([X_train, y_train], axis=1),label_names=['cardio'],protected_attribute_names=['gender'])\n",
        "aif360_biased_dataset_test = pandas_to_aif360(pd.concat([X_test.drop([\"cardio\"], axis=1), y_test], axis=1))\n",
        "results = {}"
      ],
      "execution_count": null,
      "outputs": []
    },
    {
      "cell_type": "markdown",
      "metadata": {
        "id": "lZayCUIKn--J"
      },
      "source": [
        "### Measure key bias metrics using the original model to predict on the test set\n",
        "\n",
        " - Here we want to measure our key bias metrics (equal opportunity difference and disparate impact), as well as measure accuracy and precision in general, with AIF-360.\n",
        " - This serves both to confirm the manual measurements you already made and to serve as a benchmark for each debiasing method we will try."
      ]
    },
    {
      "cell_type": "code",
      "metadata": {
        "id": "sJPmbZ-vn--J"
      },
      "source": [
        "dataset_pred = aif360_biased_dataset_test.copy()\n",
        "dataset_pred.labels = biased_rf.predict(aif360_biased_dataset_test.features)\n",
        "dataset_pred.scores = biased_rf.predict_proba(aif360_biased_dataset_test.features)[:,1]\n",
        "\n",
        "unprivileged_groups = [{'gender':1.0}] #women\n",
        "privileged_groups = [{'gender':2.0}] #men\n",
        "\n",
        "metric = ClassificationMetric(\n",
        "        aif360_biased_dataset_test, dataset_pred,\n",
        "        unprivileged_groups=unprivileged_groups,\n",
        "        privileged_groups=privileged_groups)\n",
        "\n",
        "results['original_model'] = {'accuracy':metric.accuracy(),\n",
        "                               'precision':metric.precision(),\n",
        "                               'eq_diff': metric.equal_opportunity_difference(),\n",
        "'disparate_impact':metric.disparate_impact()}"
      ],
      "execution_count": null,
      "outputs": []
    },
    {
      "cell_type": "markdown",
      "metadata": {
        "id": "M41zRQyCn--J"
      },
      "source": [
        "## Preprocessing the data using Reweighing\n",
        "\n",
        "Reweighing works by assigning weights to each row in the train dataset, such that the proportion of (group, outcome) is equal. A model can be then trained on the reweighed train dataset and tested on the test dataset without any reweighing. The steps are as follows:\n",
        "\n",
        " - Initialize reweighing object\n",
        " - Using fit_transform, create a reweighed train dataset from aif360_biased_dataset_train\n",
        " - Create a new model (eg RF) and train it on the reweighed train dataset\n",
        " - Use the new model to predict on the test dataset\n",
        " - Using ClassificationMetric, evalutae performance on the test dataset"
      ]
    },
    {
      "cell_type": "code",
      "metadata": {
        "id": "yfr7ZnRDn--J"
      },
      "source": [
        "RW = Reweighing(unprivileged_groups=unprivileged_groups, privileged_groups=privileged_groups) #initialize reweighing object\n",
        "reweighed_dataset = RW.fit_transform(aif360_biased_dataset_train) #create reweighed train dataset\n",
        "\n",
        "#train new model on reweighed dataset\n",
        "reweighed_rf = RandomForestClassifier(random_state=42) \n",
        "reweighed_rf.fit(reweighed_dataset.features, reweighed_dataset.labels.ravel(), sample_weight=reweighed_dataset.instance_weights)\n",
        "\n",
        "#infer on the test dataset using new model\n",
        "reweighing_test = aif360_biased_dataset_test.copy()\n",
        "reweighing_test.scores = reweighed_rf.predict_proba(aif360_biased_dataset_test.features)[:,1]\n",
        "reweighing_test.labels = reweighed_rf.predict(aif360_biased_dataset_test.features) \n",
        "\n",
        "metric = ClassificationMetric(\n",
        "        aif360_biased_dataset_test, reweighing_test,\n",
        "        unprivileged_groups=unprivileged_groups,\n",
        "        privileged_groups=privileged_groups)\n",
        "\n",
        "results['reweigher'] = {'accuracy':metric.accuracy(),\n",
        "                        'precision':metric.precision(),\n",
        "                        'eq_diff': metric.equal_opportunity_difference(),\n",
        "                        'disparate_impact':metric.disparate_impact()} "
      ],
      "execution_count": null,
      "outputs": []
    },
    {
      "cell_type": "markdown",
      "metadata": {
        "id": "jpcXt8hrn--J"
      },
      "source": [
        "## Preprocessing the data using Disparate Impact Remover\n",
        "\n",
        "Disparate Impact Remover works by dividing the training set according to protected class and ensuring that the features in all divisions have similar distributions. A model can be then trained on the altered train dataset and tested on the unchanged test dataset. The steps are as follows:\n",
        "\n",
        " - Initialize Disparate Impact Remover object (you need to pass in the 'sensitive_attribute' and repair level)\n",
        " - Using fit_transform, create an altered train dataset from aif360_biased_dataset_train\n",
        " - Create a new model (eg RF) and train it on the reweighed train dataset\n",
        " - Use the new model to predict on the test dataset\n",
        " - Using ClassificationMetric, evalutae performance on the test dataset\n",
        " \n",
        "This pipeline is very similar to the Reweighing pipeline. Use the Reweighing pipeline code as a guide to implement this part."
      ]
    },
    {
      "cell_type": "code",
      "metadata": {
        "id": "wkC6SClZn--J"
      },
      "source": [
        ""
      ],
      "execution_count": null,
      "outputs": []
    },
    {
      "cell_type": "markdown",
      "metadata": {
        "id": "GOmRb8tcn--J"
      },
      "source": [
        "<!-- ## In-processing debiasing using Prejudice Remover\n",
        "\n",
        "Prejudice Remover trains a model with a regularization term to penalize discrimination along protected-class lines. For this method, the original model is not necessary. The steps are as follows:\n",
        "\n",
        " - Initialize PrejudiceRemover object\n",
        " - Train the PrejudiceRemover on the train dataset\n",
        " - Use the PrejudiceRemover to predict on the test dataset\n",
        " - Using ClassificationMetric, evaluatee performance on the test dataset\n",
        " -->"
      ]
    },
    {
      "cell_type": "markdown",
      "metadata": {
        "id": "TRI47Sbfn--J"
      },
      "source": [
        "## Post-processing debiasing using Calibrated Equal Odds Postprocessing\n",
        "\n",
        "Calibrated Equal Odds Postprocessing adds an additional objective for regions of the model's prediction which carry high differences in odds between the protected and unprotected class members. The steps are as fllows:\n",
        "\n",
        " - Use the original model to predict on both the train and test sets\n",
        " - Initialize the CalibratedEqOddsPostprocessing object \n",
        " - Train the postprocessor on the model's predictions for the train dataset\n",
        " - Run the postprocessor on the model's predictions for the test dataset\n",
        " - Using ClassificationMetric, evaluate the performance of the postprocessor"
      ]
    },
    {
      "cell_type": "code",
      "metadata": {
        "id": "oRq5DA1Hn--J"
      },
      "source": [
        "postprocessor = CalibratedEqOddsPostprocessing(unprivileged_groups, privileged_groups)\n",
        "dataset_pred_train = aif360_biased_dataset_train.copy()\n",
        "dataset_pred_test = aif360_biased_dataset_test.copy()\n",
        "dataset_pred_train.labels = biased_rf.predict(aif360_biased_dataset_train.features)\n",
        "dataset_pred_train.scores = biased_rf.predict_proba(aif360_biased_dataset_train.features)[:,1]\n",
        "dataset_pred_test.labels = biased_rf.predict(aif360_biased_dataset_test.features)\n",
        "dataset_pred_test.scores = biased_rf.predict_proba(aif360_biased_dataset_test.features)[:,1]\n",
        "\n",
        "postprocessor.fit(aif360_biased_dataset_train, dataset_pred_train)\n",
        "\n",
        "postprocessed = postprocessor.predict(dataset_pred_test)\n",
        "\n",
        "metric = ClassificationMetric(\n",
        "        aif360_biased_dataset_test, postprocessed,\n",
        "        unprivileged_groups=unprivileged_groups,\n",
        "        privileged_groups=privileged_groups)\n",
        "\n",
        "results['post-calibration'] = {'accuracy':metric.accuracy(),\n",
        "                               'precision':metric.precision(),\n",
        "                                'eq_diff': metric.equal_opportunity_difference(),\n",
        "                                'disparate_impact':metric.disparate_impact()}\n"
      ],
      "execution_count": null,
      "outputs": []
    },
    {
      "cell_type": "markdown",
      "metadata": {
        "id": "5O8x086Zn--J"
      },
      "source": [
        "## Summarize your results\n",
        "Review the accuracy, precision, equal opportunity difference, and disparate impact for the original model and each debiasing method. Does debiasing make a difference? Is there a large tradeoff between accuracy/precision and the debiasing process? "
      ]
    },
    {
      "cell_type": "code",
      "metadata": {
        "id": "fqHhsUwvn--J",
        "colab": {
          "base_uri": "https://localhost:8080/",
          "height": 143
        },
        "outputId": "0cc91318-224a-4077-e4de-8cd73f40c72f"
      },
      "source": [
        "pd.DataFrame(results).T"
      ],
      "execution_count": null,
      "outputs": [
        {
          "output_type": "execute_result",
          "data": {
            "text/html": [
              "<div>\n",
              "<style scoped>\n",
              "    .dataframe tbody tr th:only-of-type {\n",
              "        vertical-align: middle;\n",
              "    }\n",
              "\n",
              "    .dataframe tbody tr th {\n",
              "        vertical-align: top;\n",
              "    }\n",
              "\n",
              "    .dataframe thead th {\n",
              "        text-align: right;\n",
              "    }\n",
              "</style>\n",
              "<table border=\"1\" class=\"dataframe\">\n",
              "  <thead>\n",
              "    <tr style=\"text-align: right;\">\n",
              "      <th></th>\n",
              "      <th>accuracy</th>\n",
              "      <th>precision</th>\n",
              "      <th>eq_diff</th>\n",
              "      <th>disparate_impact</th>\n",
              "    </tr>\n",
              "  </thead>\n",
              "  <tbody>\n",
              "    <tr>\n",
              "      <th>original_model</th>\n",
              "      <td>0.742897</td>\n",
              "      <td>0.726061</td>\n",
              "      <td>-0.105373</td>\n",
              "      <td>0.666226</td>\n",
              "    </tr>\n",
              "    <tr>\n",
              "      <th>reweigher</th>\n",
              "      <td>0.743028</td>\n",
              "      <td>0.724974</td>\n",
              "      <td>-0.096640</td>\n",
              "      <td>0.678016</td>\n",
              "    </tr>\n",
              "    <tr>\n",
              "      <th>post-calibration</th>\n",
              "      <td>0.740797</td>\n",
              "      <td>0.721932</td>\n",
              "      <td>-0.122962</td>\n",
              "      <td>0.645707</td>\n",
              "    </tr>\n",
              "  </tbody>\n",
              "</table>\n",
              "</div>"
            ],
            "text/plain": [
              "                  accuracy  precision   eq_diff  disparate_impact\n",
              "original_model    0.742897   0.726061 -0.105373          0.666226\n",
              "reweigher         0.743028   0.724974 -0.096640          0.678016\n",
              "post-calibration  0.740797   0.721932 -0.122962          0.645707"
            ]
          },
          "metadata": {
            "tags": []
          },
          "execution_count": 23
        }
      ]
    },
    {
      "cell_type": "markdown",
      "metadata": {
        "id": "tKoB25gAn--J"
      },
      "source": [
        "### 6. Threshold Selection"
      ]
    },
    {
      "cell_type": "markdown",
      "metadata": {
        "id": "JPJ_mWVQn--J"
      },
      "source": [
        "The output of both Reweighing and Disparate Impact Removers is a new classifier object. These classifiers can be fine-tuned further by selecting a threshold.\n",
        "\n",
        "The default threshold for scikit-learn classifiers is 0.5 . The classifier's binary output represents an expected probability either below or above/equal this theshold. We can manipulate the threshold if we see that a different threshold shows improved results.\n",
        "\n",
        "When debiasing, threshold selection is especially important, because it gives data scientists a sense of how much model performance could be sacrificed to reach a certain bias measure (eg >0.8 Disparate Impact). If the sacrifice to model performance is low, an alternate threshold with better bias metrics could be chosen. \n",
        "\n",
        "Below you are provided some sample code which evaluates each percentage threshold from 0% to 100% for the original biased model and Reweighing model. You are asked to do the following:\n",
        "\n",
        " - Run the code to evaluate each percentage threshold\n",
        " - Add additional code to evaluate the percentage thresholds for the Reweighing model\n",
        " - Observe the shifts in accuracy, precision, disparate impact and average odds difference across each threshold\n",
        " - Is it possible to say which model, provides the best performance and at which threshold? Would you recommend a non-default threshold for your preferred model? Refer to the resource on impossibility for an explanation of why one threshold will not maximize all metrics."
      ]
    },
    {
      "cell_type": "code",
      "metadata": {
        "id": "IcwVxp3Qn--J",
        "colab": {
          "base_uri": "https://localhost:8080/",
          "height": 1000
        },
        "outputId": "efb8394e-fb4c-4dea-f3a2-0c501b8435d1"
      },
      "source": [
        "reports = []\n",
        "pd.set_option('display.max_rows', 1000)\n",
        "for thresh in np.linspace(0,1,101):\n",
        "    #apply new threshold\n",
        "    dataset_pred.labels = dataset_pred.scores>=thresh \n",
        "    reweighing_test.labels = reweighing_test.scores>=thresh\n",
        "    \n",
        "    #get bias and acccuracy metrics\n",
        "    metric_original_rf = ClassificationMetric(\n",
        "        aif360_biased_dataset_test, dataset_pred,\n",
        "        unprivileged_groups=unprivileged_groups,\n",
        "        privileged_groups=privileged_groups)\n",
        "    \n",
        "    metric_reweighed_rf = ClassificationMetric(\n",
        "        aif360_biased_dataset_test, reweighing_test,\n",
        "        unprivileged_groups=unprivileged_groups,\n",
        "        privileged_groups=privileged_groups)\n",
        "\n",
        "    #record metrics\n",
        "    reports.append((thresh, \n",
        "          metric_original_rf.accuracy(), \n",
        "          metric_original_rf.average_odds_difference(),\n",
        "          metric_original_rf.disparate_impact(),\n",
        "          metric_reweighed_rf.accuracy(), \n",
        "          metric_reweighed_rf.average_odds_difference(),\n",
        "          metric_reweighed_rf.disparate_impact()))\n",
        "\n",
        "report_df = pd.DataFrame(reports)\n",
        "report_df.columns = ['threshhold','accuracy_original',\n",
        "                     'average_odds_difference_original',\n",
        "                     'disparate_impact_original',\n",
        "                     'accuracy_reweighed',\n",
        "                     'average_odds_difference_reweighed',\n",
        "                     'disparate_impact_reweighed']\n",
        "display(report_df.set_index('threshhold'))"
      ],
      "execution_count": null,
      "outputs": [
        {
          "output_type": "stream",
          "text": [
            "invalid value encountered in double_scalars\n"
          ],
          "name": "stderr"
        },
        {
          "output_type": "display_data",
          "data": {
            "text/html": [
              "<div>\n",
              "<style scoped>\n",
              "    .dataframe tbody tr th:only-of-type {\n",
              "        vertical-align: middle;\n",
              "    }\n",
              "\n",
              "    .dataframe tbody tr th {\n",
              "        vertical-align: top;\n",
              "    }\n",
              "\n",
              "    .dataframe thead th {\n",
              "        text-align: right;\n",
              "    }\n",
              "</style>\n",
              "<table border=\"1\" class=\"dataframe\">\n",
              "  <thead>\n",
              "    <tr style=\"text-align: right;\">\n",
              "      <th></th>\n",
              "      <th>accuracy_original</th>\n",
              "      <th>average_odds_difference_original</th>\n",
              "      <th>disparate_impact_original</th>\n",
              "      <th>accuracy_reweighed</th>\n",
              "      <th>average_odds_difference_reweighed</th>\n",
              "      <th>disparate_impact_reweighed</th>\n",
              "    </tr>\n",
              "    <tr>\n",
              "      <th>threshhold</th>\n",
              "      <th></th>\n",
              "      <th></th>\n",
              "      <th></th>\n",
              "      <th></th>\n",
              "      <th></th>\n",
              "      <th></th>\n",
              "    </tr>\n",
              "  </thead>\n",
              "  <tbody>\n",
              "    <tr>\n",
              "      <th>0.00</th>\n",
              "      <td>0.426275</td>\n",
              "      <td>0.000000</td>\n",
              "      <td>1.000000</td>\n",
              "      <td>0.426275</td>\n",
              "      <td>0.000000</td>\n",
              "      <td>1.000000</td>\n",
              "    </tr>\n",
              "    <tr>\n",
              "      <th>0.01</th>\n",
              "      <td>0.429096</td>\n",
              "      <td>-0.004007</td>\n",
              "      <td>0.995044</td>\n",
              "      <td>0.429162</td>\n",
              "      <td>-0.004022</td>\n",
              "      <td>0.994985</td>\n",
              "    </tr>\n",
              "    <tr>\n",
              "      <th>0.02</th>\n",
              "      <td>0.434674</td>\n",
              "      <td>-0.011599</td>\n",
              "      <td>0.985760</td>\n",
              "      <td>0.433624</td>\n",
              "      <td>-0.010368</td>\n",
              "      <td>0.987153</td>\n",
              "    </tr>\n",
              "    <tr>\n",
              "      <th>0.03</th>\n",
              "      <td>0.440843</td>\n",
              "      <td>-0.019421</td>\n",
              "      <td>0.976004</td>\n",
              "      <td>0.440383</td>\n",
              "      <td>-0.016498</td>\n",
              "      <td>0.979155</td>\n",
              "    </tr>\n",
              "    <tr>\n",
              "      <th>0.04</th>\n",
              "      <td>0.450095</td>\n",
              "      <td>-0.030722</td>\n",
              "      <td>0.961792</td>\n",
              "      <td>0.448651</td>\n",
              "      <td>-0.026297</td>\n",
              "      <td>0.966971</td>\n",
              "    </tr>\n",
              "    <tr>\n",
              "      <th>0.05</th>\n",
              "      <td>0.458363</td>\n",
              "      <td>-0.039668</td>\n",
              "      <td>0.950284</td>\n",
              "      <td>0.458232</td>\n",
              "      <td>-0.036678</td>\n",
              "      <td>0.953717</td>\n",
              "    </tr>\n",
              "    <tr>\n",
              "      <th>0.06</th>\n",
              "      <td>0.468600</td>\n",
              "      <td>-0.049528</td>\n",
              "      <td>0.937365</td>\n",
              "      <td>0.467682</td>\n",
              "      <td>-0.044973</td>\n",
              "      <td>0.942582</td>\n",
              "    </tr>\n",
              "    <tr>\n",
              "      <th>0.07</th>\n",
              "      <td>0.478115</td>\n",
              "      <td>-0.058514</td>\n",
              "      <td>0.925386</td>\n",
              "      <td>0.476934</td>\n",
              "      <td>-0.054901</td>\n",
              "      <td>0.929643</td>\n",
              "    </tr>\n",
              "    <tr>\n",
              "      <th>0.08</th>\n",
              "      <td>0.488287</td>\n",
              "      <td>-0.065920</td>\n",
              "      <td>0.914692</td>\n",
              "      <td>0.487696</td>\n",
              "      <td>-0.059862</td>\n",
              "      <td>0.921114</td>\n",
              "    </tr>\n",
              "    <tr>\n",
              "      <th>0.09</th>\n",
              "      <td>0.497999</td>\n",
              "      <td>-0.075241</td>\n",
              "      <td>0.902031</td>\n",
              "      <td>0.500098</td>\n",
              "      <td>-0.065729</td>\n",
              "      <td>0.911186</td>\n",
              "    </tr>\n",
              "    <tr>\n",
              "      <th>0.10</th>\n",
              "      <td>0.509285</td>\n",
              "      <td>-0.085456</td>\n",
              "      <td>0.887678</td>\n",
              "      <td>0.510335</td>\n",
              "      <td>-0.075046</td>\n",
              "      <td>0.898214</td>\n",
              "    </tr>\n",
              "    <tr>\n",
              "      <th>0.11</th>\n",
              "      <td>0.519654</td>\n",
              "      <td>-0.092094</td>\n",
              "      <td>0.877206</td>\n",
              "      <td>0.522213</td>\n",
              "      <td>-0.082483</td>\n",
              "      <td>0.886204</td>\n",
              "    </tr>\n",
              "    <tr>\n",
              "      <th>0.12</th>\n",
              "      <td>0.531990</td>\n",
              "      <td>-0.104277</td>\n",
              "      <td>0.859840</td>\n",
              "      <td>0.532122</td>\n",
              "      <td>-0.088242</td>\n",
              "      <td>0.876460</td>\n",
              "    </tr>\n",
              "    <tr>\n",
              "      <th>0.13</th>\n",
              "      <td>0.543474</td>\n",
              "      <td>-0.110692</td>\n",
              "      <td>0.848525</td>\n",
              "      <td>0.544590</td>\n",
              "      <td>-0.093044</td>\n",
              "      <td>0.866732</td>\n",
              "    </tr>\n",
              "    <tr>\n",
              "      <th>0.14</th>\n",
              "      <td>0.553580</td>\n",
              "      <td>-0.117347</td>\n",
              "      <td>0.837282</td>\n",
              "      <td>0.553908</td>\n",
              "      <td>-0.101687</td>\n",
              "      <td>0.853700</td>\n",
              "    </tr>\n",
              "    <tr>\n",
              "      <th>0.15</th>\n",
              "      <td>0.564407</td>\n",
              "      <td>-0.123902</td>\n",
              "      <td>0.825523</td>\n",
              "      <td>0.565523</td>\n",
              "      <td>-0.105376</td>\n",
              "      <td>0.844742</td>\n",
              "    </tr>\n",
              "    <tr>\n",
              "      <th>0.16</th>\n",
              "      <td>0.575169</td>\n",
              "      <td>-0.127076</td>\n",
              "      <td>0.817106</td>\n",
              "      <td>0.575628</td>\n",
              "      <td>-0.110984</td>\n",
              "      <td>0.833994</td>\n",
              "    </tr>\n",
              "    <tr>\n",
              "      <th>0.17</th>\n",
              "      <td>0.584750</td>\n",
              "      <td>-0.133568</td>\n",
              "      <td>0.805325</td>\n",
              "      <td>0.585471</td>\n",
              "      <td>-0.115260</td>\n",
              "      <td>0.824302</td>\n",
              "    </tr>\n",
              "    <tr>\n",
              "      <th>0.18</th>\n",
              "      <td>0.593609</td>\n",
              "      <td>-0.137324</td>\n",
              "      <td>0.796328</td>\n",
              "      <td>0.595315</td>\n",
              "      <td>-0.118169</td>\n",
              "      <td>0.815974</td>\n",
              "    </tr>\n",
              "    <tr>\n",
              "      <th>0.19</th>\n",
              "      <td>0.603977</td>\n",
              "      <td>-0.140301</td>\n",
              "      <td>0.787114</td>\n",
              "      <td>0.604239</td>\n",
              "      <td>-0.120208</td>\n",
              "      <td>0.808693</td>\n",
              "    </tr>\n",
              "    <tr>\n",
              "      <th>0.20</th>\n",
              "      <td>0.614804</td>\n",
              "      <td>-0.144562</td>\n",
              "      <td>0.776527</td>\n",
              "      <td>0.612442</td>\n",
              "      <td>-0.124747</td>\n",
              "      <td>0.798724</td>\n",
              "    </tr>\n",
              "    <tr>\n",
              "      <th>0.21</th>\n",
              "      <td>0.623860</td>\n",
              "      <td>-0.148006</td>\n",
              "      <td>0.766707</td>\n",
              "      <td>0.622482</td>\n",
              "      <td>-0.127250</td>\n",
              "      <td>0.790238</td>\n",
              "    </tr>\n",
              "    <tr>\n",
              "      <th>0.22</th>\n",
              "      <td>0.633178</td>\n",
              "      <td>-0.148791</td>\n",
              "      <td>0.759634</td>\n",
              "      <td>0.630816</td>\n",
              "      <td>-0.128866</td>\n",
              "      <td>0.782976</td>\n",
              "    </tr>\n",
              "    <tr>\n",
              "      <th>0.23</th>\n",
              "      <td>0.639937</td>\n",
              "      <td>-0.149556</td>\n",
              "      <td>0.753620</td>\n",
              "      <td>0.638296</td>\n",
              "      <td>-0.130589</td>\n",
              "      <td>0.775416</td>\n",
              "    </tr>\n",
              "    <tr>\n",
              "      <th>0.24</th>\n",
              "      <td>0.647483</td>\n",
              "      <td>-0.153634</td>\n",
              "      <td>0.743002</td>\n",
              "      <td>0.647155</td>\n",
              "      <td>-0.129803</td>\n",
              "      <td>0.770086</td>\n",
              "    </tr>\n",
              "    <tr>\n",
              "      <th>0.25</th>\n",
              "      <td>0.654899</td>\n",
              "      <td>-0.152341</td>\n",
              "      <td>0.738409</td>\n",
              "      <td>0.654571</td>\n",
              "      <td>-0.129245</td>\n",
              "      <td>0.764533</td>\n",
              "    </tr>\n",
              "    <tr>\n",
              "      <th>0.26</th>\n",
              "      <td>0.661789</td>\n",
              "      <td>-0.151380</td>\n",
              "      <td>0.733386</td>\n",
              "      <td>0.660805</td>\n",
              "      <td>-0.130661</td>\n",
              "      <td>0.757000</td>\n",
              "    </tr>\n",
              "    <tr>\n",
              "      <th>0.27</th>\n",
              "      <td>0.668810</td>\n",
              "      <td>-0.148788</td>\n",
              "      <td>0.730232</td>\n",
              "      <td>0.668482</td>\n",
              "      <td>-0.132157</td>\n",
              "      <td>0.749004</td>\n",
              "    </tr>\n",
              "    <tr>\n",
              "      <th>0.28</th>\n",
              "      <td>0.676225</td>\n",
              "      <td>-0.143852</td>\n",
              "      <td>0.728393</td>\n",
              "      <td>0.673732</td>\n",
              "      <td>-0.133663</td>\n",
              "      <td>0.741688</td>\n",
              "    </tr>\n",
              "    <tr>\n",
              "      <th>0.29</th>\n",
              "      <td>0.681213</td>\n",
              "      <td>-0.145826</td>\n",
              "      <td>0.720648</td>\n",
              "      <td>0.680031</td>\n",
              "      <td>-0.129621</td>\n",
              "      <td>0.740603</td>\n",
              "    </tr>\n",
              "    <tr>\n",
              "      <th>0.30</th>\n",
              "      <td>0.686659</td>\n",
              "      <td>-0.144232</td>\n",
              "      <td>0.716097</td>\n",
              "      <td>0.685216</td>\n",
              "      <td>-0.127755</td>\n",
              "      <td>0.737222</td>\n",
              "    </tr>\n",
              "    <tr>\n",
              "      <th>0.31</th>\n",
              "      <td>0.690531</td>\n",
              "      <td>-0.143627</td>\n",
              "      <td>0.711824</td>\n",
              "      <td>0.692106</td>\n",
              "      <td>-0.123991</td>\n",
              "      <td>0.735176</td>\n",
              "    </tr>\n",
              "    <tr>\n",
              "      <th>0.32</th>\n",
              "      <td>0.695715</td>\n",
              "      <td>-0.142016</td>\n",
              "      <td>0.708142</td>\n",
              "      <td>0.697487</td>\n",
              "      <td>-0.122301</td>\n",
              "      <td>0.730806</td>\n",
              "    </tr>\n",
              "    <tr>\n",
              "      <th>0.33</th>\n",
              "      <td>0.699915</td>\n",
              "      <td>-0.144497</td>\n",
              "      <td>0.699217</td>\n",
              "      <td>0.702671</td>\n",
              "      <td>-0.122627</td>\n",
              "      <td>0.724575</td>\n",
              "    </tr>\n",
              "    <tr>\n",
              "      <th>0.34</th>\n",
              "      <td>0.703524</td>\n",
              "      <td>-0.141586</td>\n",
              "      <td>0.697119</td>\n",
              "      <td>0.706542</td>\n",
              "      <td>-0.120917</td>\n",
              "      <td>0.721287</td>\n",
              "    </tr>\n",
              "    <tr>\n",
              "      <th>0.35</th>\n",
              "      <td>0.712580</td>\n",
              "      <td>-0.134824</td>\n",
              "      <td>0.693061</td>\n",
              "      <td>0.714220</td>\n",
              "      <td>-0.120083</td>\n",
              "      <td>0.711100</td>\n",
              "    </tr>\n",
              "    <tr>\n",
              "      <th>0.36</th>\n",
              "      <td>0.712580</td>\n",
              "      <td>-0.134824</td>\n",
              "      <td>0.693061</td>\n",
              "      <td>0.714220</td>\n",
              "      <td>-0.120083</td>\n",
              "      <td>0.711100</td>\n",
              "    </tr>\n",
              "    <tr>\n",
              "      <th>0.37</th>\n",
              "      <td>0.716714</td>\n",
              "      <td>-0.134089</td>\n",
              "      <td>0.687531</td>\n",
              "      <td>0.719142</td>\n",
              "      <td>-0.117322</td>\n",
              "      <td>0.708356</td>\n",
              "    </tr>\n",
              "    <tr>\n",
              "      <th>0.38</th>\n",
              "      <td>0.719995</td>\n",
              "      <td>-0.131956</td>\n",
              "      <td>0.684456</td>\n",
              "      <td>0.721635</td>\n",
              "      <td>-0.114683</td>\n",
              "      <td>0.706445</td>\n",
              "    </tr>\n",
              "    <tr>\n",
              "      <th>0.39</th>\n",
              "      <td>0.722160</td>\n",
              "      <td>-0.128500</td>\n",
              "      <td>0.683289</td>\n",
              "      <td>0.724391</td>\n",
              "      <td>-0.112021</td>\n",
              "      <td>0.704750</td>\n",
              "    </tr>\n",
              "    <tr>\n",
              "      <th>0.40</th>\n",
              "      <td>0.724391</td>\n",
              "      <td>-0.126790</td>\n",
              "      <td>0.681119</td>\n",
              "      <td>0.727738</td>\n",
              "      <td>-0.110213</td>\n",
              "      <td>0.702727</td>\n",
              "    </tr>\n",
              "    <tr>\n",
              "      <th>0.41</th>\n",
              "      <td>0.730757</td>\n",
              "      <td>-0.120938</td>\n",
              "      <td>0.677515</td>\n",
              "      <td>0.732266</td>\n",
              "      <td>-0.111617</td>\n",
              "      <td>0.689942</td>\n",
              "    </tr>\n",
              "    <tr>\n",
              "      <th>0.42</th>\n",
              "      <td>0.730757</td>\n",
              "      <td>-0.120938</td>\n",
              "      <td>0.677515</td>\n",
              "      <td>0.732266</td>\n",
              "      <td>-0.111617</td>\n",
              "      <td>0.689942</td>\n",
              "    </tr>\n",
              "    <tr>\n",
              "      <th>0.43</th>\n",
              "      <td>0.732725</td>\n",
              "      <td>-0.116980</td>\n",
              "      <td>0.677492</td>\n",
              "      <td>0.734891</td>\n",
              "      <td>-0.110492</td>\n",
              "      <td>0.686126</td>\n",
              "    </tr>\n",
              "    <tr>\n",
              "      <th>0.44</th>\n",
              "      <td>0.737253</td>\n",
              "      <td>-0.116275</td>\n",
              "      <td>0.671165</td>\n",
              "      <td>0.737253</td>\n",
              "      <td>-0.107248</td>\n",
              "      <td>0.684657</td>\n",
              "    </tr>\n",
              "    <tr>\n",
              "      <th>0.45</th>\n",
              "      <td>0.739419</td>\n",
              "      <td>-0.114114</td>\n",
              "      <td>0.669175</td>\n",
              "      <td>0.738631</td>\n",
              "      <td>-0.103866</td>\n",
              "      <td>0.684584</td>\n",
              "    </tr>\n",
              "    <tr>\n",
              "      <th>0.46</th>\n",
              "      <td>0.740272</td>\n",
              "      <td>-0.113663</td>\n",
              "      <td>0.664565</td>\n",
              "      <td>0.738631</td>\n",
              "      <td>-0.099915</td>\n",
              "      <td>0.686011</td>\n",
              "    </tr>\n",
              "    <tr>\n",
              "      <th>0.47</th>\n",
              "      <td>0.741715</td>\n",
              "      <td>-0.105270</td>\n",
              "      <td>0.666989</td>\n",
              "      <td>0.740534</td>\n",
              "      <td>-0.096897</td>\n",
              "      <td>0.680280</td>\n",
              "    </tr>\n",
              "    <tr>\n",
              "      <th>0.48</th>\n",
              "      <td>0.741715</td>\n",
              "      <td>-0.105270</td>\n",
              "      <td>0.666989</td>\n",
              "      <td>0.740534</td>\n",
              "      <td>-0.096897</td>\n",
              "      <td>0.680280</td>\n",
              "    </tr>\n",
              "    <tr>\n",
              "      <th>0.49</th>\n",
              "      <td>0.741781</td>\n",
              "      <td>-0.100599</td>\n",
              "      <td>0.669654</td>\n",
              "      <td>0.741059</td>\n",
              "      <td>-0.095025</td>\n",
              "      <td>0.678489</td>\n",
              "    </tr>\n",
              "    <tr>\n",
              "      <th>0.50</th>\n",
              "      <td>0.742831</td>\n",
              "      <td>-0.100197</td>\n",
              "      <td>0.665330</td>\n",
              "      <td>0.742175</td>\n",
              "      <td>-0.091517</td>\n",
              "      <td>0.680119</td>\n",
              "    </tr>\n",
              "    <tr>\n",
              "      <th>0.51</th>\n",
              "      <td>0.742897</td>\n",
              "      <td>-0.096931</td>\n",
              "      <td>0.666226</td>\n",
              "      <td>0.743028</td>\n",
              "      <td>-0.090492</td>\n",
              "      <td>0.678016</td>\n",
              "    </tr>\n",
              "    <tr>\n",
              "      <th>0.52</th>\n",
              "      <td>0.742043</td>\n",
              "      <td>-0.095266</td>\n",
              "      <td>0.665284</td>\n",
              "      <td>0.742897</td>\n",
              "      <td>-0.089012</td>\n",
              "      <td>0.675586</td>\n",
              "    </tr>\n",
              "    <tr>\n",
              "      <th>0.53</th>\n",
              "      <td>0.740862</td>\n",
              "      <td>-0.093441</td>\n",
              "      <td>0.664016</td>\n",
              "      <td>0.741847</td>\n",
              "      <td>-0.088242</td>\n",
              "      <td>0.671548</td>\n",
              "    </tr>\n",
              "    <tr>\n",
              "      <th>0.54</th>\n",
              "      <td>0.740469</td>\n",
              "      <td>-0.089906</td>\n",
              "      <td>0.665720</td>\n",
              "      <td>0.741781</td>\n",
              "      <td>-0.089117</td>\n",
              "      <td>0.665160</td>\n",
              "    </tr>\n",
              "    <tr>\n",
              "      <th>0.55</th>\n",
              "      <td>0.739419</td>\n",
              "      <td>-0.091365</td>\n",
              "      <td>0.658885</td>\n",
              "      <td>0.740928</td>\n",
              "      <td>-0.084252</td>\n",
              "      <td>0.669731</td>\n",
              "    </tr>\n",
              "    <tr>\n",
              "      <th>0.56</th>\n",
              "      <td>0.739353</td>\n",
              "      <td>-0.089331</td>\n",
              "      <td>0.657140</td>\n",
              "      <td>0.741453</td>\n",
              "      <td>-0.082803</td>\n",
              "      <td>0.666922</td>\n",
              "    </tr>\n",
              "    <tr>\n",
              "      <th>0.57</th>\n",
              "      <td>0.738828</td>\n",
              "      <td>-0.087381</td>\n",
              "      <td>0.650806</td>\n",
              "      <td>0.740075</td>\n",
              "      <td>-0.081055</td>\n",
              "      <td>0.661211</td>\n",
              "    </tr>\n",
              "    <tr>\n",
              "      <th>0.58</th>\n",
              "      <td>0.738828</td>\n",
              "      <td>-0.087381</td>\n",
              "      <td>0.650806</td>\n",
              "      <td>0.740075</td>\n",
              "      <td>-0.081055</td>\n",
              "      <td>0.661211</td>\n",
              "    </tr>\n",
              "    <tr>\n",
              "      <th>0.59</th>\n",
              "      <td>0.738500</td>\n",
              "      <td>-0.089155</td>\n",
              "      <td>0.641732</td>\n",
              "      <td>0.738828</td>\n",
              "      <td>-0.078346</td>\n",
              "      <td>0.662248</td>\n",
              "    </tr>\n",
              "    <tr>\n",
              "      <th>0.60</th>\n",
              "      <td>0.737253</td>\n",
              "      <td>-0.088429</td>\n",
              "      <td>0.637830</td>\n",
              "      <td>0.737056</td>\n",
              "      <td>-0.078108</td>\n",
              "      <td>0.657599</td>\n",
              "    </tr>\n",
              "    <tr>\n",
              "      <th>0.61</th>\n",
              "      <td>0.736466</td>\n",
              "      <td>-0.088268</td>\n",
              "      <td>0.632470</td>\n",
              "      <td>0.735678</td>\n",
              "      <td>-0.079300</td>\n",
              "      <td>0.651152</td>\n",
              "    </tr>\n",
              "    <tr>\n",
              "      <th>0.62</th>\n",
              "      <td>0.734169</td>\n",
              "      <td>-0.088365</td>\n",
              "      <td>0.627676</td>\n",
              "      <td>0.734628</td>\n",
              "      <td>-0.079338</td>\n",
              "      <td>0.646504</td>\n",
              "    </tr>\n",
              "    <tr>\n",
              "      <th>0.63</th>\n",
              "      <td>0.731675</td>\n",
              "      <td>-0.088541</td>\n",
              "      <td>0.623047</td>\n",
              "      <td>0.732594</td>\n",
              "      <td>-0.079998</td>\n",
              "      <td>0.640089</td>\n",
              "    </tr>\n",
              "    <tr>\n",
              "      <th>0.64</th>\n",
              "      <td>0.729575</td>\n",
              "      <td>-0.089566</td>\n",
              "      <td>0.614909</td>\n",
              "      <td>0.730625</td>\n",
              "      <td>-0.079055</td>\n",
              "      <td>0.638125</td>\n",
              "    </tr>\n",
              "    <tr>\n",
              "      <th>0.65</th>\n",
              "      <td>0.726754</td>\n",
              "      <td>-0.091702</td>\n",
              "      <td>0.605291</td>\n",
              "      <td>0.727804</td>\n",
              "      <td>-0.080335</td>\n",
              "      <td>0.631306</td>\n",
              "    </tr>\n",
              "    <tr>\n",
              "      <th>0.66</th>\n",
              "      <td>0.724195</td>\n",
              "      <td>-0.094066</td>\n",
              "      <td>0.594674</td>\n",
              "      <td>0.724785</td>\n",
              "      <td>-0.080704</td>\n",
              "      <td>0.625603</td>\n",
              "    </tr>\n",
              "    <tr>\n",
              "      <th>0.67</th>\n",
              "      <td>0.721504</td>\n",
              "      <td>-0.091189</td>\n",
              "      <td>0.593719</td>\n",
              "      <td>0.722816</td>\n",
              "      <td>-0.081250</td>\n",
              "      <td>0.617738</td>\n",
              "    </tr>\n",
              "    <tr>\n",
              "      <th>0.68</th>\n",
              "      <td>0.718157</td>\n",
              "      <td>-0.094427</td>\n",
              "      <td>0.580074</td>\n",
              "      <td>0.718814</td>\n",
              "      <td>-0.084287</td>\n",
              "      <td>0.605020</td>\n",
              "    </tr>\n",
              "    <tr>\n",
              "      <th>0.69</th>\n",
              "      <td>0.709955</td>\n",
              "      <td>-0.104234</td>\n",
              "      <td>0.543704</td>\n",
              "      <td>0.710873</td>\n",
              "      <td>-0.085354</td>\n",
              "      <td>0.588931</td>\n",
              "    </tr>\n",
              "    <tr>\n",
              "      <th>0.70</th>\n",
              "      <td>0.705952</td>\n",
              "      <td>-0.103603</td>\n",
              "      <td>0.536050</td>\n",
              "      <td>0.706805</td>\n",
              "      <td>-0.086728</td>\n",
              "      <td>0.577972</td>\n",
              "    </tr>\n",
              "    <tr>\n",
              "      <th>0.71</th>\n",
              "      <td>0.705952</td>\n",
              "      <td>-0.103603</td>\n",
              "      <td>0.536050</td>\n",
              "      <td>0.706805</td>\n",
              "      <td>-0.086728</td>\n",
              "      <td>0.577972</td>\n",
              "    </tr>\n",
              "    <tr>\n",
              "      <th>0.72</th>\n",
              "      <td>0.701161</td>\n",
              "      <td>-0.105300</td>\n",
              "      <td>0.523406</td>\n",
              "      <td>0.701227</td>\n",
              "      <td>-0.090934</td>\n",
              "      <td>0.558284</td>\n",
              "    </tr>\n",
              "    <tr>\n",
              "      <th>0.73</th>\n",
              "      <td>0.696437</td>\n",
              "      <td>-0.105788</td>\n",
              "      <td>0.510799</td>\n",
              "      <td>0.697027</td>\n",
              "      <td>-0.094174</td>\n",
              "      <td>0.540511</td>\n",
              "    </tr>\n",
              "    <tr>\n",
              "      <th>0.74</th>\n",
              "      <td>0.690793</td>\n",
              "      <td>-0.106002</td>\n",
              "      <td>0.497612</td>\n",
              "      <td>0.692500</td>\n",
              "      <td>-0.093909</td>\n",
              "      <td>0.529801</td>\n",
              "    </tr>\n",
              "    <tr>\n",
              "      <th>0.75</th>\n",
              "      <td>0.684428</td>\n",
              "      <td>-0.107861</td>\n",
              "      <td>0.478835</td>\n",
              "      <td>0.686200</td>\n",
              "      <td>-0.095385</td>\n",
              "      <td>0.512067</td>\n",
              "    </tr>\n",
              "    <tr>\n",
              "      <th>0.76</th>\n",
              "      <td>0.679244</td>\n",
              "      <td>-0.111430</td>\n",
              "      <td>0.454640</td>\n",
              "      <td>0.680819</td>\n",
              "      <td>-0.092387</td>\n",
              "      <td>0.503453</td>\n",
              "    </tr>\n",
              "    <tr>\n",
              "      <th>0.77</th>\n",
              "      <td>0.673535</td>\n",
              "      <td>-0.113678</td>\n",
              "      <td>0.429498</td>\n",
              "      <td>0.674388</td>\n",
              "      <td>-0.091449</td>\n",
              "      <td>0.486961</td>\n",
              "    </tr>\n",
              "    <tr>\n",
              "      <th>0.78</th>\n",
              "      <td>0.667432</td>\n",
              "      <td>-0.111218</td>\n",
              "      <td>0.416868</td>\n",
              "      <td>0.666973</td>\n",
              "      <td>-0.092609</td>\n",
              "      <td>0.464469</td>\n",
              "    </tr>\n",
              "    <tr>\n",
              "      <th>0.79</th>\n",
              "      <td>0.662051</td>\n",
              "      <td>-0.108895</td>\n",
              "      <td>0.397488</td>\n",
              "      <td>0.660805</td>\n",
              "      <td>-0.092872</td>\n",
              "      <td>0.441769</td>\n",
              "    </tr>\n",
              "    <tr>\n",
              "      <th>0.80</th>\n",
              "      <td>0.653521</td>\n",
              "      <td>-0.108729</td>\n",
              "      <td>0.371722</td>\n",
              "      <td>0.654111</td>\n",
              "      <td>-0.092006</td>\n",
              "      <td>0.420262</td>\n",
              "    </tr>\n",
              "    <tr>\n",
              "      <th>0.81</th>\n",
              "      <td>0.647877</td>\n",
              "      <td>-0.105730</td>\n",
              "      <td>0.348954</td>\n",
              "      <td>0.647549</td>\n",
              "      <td>-0.089552</td>\n",
              "      <td>0.399038</td>\n",
              "    </tr>\n",
              "    <tr>\n",
              "      <th>0.82</th>\n",
              "      <td>0.635015</td>\n",
              "      <td>-0.097938</td>\n",
              "      <td>0.309159</td>\n",
              "      <td>0.632456</td>\n",
              "      <td>-0.081628</td>\n",
              "      <td>0.357218</td>\n",
              "    </tr>\n",
              "    <tr>\n",
              "      <th>0.83</th>\n",
              "      <td>0.629503</td>\n",
              "      <td>-0.096467</td>\n",
              "      <td>0.276033</td>\n",
              "      <td>0.626616</td>\n",
              "      <td>-0.079030</td>\n",
              "      <td>0.328142</td>\n",
              "    </tr>\n",
              "    <tr>\n",
              "      <th>0.84</th>\n",
              "      <td>0.629503</td>\n",
              "      <td>-0.096467</td>\n",
              "      <td>0.276033</td>\n",
              "      <td>0.626616</td>\n",
              "      <td>-0.079030</td>\n",
              "      <td>0.328142</td>\n",
              "    </tr>\n",
              "    <tr>\n",
              "      <th>0.85</th>\n",
              "      <td>0.622810</td>\n",
              "      <td>-0.090219</td>\n",
              "      <td>0.249617</td>\n",
              "      <td>0.619726</td>\n",
              "      <td>-0.072568</td>\n",
              "      <td>0.310007</td>\n",
              "    </tr>\n",
              "    <tr>\n",
              "      <th>0.86</th>\n",
              "      <td>0.616051</td>\n",
              "      <td>-0.081278</td>\n",
              "      <td>0.228412</td>\n",
              "      <td>0.612048</td>\n",
              "      <td>-0.066923</td>\n",
              "      <td>0.281637</td>\n",
              "    </tr>\n",
              "    <tr>\n",
              "      <th>0.87</th>\n",
              "      <td>0.610211</td>\n",
              "      <td>-0.072656</td>\n",
              "      <td>0.208337</td>\n",
              "      <td>0.605486</td>\n",
              "      <td>-0.055256</td>\n",
              "      <td>0.278920</td>\n",
              "    </tr>\n",
              "    <tr>\n",
              "      <th>0.88</th>\n",
              "      <td>0.603911</td>\n",
              "      <td>-0.061725</td>\n",
              "      <td>0.205923</td>\n",
              "      <td>0.599908</td>\n",
              "      <td>-0.047609</td>\n",
              "      <td>0.268632</td>\n",
              "    </tr>\n",
              "    <tr>\n",
              "      <th>0.89</th>\n",
              "      <td>0.598727</td>\n",
              "      <td>-0.053977</td>\n",
              "      <td>0.179461</td>\n",
              "      <td>0.594724</td>\n",
              "      <td>-0.041215</td>\n",
              "      <td>0.245883</td>\n",
              "    </tr>\n",
              "    <tr>\n",
              "      <th>0.90</th>\n",
              "      <td>0.593805</td>\n",
              "      <td>-0.045889</td>\n",
              "      <td>0.145807</td>\n",
              "      <td>0.589671</td>\n",
              "      <td>-0.034940</td>\n",
              "      <td>0.217758</td>\n",
              "    </tr>\n",
              "    <tr>\n",
              "      <th>0.91</th>\n",
              "      <td>0.589737</td>\n",
              "      <td>-0.035532</td>\n",
              "      <td>0.149667</td>\n",
              "      <td>0.585471</td>\n",
              "      <td>-0.026934</td>\n",
              "      <td>0.192084</td>\n",
              "    </tr>\n",
              "    <tr>\n",
              "      <th>0.92</th>\n",
              "      <td>0.585471</td>\n",
              "      <td>-0.027748</td>\n",
              "      <td>0.131109</td>\n",
              "      <td>0.582125</td>\n",
              "      <td>-0.020047</td>\n",
              "      <td>0.168542</td>\n",
              "    </tr>\n",
              "    <tr>\n",
              "      <th>0.93</th>\n",
              "      <td>0.582125</td>\n",
              "      <td>-0.020875</td>\n",
              "      <td>0.108558</td>\n",
              "      <td>0.579828</td>\n",
              "      <td>-0.015303</td>\n",
              "      <td>0.136888</td>\n",
              "    </tr>\n",
              "    <tr>\n",
              "      <th>0.94</th>\n",
              "      <td>0.576875</td>\n",
              "      <td>-0.008411</td>\n",
              "      <td>0.113081</td>\n",
              "      <td>0.576153</td>\n",
              "      <td>-0.007191</td>\n",
              "      <td>0.094988</td>\n",
              "    </tr>\n",
              "    <tr>\n",
              "      <th>0.95</th>\n",
              "      <td>0.575300</td>\n",
              "      <td>-0.004912</td>\n",
              "      <td>0.042406</td>\n",
              "      <td>0.575169</td>\n",
              "      <td>-0.003722</td>\n",
              "      <td>0.125646</td>\n",
              "    </tr>\n",
              "    <tr>\n",
              "      <th>0.96</th>\n",
              "      <td>0.575300</td>\n",
              "      <td>-0.004912</td>\n",
              "      <td>0.042406</td>\n",
              "      <td>0.575169</td>\n",
              "      <td>-0.003722</td>\n",
              "      <td>0.125646</td>\n",
              "    </tr>\n",
              "    <tr>\n",
              "      <th>0.97</th>\n",
              "      <td>0.574382</td>\n",
              "      <td>-0.002594</td>\n",
              "      <td>0.039911</td>\n",
              "      <td>0.574644</td>\n",
              "      <td>-0.002390</td>\n",
              "      <td>0.084811</td>\n",
              "    </tr>\n",
              "    <tr>\n",
              "      <th>0.98</th>\n",
              "      <td>0.574250</td>\n",
              "      <td>-0.001283</td>\n",
              "      <td>0.000000</td>\n",
              "      <td>0.573988</td>\n",
              "      <td>-0.000714</td>\n",
              "      <td>0.135698</td>\n",
              "    </tr>\n",
              "    <tr>\n",
              "      <th>0.99</th>\n",
              "      <td>0.573857</td>\n",
              "      <td>-0.000321</td>\n",
              "      <td>0.000000</td>\n",
              "      <td>0.573791</td>\n",
              "      <td>-0.000160</td>\n",
              "      <td>0.000000</td>\n",
              "    </tr>\n",
              "    <tr>\n",
              "      <th>1.00</th>\n",
              "      <td>0.573725</td>\n",
              "      <td>0.000000</td>\n",
              "      <td>NaN</td>\n",
              "      <td>0.573725</td>\n",
              "      <td>0.000000</td>\n",
              "      <td>NaN</td>\n",
              "    </tr>\n",
              "  </tbody>\n",
              "</table>\n",
              "</div>"
            ],
            "text/plain": [
              "            accuracy_original  ...  disparate_impact_reweighed\n",
              "threshhold                     ...                            \n",
              "0.00                 0.426275  ...                    1.000000\n",
              "0.01                 0.429096  ...                    0.994985\n",
              "0.02                 0.434674  ...                    0.987153\n",
              "0.03                 0.440843  ...                    0.979155\n",
              "0.04                 0.450095  ...                    0.966971\n",
              "0.05                 0.458363  ...                    0.953717\n",
              "0.06                 0.468600  ...                    0.942582\n",
              "0.07                 0.478115  ...                    0.929643\n",
              "0.08                 0.488287  ...                    0.921114\n",
              "0.09                 0.497999  ...                    0.911186\n",
              "0.10                 0.509285  ...                    0.898214\n",
              "0.11                 0.519654  ...                    0.886204\n",
              "0.12                 0.531990  ...                    0.876460\n",
              "0.13                 0.543474  ...                    0.866732\n",
              "0.14                 0.553580  ...                    0.853700\n",
              "0.15                 0.564407  ...                    0.844742\n",
              "0.16                 0.575169  ...                    0.833994\n",
              "0.17                 0.584750  ...                    0.824302\n",
              "0.18                 0.593609  ...                    0.815974\n",
              "0.19                 0.603977  ...                    0.808693\n",
              "0.20                 0.614804  ...                    0.798724\n",
              "0.21                 0.623860  ...                    0.790238\n",
              "0.22                 0.633178  ...                    0.782976\n",
              "0.23                 0.639937  ...                    0.775416\n",
              "0.24                 0.647483  ...                    0.770086\n",
              "0.25                 0.654899  ...                    0.764533\n",
              "0.26                 0.661789  ...                    0.757000\n",
              "0.27                 0.668810  ...                    0.749004\n",
              "0.28                 0.676225  ...                    0.741688\n",
              "0.29                 0.681213  ...                    0.740603\n",
              "0.30                 0.686659  ...                    0.737222\n",
              "0.31                 0.690531  ...                    0.735176\n",
              "0.32                 0.695715  ...                    0.730806\n",
              "0.33                 0.699915  ...                    0.724575\n",
              "0.34                 0.703524  ...                    0.721287\n",
              "0.35                 0.712580  ...                    0.711100\n",
              "0.36                 0.712580  ...                    0.711100\n",
              "0.37                 0.716714  ...                    0.708356\n",
              "0.38                 0.719995  ...                    0.706445\n",
              "0.39                 0.722160  ...                    0.704750\n",
              "0.40                 0.724391  ...                    0.702727\n",
              "0.41                 0.730757  ...                    0.689942\n",
              "0.42                 0.730757  ...                    0.689942\n",
              "0.43                 0.732725  ...                    0.686126\n",
              "0.44                 0.737253  ...                    0.684657\n",
              "0.45                 0.739419  ...                    0.684584\n",
              "0.46                 0.740272  ...                    0.686011\n",
              "0.47                 0.741715  ...                    0.680280\n",
              "0.48                 0.741715  ...                    0.680280\n",
              "0.49                 0.741781  ...                    0.678489\n",
              "0.50                 0.742831  ...                    0.680119\n",
              "0.51                 0.742897  ...                    0.678016\n",
              "0.52                 0.742043  ...                    0.675586\n",
              "0.53                 0.740862  ...                    0.671548\n",
              "0.54                 0.740469  ...                    0.665160\n",
              "0.55                 0.739419  ...                    0.669731\n",
              "0.56                 0.739353  ...                    0.666922\n",
              "0.57                 0.738828  ...                    0.661211\n",
              "0.58                 0.738828  ...                    0.661211\n",
              "0.59                 0.738500  ...                    0.662248\n",
              "0.60                 0.737253  ...                    0.657599\n",
              "0.61                 0.736466  ...                    0.651152\n",
              "0.62                 0.734169  ...                    0.646504\n",
              "0.63                 0.731675  ...                    0.640089\n",
              "0.64                 0.729575  ...                    0.638125\n",
              "0.65                 0.726754  ...                    0.631306\n",
              "0.66                 0.724195  ...                    0.625603\n",
              "0.67                 0.721504  ...                    0.617738\n",
              "0.68                 0.718157  ...                    0.605020\n",
              "0.69                 0.709955  ...                    0.588931\n",
              "0.70                 0.705952  ...                    0.577972\n",
              "0.71                 0.705952  ...                    0.577972\n",
              "0.72                 0.701161  ...                    0.558284\n",
              "0.73                 0.696437  ...                    0.540511\n",
              "0.74                 0.690793  ...                    0.529801\n",
              "0.75                 0.684428  ...                    0.512067\n",
              "0.76                 0.679244  ...                    0.503453\n",
              "0.77                 0.673535  ...                    0.486961\n",
              "0.78                 0.667432  ...                    0.464469\n",
              "0.79                 0.662051  ...                    0.441769\n",
              "0.80                 0.653521  ...                    0.420262\n",
              "0.81                 0.647877  ...                    0.399038\n",
              "0.82                 0.635015  ...                    0.357218\n",
              "0.83                 0.629503  ...                    0.328142\n",
              "0.84                 0.629503  ...                    0.328142\n",
              "0.85                 0.622810  ...                    0.310007\n",
              "0.86                 0.616051  ...                    0.281637\n",
              "0.87                 0.610211  ...                    0.278920\n",
              "0.88                 0.603911  ...                    0.268632\n",
              "0.89                 0.598727  ...                    0.245883\n",
              "0.90                 0.593805  ...                    0.217758\n",
              "0.91                 0.589737  ...                    0.192084\n",
              "0.92                 0.585471  ...                    0.168542\n",
              "0.93                 0.582125  ...                    0.136888\n",
              "0.94                 0.576875  ...                    0.094988\n",
              "0.95                 0.575300  ...                    0.125646\n",
              "0.96                 0.575300  ...                    0.125646\n",
              "0.97                 0.574382  ...                    0.084811\n",
              "0.98                 0.574250  ...                    0.135698\n",
              "0.99                 0.573857  ...                    0.000000\n",
              "1.00                 0.573725  ...                         NaN\n",
              "\n",
              "[101 rows x 6 columns]"
            ]
          },
          "metadata": {
            "tags": []
          }
        }
      ]
    },
    {
      "cell_type": "markdown",
      "metadata": {
        "id": "fN77tNN3n--J"
      },
      "source": [
        "## Complete the deliverable\n",
        "\n",
        "This notebook, complete with your reflections, is your deliverable."
      ]
    }
  ]
}