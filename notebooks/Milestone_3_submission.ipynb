{
  "nbformat": 4,
  "nbformat_minor": 0,
  "metadata": {
    "kernelspec": {
      "display_name": "Python 3",
      "language": "python",
      "name": "python3"
    },
    "language_info": {
      "codemirror_mode": {
        "name": "ipython",
        "version": 3
      },
      "file_extension": ".py",
      "mimetype": "text/x-python",
      "name": "python",
      "nbconvert_exporter": "python",
      "pygments_lexer": "ipython3",
      "version": "3.7.6"
    },
    "colab": {
      "name": "milestone 3 instructions",
      "provenance": [],
      "include_colab_link": true
    }
  },
  "cells": [
    {
      "cell_type": "markdown",
      "metadata": {
        "id": "view-in-github",
        "colab_type": "text"
      },
      "source": [
        "<a href=\"https://colab.research.google.com/github/jnirschl/detecting-mitigating-bias-base/blob/main/notebooks/Milestone_3_submission.ipynb\" target=\"_parent\"><img src=\"https://colab.research.google.com/assets/colab-badge.svg\" alt=\"Open In Colab\"/></a>"
      ]
    },
    {
      "cell_type": "markdown",
      "metadata": {
        "id": "_Xq71zWCn--G"
      },
      "source": [
        "# Milestone 3 \n",
        " \n",
        "#### Objective:\n",
        "\n",
        " - Build a model with algorithmic gender bias. Using SHAP, AIF-360, and manual calculations, detect algorithmic bias. Then, using AIF-360, mitigate the bias you detected.\n",
        "\n",
        "#### Workflow:\n",
        "\n",
        "1. Import modules, register helper functions, and load data\n",
        "2. Train a model without unwanted gender bias. Demonstrate using confusion matrices and bias metrics that the model has minimal allocation bias. \n",
        "3. Train a model with gender bias.  Demonstrate using confusion matrices that the model is significantly biased. \n",
        "4. Use SHAP to interpret the biased model's predictions and demonstrate bias.\n",
        "5. Debias the model using AIF-360. Between three debiasing approaches (reweighing, disparate impact remover, and calibrated equal odds postprocessing),  choose one of the approaches, recommend it for use, and explain why.\n",
        "\n",
        "6. Fine-tune your reweighing and disparate impact remover approaches by selecting the best possible threshold.\n",
        "\n",
        "#### Importance to Project:\n",
        "\n",
        " - In the scenario of this LiveProject, you are called upon to detect and/or mitigate unwanted bias in three models (and their corresponding datasets) for the WHO. Here we work with two models - one which probably does not have unwanted bias, and one which does. In these cases, the protected class data is available. For our final model, in Milestone 4, it is not available. \n",
        " - Most of the work here is done on the model which does have unwanted bias. We want to measure that bias and try and mitigate it. The workflow guides you through that process.\n",
        " \n",
        "#### Resources:\n",
        " - https://www.ncbi.nlm.nih.gov/pmc/articles/PMC6678298/ (a description of the original dataset and its use)\n",
        " - https://arxiv.org/pdf/1810.01943.pdf (the original AIF360 paper, which describes several methods for debiasing implemented within the package)\n",
        " - https://aif360.mybluemix.net/data (a demo of AIF360. Here, we are unpacking what is done at the \"check\" and \"mitigate\" steps.) \n",
        " - https://towardsdatascience.com/a-tutorial-on-fairness-in-machine-learning-3ff8ba1040cb (a helpful summary of key metrics. Section 4.7 on impossibility is relevant for the final section of this milestone.)"
      ]
    },
    {
      "cell_type": "markdown",
      "metadata": {
        "id": "LgBv0K0pn--H"
      },
      "source": [
        "# 1. Import modules, register helper functions, and load data"
      ]
    },
    {
      "cell_type": "markdown",
      "metadata": {
        "id": "qOKVp9gVn--H"
      },
      "source": [
        "\n",
        "\n",
        "The dataset we are using is a cardiology dataset described in Padmanabhan et al.’s [paper](https://www.ncbi.nlm.nih.gov/pmc/articles/PMC6678298/) in the _Journal of Clinical Medicine_. In the original dataset, the “cardio” column represented whether the patient has cardiovascular disease.\n",
        "\n",
        "In our scenario, we can obtain all of the measurements in the dataset, but we cannot detect cardiovascular disease directly. This is where a model is used. A patient who has a prediction of cardiovascular disease will be given a medication that reduces the likelihood of a cardiac event, but not enough medication is available to give to everyone, so our model will also be used to prioritize the allocation of that medicine.\n",
        "\n",
        "To introduce you to the data, let’s do the following:\n",
        "\n",
        "1. Import the relevant modules and helper functions.\n",
        "2. Load the data from 'cardio_train.csv'.\n",
        "3. Drop NAN values.\n",
        "4. Sort the data by 'cardio', the target variable.\n",
        "5. Inspect the dataframe, and familiarize yourself with the labels (see table 2 of Padmanabhan et al.’s paper).\n",
        "\n",
        "Run the below helper code to get started. To see this code in context, click [here](https://colab.research.google.com/drive/1pLOgIU_t998KKEcO9nz_6T8xWr05R1UT#scrollTo=ft07GaGRn--H&line=1&uniqifier=1)"
      ]
    },
    {
      "cell_type": "code",
      "metadata": {
        "colab": {
          "base_uri": "https://localhost:8080/"
        },
        "id": "2safI5msJeDW",
        "outputId": "e79175ea-4519-49ec-b84e-967f21024a03"
      },
      "source": [
        "!pip install scikit-learn aif360 pandas lightgbm shap BlackBoxAuditing seaborn matplotlib"
      ],
      "execution_count": 1,
      "outputs": [
        {
          "output_type": "stream",
          "text": [
            "Requirement already satisfied: scikit-learn in /usr/local/lib/python3.6/dist-packages (0.22.2.post1)\n",
            "Requirement already satisfied: aif360 in /usr/local/lib/python3.6/dist-packages (0.3.0)\n",
            "Requirement already satisfied: pandas in /usr/local/lib/python3.6/dist-packages (1.1.5)\n",
            "Requirement already satisfied: lightgbm in /usr/local/lib/python3.6/dist-packages (2.2.3)\n",
            "Requirement already satisfied: shap in /usr/local/lib/python3.6/dist-packages (0.37.0)\n",
            "Requirement already satisfied: BlackBoxAuditing in /usr/local/lib/python3.6/dist-packages (0.1.54)\n",
            "Requirement already satisfied: seaborn in /usr/local/lib/python3.6/dist-packages (0.11.0)\n",
            "Requirement already satisfied: matplotlib in /usr/local/lib/python3.6/dist-packages (3.2.2)\n",
            "Requirement already satisfied: scipy>=0.17.0 in /usr/local/lib/python3.6/dist-packages (from scikit-learn) (1.4.1)\n",
            "Requirement already satisfied: numpy>=1.11.0 in /usr/local/lib/python3.6/dist-packages (from scikit-learn) (1.19.4)\n",
            "Requirement already satisfied: joblib>=0.11 in /usr/local/lib/python3.6/dist-packages (from scikit-learn) (1.0.0)\n",
            "Requirement already satisfied: python-dateutil>=2.7.3 in /usr/local/lib/python3.6/dist-packages (from pandas) (2.8.1)\n",
            "Requirement already satisfied: pytz>=2017.2 in /usr/local/lib/python3.6/dist-packages (from pandas) (2018.9)\n",
            "Requirement already satisfied: tqdm>4.25.0 in /usr/local/lib/python3.6/dist-packages (from shap) (4.41.1)\n",
            "Requirement already satisfied: slicer==0.0.3 in /usr/local/lib/python3.6/dist-packages (from shap) (0.0.3)\n",
            "Requirement already satisfied: numba in /usr/local/lib/python3.6/dist-packages (from shap) (0.48.0)\n",
            "Requirement already satisfied: networkx in /usr/local/lib/python3.6/dist-packages (from BlackBoxAuditing) (2.5)\n",
            "Requirement already satisfied: pyparsing!=2.0.4,!=2.1.2,!=2.1.6,>=2.0.1 in /usr/local/lib/python3.6/dist-packages (from matplotlib) (2.4.7)\n",
            "Requirement already satisfied: kiwisolver>=1.0.1 in /usr/local/lib/python3.6/dist-packages (from matplotlib) (1.3.1)\n",
            "Requirement already satisfied: cycler>=0.10 in /usr/local/lib/python3.6/dist-packages (from matplotlib) (0.10.0)\n",
            "Requirement already satisfied: six>=1.5 in /usr/local/lib/python3.6/dist-packages (from python-dateutil>=2.7.3->pandas) (1.15.0)\n",
            "Requirement already satisfied: llvmlite<0.32.0,>=0.31.0dev0 in /usr/local/lib/python3.6/dist-packages (from numba->shap) (0.31.0)\n",
            "Requirement already satisfied: setuptools in /usr/local/lib/python3.6/dist-packages (from numba->shap) (51.0.0)\n",
            "Requirement already satisfied: decorator>=4.3.0 in /usr/local/lib/python3.6/dist-packages (from networkx->BlackBoxAuditing) (4.4.2)\n"
          ],
          "name": "stdout"
        }
      ]
    },
    {
      "cell_type": "code",
      "metadata": {
        "id": "ft07GaGRn--H"
      },
      "source": [
        "import pandas as pd\n",
        "import seaborn as sns\n",
        "import matplotlib.pyplot as plt    \n",
        "import numpy as np\n",
        "import shap\n",
        "import sklearn\n",
        "from sklearn import model_selection\n",
        "from sklearn.ensemble import RandomForestClassifier\n",
        "from sklearn.metrics import confusion_matrix, f1_score, accuracy_score\n",
        "import aif360\n",
        "from aif360.algorithms.preprocessing import Reweighing, DisparateImpactRemover\n",
        "from aif360.algorithms.inprocessing import PrejudiceRemover\n",
        "from aif360.algorithms.postprocessing import CalibratedEqOddsPostprocessing\n",
        "from aif360.metrics import ClassificationMetric\n",
        "from aif360.metrics import BinaryLabelDatasetMetric\n",
        "from aif360.explainers import MetricTextExplainer"
      ],
      "execution_count": 2,
      "outputs": []
    },
    {
      "cell_type": "code",
      "metadata": {
        "id": "kBQ6xhLcn--H"
      },
      "source": [
        "def generate_biased_dataset(dataset, women_yes_event_subsample_rate):\n",
        "    \n",
        "    \"\"\" (DataFrame, float) -> DataFrame\n",
        "    Using the Cardio dataset, subsample positive cardiac events for women\"\"\"\n",
        "    \n",
        "    women_no_event = dataset[(dataset['gender']==1) & (dataset['cardio']==0)]\n",
        "    women_yes_event = dataset[(dataset['gender']==1) & (dataset['cardio']==1)]\n",
        "    men_no_event = dataset[(dataset['gender']==2) & (dataset['cardio']==0)]\n",
        "    men_yes_event = dataset[(dataset['gender']==2) & (dataset['cardio']==1)]\n",
        "\n",
        "    biased_dataset = pd.concat([\n",
        "        women_no_event,\n",
        "        women_yes_event.sample(int(len(women_yes_event)*women_yes_event_subsample_rate)),\n",
        "        men_no_event,\n",
        "        men_yes_event\n",
        "    ])\n",
        "    return biased_dataset\n",
        "\n",
        "def train_model(dataset, exclude_gender = False):\n",
        "    \n",
        "    \"\"\" (DataFrame, bool) -> RandomForestClassifier, DataFrame, DataFrame, DataFrame, DataFrame\n",
        "    Given a dataset in Cardio format, split the model into train and test, and train a Random Forest classifier on the data\"\"\"\n",
        "    \n",
        "    X_cols = [c for c in dataset.columns if c!='cardio']\n",
        "    X = dataset[X_cols]\n",
        "    y = dataset['cardio']\n",
        "    X_train, X_test, y_train, y_test = sklearn.model_selection.train_test_split(X,y, random_state=42)\n",
        "\n",
        "    rf = RandomForestClassifier(random_state=42)\n",
        "    if exclude_gender:\n",
        "        X_cols.remove('gender')\n",
        "    rf.fit(X_train[X_cols], y_train)\n",
        "        \n",
        "    return rf, X_cols, X_train, X_test, y_train, y_test\n",
        "\n",
        " \n",
        "\n",
        "def plot_confusion_matrix(y_true,y_pred, return_percentage=False):\n",
        "    \n",
        "    \"\"\" (Series, Series, bool) -> None\n",
        "    Plot a confusion matrix\"\"\"\n",
        "    \n",
        "    cm = confusion_matrix(y_true,y_pred,labels=[1,0])\n",
        "    \n",
        "    if return_percentage:\n",
        "        cm = np.round(np.asarray(cm)/(np.asarray(cm).sum()),3)\n",
        "\n",
        "    ax= plt.subplot()\n",
        "    sns.heatmap(cm, annot=True, ax = ax, cmap='Greens',fmt='g'); #annot=True to annotate cells\n",
        "\n",
        "    # labels, title and ticks\n",
        "    ax.set_xlabel('Predicted labels');ax.set_ylabel('True labels'); \n",
        "    ax.set_title('Confusion Matrix'); \n",
        "    ax.xaxis.set_ticklabels(['positive', 'negative']); ax.yaxis.set_ticklabels(['positive', 'negative']);\n",
        "    plt.show()\n",
        "    return cm\n",
        "    \n",
        "def aif360_to_pandas(dataset_aif360):\n",
        "    return dataset_aif360.convert_to_dataframe()[0]\n",
        "\n",
        "def pandas_to_aif360(dataset_pd):\n",
        "    return aif360.datasets.BinaryLabelDataset(favorable_label=1,\n",
        "                                              unfavorable_label=0,\n",
        "                                              df=dataset_pd,\n",
        "                                              label_names=['cardio'],\n",
        "                                              protected_attribute_names=['gender',\n",
        "                                                                         'dummy'])\n",
        "    "
      ],
      "execution_count": 3,
      "outputs": []
    },
    {
      "cell_type": "code",
      "metadata": {
        "id": "CZxPn3Upn--H",
        "colab": {
          "base_uri": "https://localhost:8080/",
          "height": 424
        },
        "outputId": "937e5959-4b14-42be-da18-2836dca430d6"
      },
      "source": [
        "# read data from url\n",
        "import requests\n",
        "data_url = \"https://raw.githubusercontent.com/mikejump/detecting-mitigating-bias-base/main/data/cardio_train.csv\"\n",
        "\n",
        "dataset = pd.read_csv(data_url, delimiter=';')\n",
        "\n",
        "# add dummy random variable for negative control testing fairness metrics\n",
        "# the random dummy var should have no bias and negligible Shap contribution\n",
        "dataset['dummy'] = np.random.choice(2, size=dataset.shape[0])\n",
        "\n",
        "\n",
        "# drop nans\n",
        "dataset = dataset.dropna()\n",
        "\n",
        "dataset.sort_values('cardio',ascending=False)"
      ],
      "execution_count": 4,
      "outputs": [
        {
          "output_type": "execute_result",
          "data": {
            "text/html": [
              "<div>\n",
              "<style scoped>\n",
              "    .dataframe tbody tr th:only-of-type {\n",
              "        vertical-align: middle;\n",
              "    }\n",
              "\n",
              "    .dataframe tbody tr th {\n",
              "        vertical-align: top;\n",
              "    }\n",
              "\n",
              "    .dataframe thead th {\n",
              "        text-align: right;\n",
              "    }\n",
              "</style>\n",
              "<table border=\"1\" class=\"dataframe\">\n",
              "  <thead>\n",
              "    <tr style=\"text-align: right;\">\n",
              "      <th></th>\n",
              "      <th>id</th>\n",
              "      <th>age</th>\n",
              "      <th>gender</th>\n",
              "      <th>height</th>\n",
              "      <th>weight</th>\n",
              "      <th>ap_hi</th>\n",
              "      <th>ap_lo</th>\n",
              "      <th>cholesterol</th>\n",
              "      <th>gluc</th>\n",
              "      <th>smoke</th>\n",
              "      <th>alco</th>\n",
              "      <th>active</th>\n",
              "      <th>cardio</th>\n",
              "      <th>dummy</th>\n",
              "    </tr>\n",
              "  </thead>\n",
              "  <tbody>\n",
              "    <tr>\n",
              "      <th>23316</th>\n",
              "      <td>33309</td>\n",
              "      <td>19645</td>\n",
              "      <td>1</td>\n",
              "      <td>160</td>\n",
              "      <td>80.0</td>\n",
              "      <td>130</td>\n",
              "      <td>80</td>\n",
              "      <td>3</td>\n",
              "      <td>1</td>\n",
              "      <td>0</td>\n",
              "      <td>0</td>\n",
              "      <td>1</td>\n",
              "      <td>1</td>\n",
              "      <td>0</td>\n",
              "    </tr>\n",
              "    <tr>\n",
              "      <th>28870</th>\n",
              "      <td>41257</td>\n",
              "      <td>15868</td>\n",
              "      <td>1</td>\n",
              "      <td>158</td>\n",
              "      <td>83.0</td>\n",
              "      <td>160</td>\n",
              "      <td>100</td>\n",
              "      <td>1</td>\n",
              "      <td>1</td>\n",
              "      <td>0</td>\n",
              "      <td>0</td>\n",
              "      <td>1</td>\n",
              "      <td>1</td>\n",
              "      <td>0</td>\n",
              "    </tr>\n",
              "    <tr>\n",
              "      <th>55488</th>\n",
              "      <td>79158</td>\n",
              "      <td>21224</td>\n",
              "      <td>2</td>\n",
              "      <td>178</td>\n",
              "      <td>95.0</td>\n",
              "      <td>150</td>\n",
              "      <td>90</td>\n",
              "      <td>1</td>\n",
              "      <td>1</td>\n",
              "      <td>0</td>\n",
              "      <td>0</td>\n",
              "      <td>1</td>\n",
              "      <td>1</td>\n",
              "      <td>1</td>\n",
              "    </tr>\n",
              "    <tr>\n",
              "      <th>55486</th>\n",
              "      <td>79156</td>\n",
              "      <td>18111</td>\n",
              "      <td>1</td>\n",
              "      <td>164</td>\n",
              "      <td>90.0</td>\n",
              "      <td>140</td>\n",
              "      <td>1000</td>\n",
              "      <td>3</td>\n",
              "      <td>1</td>\n",
              "      <td>0</td>\n",
              "      <td>0</td>\n",
              "      <td>1</td>\n",
              "      <td>1</td>\n",
              "      <td>1</td>\n",
              "    </tr>\n",
              "    <tr>\n",
              "      <th>28862</th>\n",
              "      <td>41249</td>\n",
              "      <td>19688</td>\n",
              "      <td>1</td>\n",
              "      <td>160</td>\n",
              "      <td>63.0</td>\n",
              "      <td>110</td>\n",
              "      <td>80</td>\n",
              "      <td>1</td>\n",
              "      <td>1</td>\n",
              "      <td>0</td>\n",
              "      <td>0</td>\n",
              "      <td>0</td>\n",
              "      <td>1</td>\n",
              "      <td>1</td>\n",
              "    </tr>\n",
              "    <tr>\n",
              "      <th>...</th>\n",
              "      <td>...</td>\n",
              "      <td>...</td>\n",
              "      <td>...</td>\n",
              "      <td>...</td>\n",
              "      <td>...</td>\n",
              "      <td>...</td>\n",
              "      <td>...</td>\n",
              "      <td>...</td>\n",
              "      <td>...</td>\n",
              "      <td>...</td>\n",
              "      <td>...</td>\n",
              "      <td>...</td>\n",
              "      <td>...</td>\n",
              "      <td>...</td>\n",
              "    </tr>\n",
              "    <tr>\n",
              "      <th>30978</th>\n",
              "      <td>44245</td>\n",
              "      <td>20991</td>\n",
              "      <td>1</td>\n",
              "      <td>164</td>\n",
              "      <td>85.0</td>\n",
              "      <td>120</td>\n",
              "      <td>80</td>\n",
              "      <td>2</td>\n",
              "      <td>1</td>\n",
              "      <td>0</td>\n",
              "      <td>0</td>\n",
              "      <td>1</td>\n",
              "      <td>0</td>\n",
              "      <td>0</td>\n",
              "    </tr>\n",
              "    <tr>\n",
              "      <th>30979</th>\n",
              "      <td>44246</td>\n",
              "      <td>16950</td>\n",
              "      <td>1</td>\n",
              "      <td>162</td>\n",
              "      <td>54.0</td>\n",
              "      <td>110</td>\n",
              "      <td>80</td>\n",
              "      <td>1</td>\n",
              "      <td>1</td>\n",
              "      <td>0</td>\n",
              "      <td>0</td>\n",
              "      <td>1</td>\n",
              "      <td>0</td>\n",
              "      <td>1</td>\n",
              "    </tr>\n",
              "    <tr>\n",
              "      <th>30980</th>\n",
              "      <td>44248</td>\n",
              "      <td>19036</td>\n",
              "      <td>1</td>\n",
              "      <td>165</td>\n",
              "      <td>89.0</td>\n",
              "      <td>130</td>\n",
              "      <td>80</td>\n",
              "      <td>1</td>\n",
              "      <td>1</td>\n",
              "      <td>0</td>\n",
              "      <td>0</td>\n",
              "      <td>1</td>\n",
              "      <td>0</td>\n",
              "      <td>0</td>\n",
              "    </tr>\n",
              "    <tr>\n",
              "      <th>30982</th>\n",
              "      <td>44250</td>\n",
              "      <td>15954</td>\n",
              "      <td>1</td>\n",
              "      <td>165</td>\n",
              "      <td>72.0</td>\n",
              "      <td>120</td>\n",
              "      <td>70</td>\n",
              "      <td>1</td>\n",
              "      <td>3</td>\n",
              "      <td>0</td>\n",
              "      <td>0</td>\n",
              "      <td>1</td>\n",
              "      <td>0</td>\n",
              "      <td>1</td>\n",
              "    </tr>\n",
              "    <tr>\n",
              "      <th>69999</th>\n",
              "      <td>99999</td>\n",
              "      <td>20540</td>\n",
              "      <td>1</td>\n",
              "      <td>170</td>\n",
              "      <td>72.0</td>\n",
              "      <td>120</td>\n",
              "      <td>80</td>\n",
              "      <td>2</td>\n",
              "      <td>1</td>\n",
              "      <td>0</td>\n",
              "      <td>0</td>\n",
              "      <td>1</td>\n",
              "      <td>0</td>\n",
              "      <td>0</td>\n",
              "    </tr>\n",
              "  </tbody>\n",
              "</table>\n",
              "<p>70000 rows × 14 columns</p>\n",
              "</div>"
            ],
            "text/plain": [
              "          id    age  gender  height  weight  ...  smoke  alco  active  cardio  dummy\n",
              "23316  33309  19645       1     160    80.0  ...      0     0       1       1      0\n",
              "28870  41257  15868       1     158    83.0  ...      0     0       1       1      0\n",
              "55488  79158  21224       2     178    95.0  ...      0     0       1       1      1\n",
              "55486  79156  18111       1     164    90.0  ...      0     0       1       1      1\n",
              "28862  41249  19688       1     160    63.0  ...      0     0       0       1      1\n",
              "...      ...    ...     ...     ...     ...  ...    ...   ...     ...     ...    ...\n",
              "30978  44245  20991       1     164    85.0  ...      0     0       1       0      0\n",
              "30979  44246  16950       1     162    54.0  ...      0     0       1       0      1\n",
              "30980  44248  19036       1     165    89.0  ...      0     0       1       0      0\n",
              "30982  44250  15954       1     165    72.0  ...      0     0       1       0      1\n",
              "69999  99999  20540       1     170    72.0  ...      0     0       1       0      0\n",
              "\n",
              "[70000 rows x 14 columns]"
            ]
          },
          "metadata": {
            "tags": []
          },
          "execution_count": 4
        }
      ]
    },
    {
      "cell_type": "markdown",
      "metadata": {
        "id": "yQjehcvCn--I"
      },
      "source": [
        "# 2. Train a model without unwanted gender bias. Demonstrate using confusion matrices and bias metrics that the model has minimal allocation bias. "
      ]
    },
    {
      "cell_type": "markdown",
      "metadata": {
        "id": "4rhkHpmYn--I"
      },
      "source": [
        "\n",
        "\n",
        "A model trained from this data will not be subject to significant bias. However, being able to recognize when a model isn't biased is an important part of the debiasing process.\n",
        "\n",
        "Code is provided below to do the following steps:\n",
        "\n",
        "1. Using the helper function train_model, train a model.\n",
        "2. Using the helper function plot_confusion_matrix, plot a confusion matrix based on the model's predictions for the test set.\n",
        "3. Split the patients in the test set by gender, and create a confusion matrix for each.\n",
        "\n",
        "Based on the confusion matrices generated above, you are asked to\n",
        "\n",
        "* Manually measure the disparate impact by dividing the ratio of positive predictions for females by the ratio of positive predictions for males. There should be negligible bias (disparate impact is close to 1).\n",
        "\n",
        "* Manually measure the equal opportunity difference by subtracting the true positive rate for males from the true positive rate for females. There should be negligible bias (equal opportunity difference is close to 0).\n",
        "\n",
        "To see the below code in context, click [here](https://colab.research.google.com/drive/1pLOgIU_t998KKEcO9nz_6T8xWr05R1UT#scrollTo=DgQYKzeGn--I&line=3&uniqifier=1)"
      ]
    },
    {
      "cell_type": "code",
      "metadata": {
        "id": "DgQYKzeGn--I",
        "colab": {
          "base_uri": "https://localhost:8080/",
          "height": 610
        },
        "outputId": "6c7ac605-d7bc-4d90-fe59-9976177bdcb5"
      },
      "source": [
        "original_rf, X_cols,X_train, X_test, y_train, y_test = train_model(dataset)\n",
        "plot_confusion_matrix(y_test, original_rf.predict(X_test[X_cols]))\n",
        "plot_confusion_matrix(y_test, original_rf.predict(X_test[X_cols]),return_percentage=True)"
      ],
      "execution_count": 5,
      "outputs": [
        {
          "output_type": "display_data",
          "data": {
            "image/png": "[encoded data removed]",
            "text/plain": [
              "<Figure size 432x288 with 2 Axes>"
            ]
          },
          "metadata": {
            "tags": [],
            "needs_background": "light"
          }
        },
        {
          "output_type": "display_data",
          "data": {
            "image/png": "[encoded data removed]",
            "text/plain": [
              "<Figure size 432x288 with 2 Axes>"
            ]
          },
          "metadata": {
            "tags": [],
            "needs_background": "light"
          }
        },
        {
          "output_type": "execute_result",
          "data": {
            "text/plain": [
              "array([[0.351, 0.152],\n",
              "       [0.121, 0.375]])"
            ]
          },
          "metadata": {
            "tags": []
          },
          "execution_count": 5
        }
      ]
    },
    {
      "cell_type": "code",
      "metadata": {
        "id": "GirDgZjqn--I",
        "colab": {
          "base_uri": "https://localhost:8080/",
          "height": 1000
        },
        "outputId": "4d292857-832c-4c5a-8f38-377b4ba0e1e6"
      },
      "source": [
        "women_test_idx = (X_test['gender']==1)\n",
        "men_test_idx = (X_test['gender']==2)\n",
        "print('confusion matrix for women in test')\n",
        "cm_female = plot_confusion_matrix(y_test[women_test_idx], original_rf.predict(X_test[X_cols][women_test_idx]))\n",
        "plot_confusion_matrix(y_test[women_test_idx], original_rf.predict(X_test[X_cols][women_test_idx]),return_percentage=True)\n",
        "\n",
        "print('confusion matrix for men in test')\n",
        "cm_male = plot_confusion_matrix(y_test[men_test_idx], original_rf.predict(X_test[X_cols][men_test_idx]))\n",
        "plot_confusion_matrix(y_test[men_test_idx], original_rf.predict(X_test[X_cols][men_test_idx]),return_percentage=True)"
      ],
      "execution_count": 6,
      "outputs": [
        {
          "output_type": "stream",
          "text": [
            "confusion matrix for women in test\n"
          ],
          "name": "stdout"
        },
        {
          "output_type": "display_data",
          "data": {
            "image/png": "[encoded data removed]",
            "text/plain": [
              "<Figure size 432x288 with 2 Axes>"
            ]
          },
          "metadata": {
            "tags": [],
            "needs_background": "light"
          }
        },
        {
          "output_type": "display_data",
          "data": {
            "image/png": "[encoded data removed]",
            "text/plain": [
              "<Figure size 432x288 with 2 Axes>"
            ]
          },
          "metadata": {
            "tags": [],
            "needs_background": "light"
          }
        },
        {
          "output_type": "stream",
          "text": [
            "confusion matrix for men in test\n"
          ],
          "name": "stdout"
        },
        {
          "output_type": "display_data",
          "data": {
            "image/png": "[encoded data removed]",
            "text/plain": [
              "<Figure size 432x288 with 2 Axes>"
            ]
          },
          "metadata": {
            "tags": [],
            "needs_background": "light"
          }
        },
        {
          "output_type": "display_data",
          "data": {
            "image/png": "[encoded data removed]",
            "text/plain": [
              "<Figure size 432x288 with 2 Axes>"
            ]
          },
          "metadata": {
            "tags": [],
            "needs_background": "light"
          }
        },
        {
          "output_type": "execute_result",
          "data": {
            "text/plain": [
              "array([[0.355, 0.155],\n",
              "       [0.12 , 0.371]])"
            ]
          },
          "metadata": {
            "tags": []
          },
          "execution_count": 6
        }
      ]
    },
    {
      "cell_type": "markdown",
      "metadata": {
        "id": "ah_C9SCmn--I"
      },
      "source": [
        "### Place your disparate impact and equal opportunity difference measurements here"
      ]
    },
    {
      "cell_type": "code",
      "metadata": {
        "id": "GK-0qY8d7XD7"
      },
      "source": [
        "# true positive rate\n",
        "def calc_metric(conf_mat, metric=None):\n",
        "  assert (metric.lower() in {\"tpr\",\"pos_rate\",\"neg_rate\"}), \"Expected TPR or Pos_Rate\"\n",
        "\n",
        "  TP = conf_mat[0][0]\n",
        "  FN = conf_mat[0][1]\n",
        "  FP = conf_mat[1][0]\n",
        "  TN = conf_mat[1][1]\n",
        "\n",
        "  TPR = TP/(TP+FN)\n",
        "  pos_rate, neg_rate = np.sum(conf_mat, axis=0)/np.sum(conf_mat[:])\n",
        "\n",
        "  if metric.lower() == \"tpr\":\n",
        "    return TPR\n",
        "\n",
        "  if metric.lower() == \"pos_rate\":\n",
        "    return pos_rate\n",
        "\n",
        "  if metric.lower() == \"neg_rate\":\n",
        "    return neg_rate"
      ],
      "execution_count": 7,
      "outputs": []
    },
    {
      "cell_type": "code",
      "metadata": {
        "colab": {
          "base_uri": "https://localhost:8080/"
        },
        "id": "JUa5gzHXmQTc",
        "outputId": "9308bcbd-b037-4950-ad6b-20f5ccb62aab"
      },
      "source": [
        "# compute equal opportunity difference\r\n",
        "tpr_female = calc_metric(cm_female, metric=\"tpr\")\r\n",
        "tpr_male = calc_metric(cm_male, metric=\"tpr\")\r\n",
        "eodiff = tpr_female-tpr_male\r\n",
        "print(f\"Equal opportunity difference:\\n\\tRecall (female):\\t{tpr_female}\")\r\n",
        "print(f\"\\tRecall (male):\\t\\t{tpr_male}\")\r\n",
        "print(f\"\\tEqual opp. diff.:\\t{eodiff}\")\r\n",
        "\r\n",
        "# compute disparate impact\r\n",
        "pos_rate_female = calc_metric(cm_female, metric=\"pos_rate\")\r\n",
        "pos_rate_male = calc_metric(cm_male, metric=\"pos_rate\")\r\n",
        "disp_impact = pos_rate_female/pos_rate_male\r\n",
        "print(f\"Disparate impact:\\n\\tRecall (female):\\t{pos_rate_female}\")\r\n",
        "print(f\"\\tRecall (male):\\t\\t{pos_rate_male}\")\r\n",
        "print(f\"\\tEqual opp. diff.:\\t{disp_impact}\")"
      ],
      "execution_count": 8,
      "outputs": [
        {
          "output_type": "stream",
          "text": [
            "Equal opportunity difference:\n",
            "\tRecall (female):\t0.6986685353889278\n",
            "\tRecall (male):\t\t0.6961984536082474\n",
            "\tEqual opp. diff.:\t0.002470081780680422\n",
            "Disparate impact:\n",
            "\tRecall (female):\t0.47156252738585575\n",
            "\tRecall (male):\t\t0.47462637543110525\n",
            "\tEqual opp. diff.:\t0.9935447160043168\n"
          ],
          "name": "stdout"
        }
      ]
    },
    {
      "cell_type": "code",
      "metadata": {
        "id": "ZKoHBtklXt5b"
      },
      "source": [
        "# convert test df to aif360 format\r\n",
        "X_test_df = X_test\r\n",
        "aif360_gt_df = pandas_to_aif360(X_test_df.join(y_test))\r\n",
        "\r\n",
        "# predict y_test and convert to aif360 \r\n",
        "yhat_test = X_test\r\n",
        "yhat_test[\"cardio\"] = original_rf.predict(X_test)\r\n",
        "aif360_pred_df = pandas_to_aif360(yhat_test)"
      ],
      "execution_count": 9,
      "outputs": []
    },
    {
      "cell_type": "code",
      "metadata": {
        "colab": {
          "base_uri": "https://localhost:8080/"
        },
        "id": "x4gBWkd_OTni",
        "outputId": "0c1971cb-e394-4a87-cf06-c865451b002b"
      },
      "source": [
        "# set gender codes\r\n",
        "female_code = 1\r\n",
        "male_code = 2\r\n",
        "metric = aif360.metrics.BinaryLabelDatasetMetric(aif360_gt_df,\r\n",
        "                                        unprivileged_groups=[{'gender':1}],\r\n",
        "                                        privileged_groups=[{'gender':2}])\r\n",
        "print(f\"Fairness metrics test dataset:\\n\\tBase rate (female):\\t{metric.base_rate(privileged=True).round(3)}\")\r\n",
        "print(f\"\\tBase rate (male):\\t{metric.base_rate(privileged=False).round(3)}\")\r\n",
        "print(f\"\\n\\tDisparate impact:\\t{metric.disparate_impact().round(3)}\")\r\n",
        "print(f\"\\n\\tMean difference:\\t{metric.mean_difference().round(3)}\")"
      ],
      "execution_count": 10,
      "outputs": [
        {
          "output_type": "stream",
          "text": [
            "Fairness metrics test dataset:\n",
            "\tBase rate (female):\t0.51\n",
            "\tBase rate (male):\t0.5\n",
            "\n",
            "\tDisparate impact:\t0.981\n",
            "\n",
            "\tMean difference:\t-0.01\n"
          ],
          "name": "stdout"
        }
      ]
    },
    {
      "cell_type": "code",
      "metadata": {
        "colab": {
          "base_uri": "https://localhost:8080/"
        },
        "id": "sOUW_k04aesE",
        "outputId": "84d676a4-9d6d-4e97-ddf5-9d6aeeede33a"
      },
      "source": [
        "# metrics on classified data\r\n",
        "# predicted_labels(original_rf.predict(X_test[X_cols]))\r\n",
        "model_metrics = aif360.metrics.ClassificationMetric(aif360_gt_df, aif360_pred_df,\r\n",
        "                                    unprivileged_groups=[{'gender':1}],\r\n",
        "                                    privileged_groups=[{'gender':2}])\r\n",
        "\r\n",
        "print(f\"Fairness metrics classifier:\\n\\tBase rate (female):\\t{model_metrics.base_rate(privileged=True).round(3)}\")\r\n",
        "print(f\"\\tBase rate (male):\\t{model_metrics.base_rate(privileged=False).round(3)}\")\r\n",
        "print(f\"\\n\\tDisparate impact:\\t{model_metrics.disparate_impact().round(3)}\")\r\n",
        "print(f\"\\n\\tTheil index:\\t\\t{model_metrics.theil_index().round(3)}\")\r\n",
        "print(f\"\\n\\tEqual opp diff:\\t\\t{model_metrics.true_positive_rate_difference().round(3)}\")\r\n",
        "print(f\"\\n\\tConsistency:\\t\\t{model_metrics.consistency()[0].round(3)}\")\r\n"
      ],
      "execution_count": 17,
      "outputs": [
        {
          "output_type": "stream",
          "text": [
            "Fairness metrics classifier:\n",
            "\tBase rate (female):\t0.51\n",
            "\tBase rate (male):\t0.5\n",
            "\n",
            "\tDisparate impact:\t0.994\n",
            "\n",
            "\tTheil index:\t\t0.205\n",
            "\n",
            "\tEqual opp diff:\t\t0.002\n",
            "\n",
            "\tConsistency:\t\t0.626\n"
          ],
          "name": "stdout"
        }
      ]
    },
    {
      "cell_type": "markdown",
      "metadata": {
        "id": "cbSMoPIgdkFK"
      },
      "source": [
        "**Consistency**: A metric that compares a model's classification prediction of a given data item $x$ to it's $k$ nearest neighbors, $kNN(x)$. Values close to one indicate similar inputs are treated similarly [1]\r\n",
        "\r\n",
        "```\r\n",
        "[1] Zemel, R., Wu, Y., Swersky, K., Pitassi, T. & Dwork, C.. (2013).\r\n",
        "Learning Fair Representations. Proceedings of the 30th International\r\n",
        "Conference on Machine Learning, in PMLR 28(3):325-333 \r\n",
        "```"
      ]
    },
    {
      "cell_type": "markdown",
      "metadata": {
        "id": "37ysrEJUn--I"
      },
      "source": [
        "# 3. Train a model with gender bias.  Demonstrate using confusion matrices that the model is significantly biased. \n",
        "\n",
        "We can introduce gender bias into the data by manipulating the ratio of positive to negative events for either gender. In this case, we will alter the dataset by removing a percentage of the occurrences where women have cardiovascular disease. In other words, on the altered data, women will have a lower likelihood of cardiovascular disease.\n",
        "\n",
        "Code is provided to do the following steps:\n",
        "\n",
        "1. Create the biased dataset using the generate_biased_dataset helper function. **By default, 40% of cardiac events for women are removed, creating a gender imbalance**.\n",
        "2. Train a model based on this biased dataset using the train_model helper function.\n",
        "3. Create a confusion matrix using the plot_confusion_matrix helper function.\n",
        "4. Create a confusion matrix for the subset of the test set where the gender is male, and a confusion matrix for the subset of the test set where gender is female.\n",
        "\n",
        "Based on the confusion matrices generated above, you are asked to\n",
        "\n",
        "* Manually measure the disparate impact by dividing the ratio of positive predictions for females by the ratio of positive predictions for males. There should be negligible bias (disparate impact is close to 1).\n",
        "* Manually measure the equal opportunity difference by subtracting the true positive rate for females from the true positive rate for males (there should be a difference around 10%).\n",
        "\n",
        "To view the below helper code in context, click [here](https://colab.research.google.com/drive/1pLOgIU_t998KKEcO9nz_6T8xWr05R1UT#scrollTo=WJquV7FWn--I&line=2&uniqifier=1)"
      ]
    },
    {
      "cell_type": "code",
      "metadata": {
        "id": "WJquV7FWn--I",
        "colab": {
          "base_uri": "https://localhost:8080/",
          "height": 332
        },
        "outputId": "089a3f68-0ad8-4e2a-875d-d96fadc43d35"
      },
      "source": [
        "biased_dataset = generate_biased_dataset(dataset, women_yes_event_subsample_rate = 0.6)\n",
        "\n",
        "biased_rf, X_cols,X_train, X_test, y_train, y_test = train_model(biased_dataset)\n",
        "plot_confusion_matrix(y_test, biased_rf.predict(X_test[X_cols]))"
      ],
      "execution_count": 12,
      "outputs": [
        {
          "output_type": "display_data",
          "data": {
            "image/png": "[encoded data removed]",
            "text/plain": [
              "<Figure size 432x288 with 2 Axes>"
            ]
          },
          "metadata": {
            "tags": [],
            "needs_background": "light"
          }
        },
        {
          "output_type": "execute_result",
          "data": {
            "text/plain": [
              "array([[4178, 2318],\n",
              "       [1590, 7153]])"
            ]
          },
          "metadata": {
            "tags": []
          },
          "execution_count": 12
        }
      ]
    },
    {
      "cell_type": "code",
      "metadata": {
        "id": "739ZbYien--J",
        "colab": {
          "base_uri": "https://localhost:8080/",
          "height": 610
        },
        "outputId": "5351d846-1881-4987-b99a-4336dc6a8137"
      },
      "source": [
        "women_test_idx = (X_test['gender']==1)\n",
        "men_test_idx = (X_test['gender']==2)\n",
        "\n",
        "cm_female = plot_confusion_matrix(\n",
        "    y_test[women_test_idx], \n",
        "    biased_rf.predict(X_test[X_cols][women_test_idx]))\n",
        "\n",
        "plot_confusion_matrix(\n",
        "    y_test[women_test_idx], \n",
        "    biased_rf.predict(X_test[X_cols][women_test_idx]),return_percentage=True)"
      ],
      "execution_count": 13,
      "outputs": [
        {
          "output_type": "display_data",
          "data": {
            "image/png": "[encoded data removed]",
            "text/plain": [
              "<Figure size 432x288 with 2 Axes>"
            ]
          },
          "metadata": {
            "tags": [],
            "needs_background": "light"
          }
        },
        {
          "output_type": "display_data",
          "data": {
            "image/png": "[encoded data removed]",
            "text/plain": [
              "<Figure size 432x288 with 2 Axes>"
            ]
          },
          "metadata": {
            "tags": [],
            "needs_background": "light"
          }
        },
        {
          "output_type": "execute_result",
          "data": {
            "text/plain": [
              "array([[0.222, 0.15 ],\n",
              "       [0.094, 0.534]])"
            ]
          },
          "metadata": {
            "tags": []
          },
          "execution_count": 13
        }
      ]
    },
    {
      "cell_type": "code",
      "metadata": {
        "id": "KFpM1jbsn--J",
        "colab": {
          "base_uri": "https://localhost:8080/",
          "height": 610
        },
        "outputId": "c0802d25-6a42-45ae-8e0a-d19fa4f641fd"
      },
      "source": [
        "cm_male = plot_confusion_matrix(\n",
        "    y_test[men_test_idx], \n",
        "    biased_rf.predict(X_test[X_cols][men_test_idx]),)\n",
        "plot_confusion_matrix(\n",
        "    y_test[men_test_idx], \n",
        "    biased_rf.predict(X_test[X_cols][men_test_idx]),return_percentage=True)"
      ],
      "execution_count": 14,
      "outputs": [
        {
          "output_type": "display_data",
          "data": {
            "image/png": "[encoded data removed]",
            "text/plain": [
              "<Figure size 432x288 with 2 Axes>"
            ]
          },
          "metadata": {
            "tags": [],
            "needs_background": "light"
          }
        },
        {
          "output_type": "display_data",
          "data": {
            "image/png": "[encoded data removed]",
            "text/plain": [
              "<Figure size 432x288 with 2 Axes>"
            ]
          },
          "metadata": {
            "tags": [],
            "needs_background": "light"
          }
        },
        {
          "output_type": "execute_result",
          "data": {
            "text/plain": [
              "array([[0.351, 0.155],\n",
              "       [0.119, 0.375]])"
            ]
          },
          "metadata": {
            "tags": []
          },
          "execution_count": 14
        }
      ]
    },
    {
      "cell_type": "markdown",
      "metadata": {
        "id": "8AhBlDMrn--J"
      },
      "source": [
        "### Place your disparate impact and equal opportunity difference measurements here¶"
      ]
    },
    {
      "cell_type": "code",
      "metadata": {
        "colab": {
          "base_uri": "https://localhost:8080/"
        },
        "id": "El20KYuE8h5e",
        "outputId": "bf5853c9-e961-483f-ca7c-906e5bf65476"
      },
      "source": [
        "# compute equal opportunity difference\r\n",
        "tpr_female = calc_metric(cm_female, metric=\"tpr\")\r\n",
        "tpr_male = calc_metric(cm_male, metric=\"tpr\")\r\n",
        "eodiff = tpr_female-tpr_male\r\n",
        "print(f\"Equal opportunity difference:\\n\\tRecall (female):\\t{tpr_female}\")\r\n",
        "print(f\"\\tRecall (male):\\t\\t{tpr_male}\")\r\n",
        "print(f\"\\tEqual opp. diff.:\\t{eodiff}\")\r\n",
        "\r\n",
        "# compute disparate impact\r\n",
        "pos_rate_female = calc_metric(cm_female, metric=\"pos_rate\")\r\n",
        "pos_rate_male = calc_metric(cm_male, metric=\"pos_rate\")\r\n",
        "disp_impact = pos_rate_female/pos_rate_male\r\n",
        "print(f\"Disparate impact:\\n\\tPositive rate (female):\\t{pos_rate_female}\")\r\n",
        "print(f\"\\tPositive rate (male):\\t{pos_rate_male}\")\r\n",
        "print(f\"\\tEqual opp. diff.:\\t{disp_impact}\")"
      ],
      "execution_count": 15,
      "outputs": [
        {
          "output_type": "stream",
          "text": [
            "Equal opportunity difference:\n",
            "\tRecall (female):\t0.5970988750740083\n",
            "\tRecall (male):\t\t0.6930724823604875\n",
            "\tEqual opp. diff.:\t-0.09597360728647919\n",
            "Disparate impact:\n",
            "\tPositive rate (female):\t0.3163343980614605\n",
            "\tPositive rate (male):\t0.4701298701298701\n",
            "\tEqual opp. diff.:\t0.6728659848268636\n"
          ],
          "name": "stdout"
        }
      ]
    },
    {
      "cell_type": "code",
      "metadata": {
        "id": "qS01C-tUnAie"
      },
      "source": [
        "# convert test df to aif360 format\r\n",
        "X_test_df = X_test\r\n",
        "aif360_gt_df = pandas_to_aif360(X_test_df.join(y_test))\r\n",
        "\r\n",
        "# predict y_test and convert to aif360 \r\n",
        "yhat_test = X_test\r\n",
        "yhat_test[\"cardio\"] = original_rf.predict(X_test)\r\n",
        "aif360_pred_df = pandas_to_aif360(yhat_test)"
      ],
      "execution_count": 18,
      "outputs": []
    },
    {
      "cell_type": "code",
      "metadata": {
        "colab": {
          "base_uri": "https://localhost:8080/"
        },
        "id": "TmZaf3sA6Y4n",
        "outputId": "baaab5ea-b028-4e9d-d997-5bfe3f8a0a44"
      },
      "source": [
        "# set gender codes\r\n",
        "female_code = 1\r\n",
        "male_code = 2\r\n",
        "metric = aif360.metrics.BinaryLabelDatasetMetric(aif360_gt_df,\r\n",
        "                                        unprivileged_groups=[{'gender':1}],\r\n",
        "                                        privileged_groups=[{'gender':2}])\r\n",
        "print(f\"Fairness metrics test dataset:\\n\\tBase rate (female):\\t{metric.base_rate(privileged=True).round(3)}\")\r\n",
        "print(f\"\\tBase rate (male):\\t{metric.base_rate(privileged=False).round(3)}\")\r\n",
        "print(f\"\\n\\tDisparate impact:\\t{metric.disparate_impact().round(3)}\")\r\n",
        "print(f\"\\n\\tMean difference:\\t{metric.mean_difference().round(3)}\")"
      ],
      "execution_count": 19,
      "outputs": [
        {
          "output_type": "stream",
          "text": [
            "Fairness metrics test dataset:\n",
            "\tBase rate (female):\t0.506\n",
            "\tBase rate (male):\t0.372\n",
            "\n",
            "\tDisparate impact:\t0.735\n",
            "\n",
            "\tMean difference:\t-0.134\n"
          ],
          "name": "stdout"
        }
      ]
    },
    {
      "cell_type": "code",
      "metadata": {
        "colab": {
          "base_uri": "https://localhost:8080/"
        },
        "id": "Q8m1mvcV6c_G",
        "outputId": "f30c4cc4-672c-482a-b018-3f2891524123"
      },
      "source": [
        "# metrics on classified data\r\n",
        "# predicted_labels(original_rf.predict(X_test[X_cols]))\r\n",
        "model_metrics = aif360.metrics.ClassificationMetric(aif360_gt_df, aif360_pred_df,\r\n",
        "                                    unprivileged_groups=[{'gender':1}],\r\n",
        "                                    privileged_groups=[{'gender':2}])\r\n",
        "\r\n",
        "print(f\"Fairness metrics classifier:\\n\\tBase rate (female):\\t{model_metrics.base_rate(privileged=True).round(3)}\")\r\n",
        "print(f\"\\tBase rate (male):\\t{model_metrics.base_rate(privileged=False).round(3)}\")\r\n",
        "print(f\"\\n\\tDisparate impact:\\t{model_metrics.disparate_impact().round(3)}\")\r\n",
        "print(f\"\\n\\tTheil index:\\t\\t{model_metrics.theil_index().round(3)}\")\r\n",
        "print(f\"\\n\\tEqual opp diff:\\t\\t{model_metrics.true_positive_rate_difference().round(3)}\")\r\n",
        "print(f\"\\n\\tConsistency:\\t\\t{model_metrics.consistency()[0].round(3)}\")\r\n"
      ],
      "execution_count": 21,
      "outputs": [
        {
          "output_type": "stream",
          "text": [
            "Fairness metrics classifier:\n",
            "\tBase rate (female):\t0.506\n",
            "\tBase rate (male):\t0.372\n",
            "\n",
            "\tDisparate impact:\t0.765\n",
            "\n",
            "\tTheil index:\t\t0.046\n",
            "\n",
            "\tEqual opp diff:\t\t0.005\n",
            "\n",
            "\tConsistency:\t\t0.631\n"
          ],
          "name": "stdout"
        }
      ]
    },
    {
      "cell_type": "markdown",
      "metadata": {
        "id": "GyTfljiBn--J"
      },
      "source": [
        "## 4. Use SHAP to interpret the biased model's predictions and demonstrate bias.\n",
        "\n",
        "* It is relatively simple to show that the model is considering gender by creating a SHAP summary plot, as we learnt in milestone 1.\n",
        "* If we were looking at this model for the first time, without prior knowledge that it had gender bias, seeing gender as a very important feature would be a red flag.\n",
        "* It is not possible to determine from the SHAP plot if the gender feature is given high importance because of genuine physiological differences, or if unwanted algorithmic bias is present.\n",
        "\n",
        "Generate a SHAP summary plot explaining the biased model. You learned this process in Milestone 1, but there is one difference here, because you are interpreting a classifier instead of a regressor.\n",
        "\n",
        "Regressor: `shap.summary_plot(shap_values, X_test[:50])`\n",
        "\n",
        "Classifier: `shap.summary_plot(shap_values[1], X_test[:50])`\n",
        "\n",
        "## Optional Exercise\n",
        "\n",
        "An interesting question: If the SHAP value is indicating that the 'gender' variable has some importance, and we don't want it to be a source of bias, could we simply remove it rather than going through a time-consuming debiasing process?\n",
        "\n",
        "Unfortunately, it is usually not so simple. In this instance, like many others, the model will be able to approximate gender using other variables. Removing the variable also can reduce the accuracy of the model.\n",
        "\n",
        "As an optional exercise, if you are curious, you can train a model without the 'gender' variable and confirm that removing the gender variable does not resolve all the algorithmic bias issues. You can pass in **exclude_gender=True** to the train_model helper function. Repeat the previous process of generating confusion matrices and manually calculating disparate impact and equal opportunity difference. Though there is less bias, it is not removed."
      ]
    },
    {
      "cell_type": "code",
      "metadata": {
        "scrolled": false,
        "id": "eXd-JysAn--J"
      },
      "source": [
        ""
      ],
      "execution_count": null,
      "outputs": []
    },
    {
      "cell_type": "markdown",
      "metadata": {
        "id": "5Mni6nCIn--J"
      },
      "source": [
        ""
      ]
    },
    {
      "cell_type": "code",
      "metadata": {
        "id": "ZX4tcPVJn--J"
      },
      "source": [
        ""
      ],
      "execution_count": null,
      "outputs": []
    },
    {
      "cell_type": "code",
      "metadata": {
        "id": "mjWsnkhln--J"
      },
      "source": [
        ""
      ],
      "execution_count": null,
      "outputs": []
    },
    {
      "cell_type": "markdown",
      "metadata": {
        "id": "G4vspQpIn--J"
      },
      "source": [
        "# Debiasing our model with AIF360\n",
        "\n",
        "We have now manually observed bias which might be unwanted. We should nail down exactly what these biases are. There are at least two obvious biases in the model we built:\n",
        " 1. Due directly to our tampering with the dataset, the model predicts more positive cases for men than women. **The relevant bias metric here is disparate impact.**\n",
        " 2. The model's errors are distributed unevenly across genders: women have a lower true positive rater than men. **The relevant bias metric here is equal opportunity difference.**\n",
        "\n",
        "The question remains which of these biases are unwanted algorithmic biases, and how we could mitigate them \n",
        "\n",
        "1. In this milestone, we artifically caused disparate impact **(1)**. However, disparities between men and women can be due to general physiological differences (for example, breast cancer is [70-100 times less common in men than in women](https://www.cancer.org/cancer/breast-cancer-in-men/about/key-statistics.html). With more knowledge about the experimental setup, a subject matter expert in cardiovascular disease would be able to give a qualified answer about the source of the bias and whether or not it's unwanted. For learning purposes, we will assume that this bias is unwanted and attempt to remove it.\n",
        "\n",
        "2. The uneven distribution of errors **(2)** is more straightforward. The model errors are unfairly distributed in such a way that borderline cases in women are more likely to be judged as negative than borderline cases in men. If we can resolve this without a substantial drop in overall accuracy, that would usually be the correct choice.\n",
        "\n",
        "For learning purposes, we will attempt to mitigate both types of bias. "
      ]
    },
    {
      "cell_type": "markdown",
      "metadata": {
        "id": "5HI2o_Sqn--J"
      },
      "source": [
        "## Debiasing steps\n",
        "\n",
        "1. Load train and test datasets into AIF360.\n",
        "2. Using ClassificationMetric, measure key bias metrics (accuracy, disparate impact, equal opportunity difference) in the biased model's predictions. \n",
        "3. Use each of the following debiasing methods:\n",
        "   * Pre-processing debiasing methods\n",
        "      * Reweighing\n",
        "\n",
        "      * Disparate Impact Remover\n",
        "\n",
        "   * Post-processing debiasing methods\n",
        "\n",
        "      * Calibration\n",
        "4. Decide on a preferred debiasing approach\n",
        "5. Select optimal thresholds and understand tradeoffs\n",
        "\n",
        "Since this workflow is quite complicated, most code is already provided. If you feel confident, you do not need to use the provided code. \n",
        "\n",
        "The parts of the workflow without provided code deserve special note. Based on the Reweighing example, you should be able to mitigate bias on your own using Disparate Impact remover. Using your knowledge of bias and performance metrics, you should be able to decide on a preferred debiasing approach and select an optimal threshold."
      ]
    },
    {
      "cell_type": "markdown",
      "metadata": {
        "id": "mOJwusSNn--J"
      },
      "source": [
        "### Understanding AIF360 Datasets and ClassificationMetrics\n",
        "\n",
        "For our purposes, AIF360 BinaryLabelDatasets have four key components:\n",
        "\n",
        "\n",
        "| Component  | Code  | Description  | \n",
        "| --- | --- | ---\n",
        "| Features | BinaryLabelDataset.features  |  features (usually inputs to a model).\n",
        "| Scores  | BinaryLabelDataset.scores |  probability of a positive event.\n",
        "| Labels  | BinaryLabelDataset.labels  | record of a positive event. Can be 1 or 0. \n",
        "| Weights  | BinaryLabelDataset.instance_weights  | when using Reweighing, instance weights will be placed here.\n",
        "\n",
        "When we run an inference over the dataset, we replace both the scores and the labels with the model's prediction over the dataset's features.\n",
        "\n",
        "When we measure bias metrics with ClassificationMetric, we generally need to pass in two BinaryLabelDataset objects. The first object will be the original dataset, the second will be the dataset which has had some inference run on it."
      ]
    },
    {
      "cell_type": "code",
      "metadata": {
        "id": "1c9b0WLzn--J"
      },
      "source": [
        "aif360_biased_dataset_train = pandas_to_aif360(pd.concat([X_train, y_train], axis=1)) #this is a helper function, you could instead use the below\n",
        "# aif360_biased_dataset = aif360.datasets.BinaryLabelDataset(1,0,df=pd.concat([X_train, y_train], axis=1),label_names=['cardio'],protected_attribute_names=['gender'])\n",
        "aif360_biased_dataset_test = pandas_to_aif360(pd.concat([X_test.drop([\"cardio\"], axis=1), y_test], axis=1))\n",
        "results = {}"
      ],
      "execution_count": 24,
      "outputs": []
    },
    {
      "cell_type": "markdown",
      "metadata": {
        "id": "lZayCUIKn--J"
      },
      "source": [
        "### Measure key bias metrics using the original model to predict on the test set\n",
        "\n",
        " - Here we want to measure our key bias metrics (equal opportunity difference and disparate impact), as well as measure accuracy and precision in general, with AIF-360.\n",
        " - This serves both to confirm the manual measurements you already made and to serve as a benchmark for each debiasing method we will try."
      ]
    },
    {
      "cell_type": "code",
      "metadata": {
        "id": "sJPmbZ-vn--J"
      },
      "source": [
        "dataset_pred = aif360_biased_dataset_test.copy()\n",
        "dataset_pred.labels = biased_rf.predict(aif360_biased_dataset_test.features)\n",
        "dataset_pred.scores = biased_rf.predict_proba(aif360_biased_dataset_test.features)[:,1]\n",
        "\n",
        "unprivileged_groups = [{'gender':1.0}] #women\n",
        "privileged_groups = [{'gender':2.0}] #men\n",
        "\n",
        "metric = ClassificationMetric(\n",
        "        aif360_biased_dataset_test, dataset_pred,\n",
        "        unprivileged_groups=unprivileged_groups,\n",
        "        privileged_groups=privileged_groups)\n",
        "\n",
        "results['original_model'] = {'accuracy':metric.accuracy(),\n",
        "                               'precision':metric.precision(),\n",
        "                               'eq_diff': metric.equal_opportunity_difference(),\n",
        "'disparate_impact':metric.disparate_impact()}"
      ],
      "execution_count": 25,
      "outputs": []
    },
    {
      "cell_type": "markdown",
      "metadata": {
        "id": "M41zRQyCn--J"
      },
      "source": [
        "## Preprocessing the data using Reweighing\n",
        "\n",
        "Reweighing works by assigning weights to each row in the train dataset, such that the proportion of (group, outcome) is equal. A model can be then trained on the reweighed train dataset and tested on the test dataset without any reweighing. The steps are as follows:\n",
        "\n",
        " - Initialize reweighing object\n",
        " - Using fit_transform, create a reweighed train dataset from aif360_biased_dataset_train\n",
        " - Create a new model (eg RF) and train it on the reweighed train dataset\n",
        " - Use the new model to predict on the test dataset\n",
        " - Using ClassificationMetric, evalutae performance on the test dataset"
      ]
    },
    {
      "cell_type": "code",
      "metadata": {
        "id": "yfr7ZnRDn--J"
      },
      "source": [
        "RW = Reweighing(unprivileged_groups=unprivileged_groups, privileged_groups=privileged_groups) #initialize reweighing object\n",
        "reweighed_dataset = RW.fit_transform(aif360_biased_dataset_train) #create reweighed train dataset\n",
        "\n",
        "#train new model on reweighed dataset\n",
        "reweighed_rf = RandomForestClassifier(random_state=42) \n",
        "reweighed_rf.fit(reweighed_dataset.features, reweighed_dataset.labels.ravel(), sample_weight=reweighed_dataset.instance_weights)\n",
        "\n",
        "#infer on the test dataset using new model\n",
        "reweighing_test = aif360_biased_dataset_test.copy()\n",
        "reweighing_test.scores = reweighed_rf.predict_proba(aif360_biased_dataset_test.features)[:,1]\n",
        "reweighing_test.labels = reweighed_rf.predict(aif360_biased_dataset_test.features) \n",
        "\n",
        "metric = ClassificationMetric(\n",
        "        aif360_biased_dataset_test, reweighing_test,\n",
        "        unprivileged_groups=unprivileged_groups,\n",
        "        privileged_groups=privileged_groups)\n",
        "\n",
        "results['reweigher'] = {'accuracy':metric.accuracy(),\n",
        "                        'precision':metric.precision(),\n",
        "                        'eq_diff': metric.equal_opportunity_difference(),\n",
        "                        'disparate_impact':metric.disparate_impact()} "
      ],
      "execution_count": 26,
      "outputs": []
    },
    {
      "cell_type": "markdown",
      "metadata": {
        "id": "jpcXt8hrn--J"
      },
      "source": [
        "## Preprocessing the data using Disparate Impact Remover\n",
        "\n",
        "Disparate Impact Remover works by dividing the training set according to protected class and ensuring that the features in all divisions have similar distributions. A model can be then trained on the altered train dataset and tested on the unchanged test dataset. The steps are as follows:\n",
        "\n",
        " - Initialize Disparate Impact Remover object (you need to pass in the 'sensitive_attribute' and repair level)\n",
        " - Using fit_transform, create an altered train dataset from aif360_biased_dataset_train\n",
        " - Create a new model (eg RF) and train it on the reweighed train dataset\n",
        " - Use the new model to predict on the test dataset\n",
        " - Using ClassificationMetric, evalutae performance on the test dataset\n",
        " \n",
        "This pipeline is very similar to the Reweighing pipeline. Use the Reweighing pipeline code as a guide to implement this part."
      ]
    },
    {
      "cell_type": "code",
      "metadata": {
        "id": "wkC6SClZn--J"
      },
      "source": [
        ""
      ],
      "execution_count": 26,
      "outputs": []
    },
    {
      "cell_type": "markdown",
      "metadata": {
        "id": "GOmRb8tcn--J"
      },
      "source": [
        "<!-- ## In-processing debiasing using Prejudice Remover\n",
        "\n",
        "Prejudice Remover trains a model with a regularization term to penalize discrimination along protected-class lines. For this method, the original model is not necessary. The steps are as follows:\n",
        "\n",
        " - Initialize PrejudiceRemover object\n",
        " - Train the PrejudiceRemover on the train dataset\n",
        " - Use the PrejudiceRemover to predict on the test dataset\n",
        " - Using ClassificationMetric, evaluatee performance on the test dataset\n",
        " -->"
      ]
    },
    {
      "cell_type": "markdown",
      "metadata": {
        "id": "TRI47Sbfn--J"
      },
      "source": [
        "## Post-processing debiasing using Calibrated Equal Odds Postprocessing\n",
        "\n",
        "Calibrated Equal Odds Postprocessing adds an additional objective for regions of the model's prediction which carry high differences in odds between the protected and unprotected class members. The steps are as fllows:\n",
        "\n",
        " - Use the original model to predict on both the train and test sets\n",
        " - Initialize the CalibratedEqOddsPostprocessing object \n",
        " - Train the postprocessor on the model's predictions for the train dataset\n",
        " - Run the postprocessor on the model's predictions for the test dataset\n",
        " - Using ClassificationMetric, evaluate the performance of the postprocessor"
      ]
    },
    {
      "cell_type": "code",
      "metadata": {
        "id": "oRq5DA1Hn--J"
      },
      "source": [
        "postprocessor = CalibratedEqOddsPostprocessing(unprivileged_groups, privileged_groups)\n",
        "dataset_pred_train = aif360_biased_dataset_train.copy()\n",
        "dataset_pred_test = aif360_biased_dataset_test.copy()\n",
        "dataset_pred_train.labels = biased_rf.predict(aif360_biased_dataset_train.features)\n",
        "dataset_pred_train.scores = biased_rf.predict_proba(aif360_biased_dataset_train.features)[:,1]\n",
        "dataset_pred_test.labels = biased_rf.predict(aif360_biased_dataset_test.features)\n",
        "dataset_pred_test.scores = biased_rf.predict_proba(aif360_biased_dataset_test.features)[:,1]\n",
        "\n",
        "postprocessor.fit(aif360_biased_dataset_train, dataset_pred_train)\n",
        "\n",
        "postprocessed = postprocessor.predict(dataset_pred_test)\n",
        "\n",
        "metric = ClassificationMetric(\n",
        "        aif360_biased_dataset_test, postprocessed,\n",
        "        unprivileged_groups=unprivileged_groups,\n",
        "        privileged_groups=privileged_groups)\n",
        "\n",
        "results['post-calibration'] = {'accuracy':metric.accuracy(),\n",
        "                               'precision':metric.precision(),\n",
        "                                'eq_diff': metric.equal_opportunity_difference(),\n",
        "                                'disparate_impact':metric.disparate_impact()}\n"
      ],
      "execution_count": 27,
      "outputs": []
    },
    {
      "cell_type": "markdown",
      "metadata": {
        "id": "5O8x086Zn--J"
      },
      "source": [
        "## Summarize your results\n",
        "Review the accuracy, precision, equal opportunity difference, and disparate impact for the original model and each debiasing method. Does debiasing make a difference? Is there a large tradeoff between accuracy/precision and the debiasing process? "
      ]
    },
    {
      "cell_type": "code",
      "metadata": {
        "id": "fqHhsUwvn--J",
        "colab": {
          "base_uri": "https://localhost:8080/",
          "height": 143
        },
        "outputId": "761449c8-f5e5-4e2a-c26e-9d7c2072cf45"
      },
      "source": [
        "pd.DataFrame(results).T"
      ],
      "execution_count": 28,
      "outputs": [
        {
          "output_type": "execute_result",
          "data": {
            "text/html": [
              "<div>\n",
              "<style scoped>\n",
              "    .dataframe tbody tr th:only-of-type {\n",
              "        vertical-align: middle;\n",
              "    }\n",
              "\n",
              "    .dataframe tbody tr th {\n",
              "        vertical-align: top;\n",
              "    }\n",
              "\n",
              "    .dataframe thead th {\n",
              "        text-align: right;\n",
              "    }\n",
              "</style>\n",
              "<table border=\"1\" class=\"dataframe\">\n",
              "  <thead>\n",
              "    <tr style=\"text-align: right;\">\n",
              "      <th></th>\n",
              "      <th>accuracy</th>\n",
              "      <th>precision</th>\n",
              "      <th>eq_diff</th>\n",
              "      <th>disparate_impact</th>\n",
              "    </tr>\n",
              "  </thead>\n",
              "  <tbody>\n",
              "    <tr>\n",
              "      <th>original_model</th>\n",
              "      <td>0.743553</td>\n",
              "      <td>0.724341</td>\n",
              "      <td>-0.095974</td>\n",
              "      <td>0.672866</td>\n",
              "    </tr>\n",
              "    <tr>\n",
              "      <th>reweigher</th>\n",
              "      <td>0.741912</td>\n",
              "      <td>0.723064</td>\n",
              "      <td>-0.090127</td>\n",
              "      <td>0.686807</td>\n",
              "    </tr>\n",
              "    <tr>\n",
              "      <th>post-calibration</th>\n",
              "      <td>0.740206</td>\n",
              "      <td>0.717918</td>\n",
              "      <td>-0.114180</td>\n",
              "      <td>0.657150</td>\n",
              "    </tr>\n",
              "  </tbody>\n",
              "</table>\n",
              "</div>"
            ],
            "text/plain": [
              "                  accuracy  precision   eq_diff  disparate_impact\n",
              "original_model    0.743553   0.724341 -0.095974          0.672866\n",
              "reweigher         0.741912   0.723064 -0.090127          0.686807\n",
              "post-calibration  0.740206   0.717918 -0.114180          0.657150"
            ]
          },
          "metadata": {
            "tags": []
          },
          "execution_count": 28
        }
      ]
    },
    {
      "cell_type": "markdown",
      "metadata": {
        "id": "tKoB25gAn--J"
      },
      "source": [
        "### 6. Threshold Selection"
      ]
    },
    {
      "cell_type": "markdown",
      "metadata": {
        "id": "JPJ_mWVQn--J"
      },
      "source": [
        "The output of both Reweighing and Disparate Impact Removers is a new classifier object. These classifiers can be fine-tuned further by selecting a threshold.\n",
        "\n",
        "The default threshold for scikit-learn classifiers is 0.5 . The classifier's binary output represents an expected probability either below or above/equal this theshold. We can manipulate the threshold if we see that a different threshold shows improved results.\n",
        "\n",
        "When debiasing, threshold selection is especially important, because it gives data scientists a sense of how much model performance could be sacrificed to reach a certain bias measure (eg >0.8 Disparate Impact). If the sacrifice to model performance is low, an alternate threshold with better bias metrics could be chosen. \n",
        "\n",
        "Below you are provided some sample code which evaluates each percentage threshold from 0% to 100% for the original biased model and Reweighing model. You are asked to do the following:\n",
        "\n",
        " - Run the code to evaluate each percentage threshold\n",
        " - Add additional code to evaluate the percentage thresholds for the Reweighing model\n",
        " - Observe the shifts in accuracy, precision, disparate impact and average odds difference across each threshold\n",
        " - Is it possible to say which model, provides the best performance and at which threshold? Would you recommend a non-default threshold for your preferred model? Refer to the resource on impossibility for an explanation of why one threshold will not maximize all metrics."
      ]
    },
    {
      "cell_type": "code",
      "metadata": {
        "id": "IcwVxp3Qn--J",
        "colab": {
          "base_uri": "https://localhost:8080/",
          "height": 1000
        },
        "outputId": "a92ecfff-6ef6-45e4-eaab-1e60dcb2f9c1"
      },
      "source": [
        "reports = []\n",
        "pd.set_option('display.max_rows', 1000)\n",
        "for thresh in np.linspace(0,1,101):\n",
        "    #apply new threshold\n",
        "    dataset_pred.labels = dataset_pred.scores>=thresh \n",
        "    reweighing_test.labels = reweighing_test.scores>=thresh\n",
        "    \n",
        "    #get bias and acccuracy metrics\n",
        "    metric_original_rf = ClassificationMetric(\n",
        "        aif360_biased_dataset_test, dataset_pred,\n",
        "        unprivileged_groups=unprivileged_groups,\n",
        "        privileged_groups=privileged_groups)\n",
        "    \n",
        "    metric_reweighed_rf = ClassificationMetric(\n",
        "        aif360_biased_dataset_test, reweighing_test,\n",
        "        unprivileged_groups=unprivileged_groups,\n",
        "        privileged_groups=privileged_groups)\n",
        "\n",
        "    #record metrics\n",
        "    reports.append((thresh, \n",
        "          metric_original_rf.accuracy(), \n",
        "          metric_original_rf.average_odds_difference(),\n",
        "          metric_original_rf.disparate_impact(),\n",
        "          metric_reweighed_rf.accuracy(), \n",
        "          metric_reweighed_rf.average_odds_difference(),\n",
        "          metric_reweighed_rf.disparate_impact()))\n",
        "\n",
        "report_df = pd.DataFrame(reports)\n",
        "report_df.columns = ['threshhold','accuracy_original',\n",
        "                     'average_odds_difference_original',\n",
        "                     'disparate_impact_original',\n",
        "                     'accuracy_reweighed',\n",
        "                     'average_odds_difference_reweighed',\n",
        "                     'disparate_impact_reweighed']\n",
        "display(report_df.set_index('threshhold'))"
      ],
      "execution_count": 29,
      "outputs": [
        {
          "output_type": "stream",
          "text": [
            "invalid value encountered in double_scalars\n"
          ],
          "name": "stderr"
        },
        {
          "output_type": "display_data",
          "data": {
            "text/html": [
              "<div>\n",
              "<style scoped>\n",
              "    .dataframe tbody tr th:only-of-type {\n",
              "        vertical-align: middle;\n",
              "    }\n",
              "\n",
              "    .dataframe tbody tr th {\n",
              "        vertical-align: top;\n",
              "    }\n",
              "\n",
              "    .dataframe thead th {\n",
              "        text-align: right;\n",
              "    }\n",
              "</style>\n",
              "<table border=\"1\" class=\"dataframe\">\n",
              "  <thead>\n",
              "    <tr style=\"text-align: right;\">\n",
              "      <th></th>\n",
              "      <th>accuracy_original</th>\n",
              "      <th>average_odds_difference_original</th>\n",
              "      <th>disparate_impact_original</th>\n",
              "      <th>accuracy_reweighed</th>\n",
              "      <th>average_odds_difference_reweighed</th>\n",
              "      <th>disparate_impact_reweighed</th>\n",
              "    </tr>\n",
              "    <tr>\n",
              "      <th>threshhold</th>\n",
              "      <th></th>\n",
              "      <th></th>\n",
              "      <th></th>\n",
              "      <th></th>\n",
              "      <th></th>\n",
              "      <th></th>\n",
              "    </tr>\n",
              "  </thead>\n",
              "  <tbody>\n",
              "    <tr>\n",
              "      <th>0.00</th>\n",
              "      <td>0.426275</td>\n",
              "      <td>0.000000</td>\n",
              "      <td>1.000000</td>\n",
              "      <td>0.426275</td>\n",
              "      <td>0.000000</td>\n",
              "      <td>1.000000</td>\n",
              "    </tr>\n",
              "    <tr>\n",
              "      <th>0.01</th>\n",
              "      <td>0.428440</td>\n",
              "      <td>-0.003130</td>\n",
              "      <td>0.996145</td>\n",
              "      <td>0.429293</td>\n",
              "      <td>-0.003530</td>\n",
              "      <td>0.995477</td>\n",
              "    </tr>\n",
              "    <tr>\n",
              "      <th>0.02</th>\n",
              "      <td>0.431918</td>\n",
              "      <td>-0.008632</td>\n",
              "      <td>0.989527</td>\n",
              "      <td>0.433493</td>\n",
              "      <td>-0.009094</td>\n",
              "      <td>0.988576</td>\n",
              "    </tr>\n",
              "    <tr>\n",
              "      <th>0.03</th>\n",
              "      <td>0.437824</td>\n",
              "      <td>-0.015330</td>\n",
              "      <td>0.981082</td>\n",
              "      <td>0.439465</td>\n",
              "      <td>-0.015432</td>\n",
              "      <td>0.980555</td>\n",
              "    </tr>\n",
              "    <tr>\n",
              "      <th>0.04</th>\n",
              "      <td>0.445961</td>\n",
              "      <td>-0.025449</td>\n",
              "      <td>0.968495</td>\n",
              "      <td>0.446617</td>\n",
              "      <td>-0.023203</td>\n",
              "      <td>0.970599</td>\n",
              "    </tr>\n",
              "    <tr>\n",
              "      <th>0.05</th>\n",
              "      <td>0.455345</td>\n",
              "      <td>-0.034096</td>\n",
              "      <td>0.956951</td>\n",
              "      <td>0.455476</td>\n",
              "      <td>-0.030807</td>\n",
              "      <td>0.960340</td>\n",
              "    </tr>\n",
              "    <tr>\n",
              "      <th>0.06</th>\n",
              "      <td>0.464794</td>\n",
              "      <td>-0.041555</td>\n",
              "      <td>0.946578</td>\n",
              "      <td>0.464926</td>\n",
              "      <td>-0.037347</td>\n",
              "      <td>0.950914</td>\n",
              "    </tr>\n",
              "    <tr>\n",
              "      <th>0.07</th>\n",
              "      <td>0.474834</td>\n",
              "      <td>-0.050454</td>\n",
              "      <td>0.934410</td>\n",
              "      <td>0.473850</td>\n",
              "      <td>-0.043009</td>\n",
              "      <td>0.942446</td>\n",
              "    </tr>\n",
              "    <tr>\n",
              "      <th>0.08</th>\n",
              "      <td>0.485006</td>\n",
              "      <td>-0.059789</td>\n",
              "      <td>0.921678</td>\n",
              "      <td>0.484284</td>\n",
              "      <td>-0.050736</td>\n",
              "      <td>0.931121</td>\n",
              "    </tr>\n",
              "    <tr>\n",
              "      <th>0.09</th>\n",
              "      <td>0.495308</td>\n",
              "      <td>-0.067574</td>\n",
              "      <td>0.910460</td>\n",
              "      <td>0.493930</td>\n",
              "      <td>-0.055840</td>\n",
              "      <td>0.922923</td>\n",
              "    </tr>\n",
              "    <tr>\n",
              "      <th>0.10</th>\n",
              "      <td>0.506070</td>\n",
              "      <td>-0.075844</td>\n",
              "      <td>0.898381</td>\n",
              "      <td>0.506070</td>\n",
              "      <td>-0.063675</td>\n",
              "      <td>0.910767</td>\n",
              "    </tr>\n",
              "    <tr>\n",
              "      <th>0.11</th>\n",
              "      <td>0.517422</td>\n",
              "      <td>-0.080638</td>\n",
              "      <td>0.889327</td>\n",
              "      <td>0.516766</td>\n",
              "      <td>-0.070948</td>\n",
              "      <td>0.899603</td>\n",
              "    </tr>\n",
              "    <tr>\n",
              "      <th>0.12</th>\n",
              "      <td>0.529365</td>\n",
              "      <td>-0.088917</td>\n",
              "      <td>0.876499</td>\n",
              "      <td>0.526150</td>\n",
              "      <td>-0.078313</td>\n",
              "      <td>0.888567</td>\n",
              "    </tr>\n",
              "    <tr>\n",
              "      <th>0.13</th>\n",
              "      <td>0.540324</td>\n",
              "      <td>-0.095329</td>\n",
              "      <td>0.865589</td>\n",
              "      <td>0.537962</td>\n",
              "      <td>-0.081990</td>\n",
              "      <td>0.880163</td>\n",
              "    </tr>\n",
              "    <tr>\n",
              "      <th>0.14</th>\n",
              "      <td>0.551808</td>\n",
              "      <td>-0.101613</td>\n",
              "      <td>0.854340</td>\n",
              "      <td>0.548658</td>\n",
              "      <td>-0.090743</td>\n",
              "      <td>0.866630</td>\n",
              "    </tr>\n",
              "    <tr>\n",
              "      <th>0.15</th>\n",
              "      <td>0.562504</td>\n",
              "      <td>-0.108531</td>\n",
              "      <td>0.842291</td>\n",
              "      <td>0.558107</td>\n",
              "      <td>-0.096711</td>\n",
              "      <td>0.856122</td>\n",
              "    </tr>\n",
              "    <tr>\n",
              "      <th>0.16</th>\n",
              "      <td>0.571888</td>\n",
              "      <td>-0.114776</td>\n",
              "      <td>0.831281</td>\n",
              "      <td>0.568738</td>\n",
              "      <td>-0.103403</td>\n",
              "      <td>0.844161</td>\n",
              "    </tr>\n",
              "    <tr>\n",
              "      <th>0.17</th>\n",
              "      <td>0.580944</td>\n",
              "      <td>-0.120754</td>\n",
              "      <td>0.820348</td>\n",
              "      <td>0.579369</td>\n",
              "      <td>-0.107364</td>\n",
              "      <td>0.834774</td>\n",
              "    </tr>\n",
              "    <tr>\n",
              "      <th>0.18</th>\n",
              "      <td>0.590590</td>\n",
              "      <td>-0.126910</td>\n",
              "      <td>0.808774</td>\n",
              "      <td>0.588096</td>\n",
              "      <td>-0.111580</td>\n",
              "      <td>0.825611</td>\n",
              "    </tr>\n",
              "    <tr>\n",
              "      <th>0.19</th>\n",
              "      <td>0.599449</td>\n",
              "      <td>-0.132299</td>\n",
              "      <td>0.798095</td>\n",
              "      <td>0.598071</td>\n",
              "      <td>-0.113574</td>\n",
              "      <td>0.818238</td>\n",
              "    </tr>\n",
              "    <tr>\n",
              "      <th>0.20</th>\n",
              "      <td>0.608439</td>\n",
              "      <td>-0.137212</td>\n",
              "      <td>0.787652</td>\n",
              "      <td>0.608373</td>\n",
              "      <td>-0.116020</td>\n",
              "      <td>0.810257</td>\n",
              "    </tr>\n",
              "    <tr>\n",
              "      <th>0.21</th>\n",
              "      <td>0.617888</td>\n",
              "      <td>-0.140932</td>\n",
              "      <td>0.777348</td>\n",
              "      <td>0.617757</td>\n",
              "      <td>-0.122458</td>\n",
              "      <td>0.797832</td>\n",
              "    </tr>\n",
              "    <tr>\n",
              "      <th>0.22</th>\n",
              "      <td>0.625041</td>\n",
              "      <td>-0.144411</td>\n",
              "      <td>0.768244</td>\n",
              "      <td>0.627797</td>\n",
              "      <td>-0.124438</td>\n",
              "      <td>0.789202</td>\n",
              "    </tr>\n",
              "    <tr>\n",
              "      <th>0.23</th>\n",
              "      <td>0.632719</td>\n",
              "      <td>-0.145583</td>\n",
              "      <td>0.761218</td>\n",
              "      <td>0.635737</td>\n",
              "      <td>-0.124939</td>\n",
              "      <td>0.783708</td>\n",
              "    </tr>\n",
              "    <tr>\n",
              "      <th>0.24</th>\n",
              "      <td>0.640528</td>\n",
              "      <td>-0.147533</td>\n",
              "      <td>0.752897</td>\n",
              "      <td>0.645252</td>\n",
              "      <td>-0.127273</td>\n",
              "      <td>0.774536</td>\n",
              "    </tr>\n",
              "    <tr>\n",
              "      <th>0.25</th>\n",
              "      <td>0.648861</td>\n",
              "      <td>-0.147281</td>\n",
              "      <td>0.746758</td>\n",
              "      <td>0.653586</td>\n",
              "      <td>-0.126174</td>\n",
              "      <td>0.769838</td>\n",
              "    </tr>\n",
              "    <tr>\n",
              "      <th>0.26</th>\n",
              "      <td>0.655949</td>\n",
              "      <td>-0.147182</td>\n",
              "      <td>0.741116</td>\n",
              "      <td>0.659426</td>\n",
              "      <td>-0.126061</td>\n",
              "      <td>0.763972</td>\n",
              "    </tr>\n",
              "    <tr>\n",
              "      <th>0.27</th>\n",
              "      <td>0.663954</td>\n",
              "      <td>-0.144391</td>\n",
              "      <td>0.738240</td>\n",
              "      <td>0.665989</td>\n",
              "      <td>-0.127244</td>\n",
              "      <td>0.757146</td>\n",
              "    </tr>\n",
              "    <tr>\n",
              "      <th>0.28</th>\n",
              "      <td>0.670582</td>\n",
              "      <td>-0.144822</td>\n",
              "      <td>0.730942</td>\n",
              "      <td>0.671960</td>\n",
              "      <td>-0.127481</td>\n",
              "      <td>0.750899</td>\n",
              "    </tr>\n",
              "    <tr>\n",
              "      <th>0.29</th>\n",
              "      <td>0.676357</td>\n",
              "      <td>-0.141322</td>\n",
              "      <td>0.729296</td>\n",
              "      <td>0.677669</td>\n",
              "      <td>-0.128422</td>\n",
              "      <td>0.743808</td>\n",
              "    </tr>\n",
              "    <tr>\n",
              "      <th>0.30</th>\n",
              "      <td>0.682722</td>\n",
              "      <td>-0.144045</td>\n",
              "      <td>0.720098</td>\n",
              "      <td>0.683378</td>\n",
              "      <td>-0.126657</td>\n",
              "      <td>0.740141</td>\n",
              "    </tr>\n",
              "    <tr>\n",
              "      <th>0.31</th>\n",
              "      <td>0.688628</td>\n",
              "      <td>-0.143422</td>\n",
              "      <td>0.714256</td>\n",
              "      <td>0.690793</td>\n",
              "      <td>-0.125837</td>\n",
              "      <td>0.734142</td>\n",
              "    </tr>\n",
              "    <tr>\n",
              "      <th>0.32</th>\n",
              "      <td>0.693943</td>\n",
              "      <td>-0.142484</td>\n",
              "      <td>0.709654</td>\n",
              "      <td>0.695190</td>\n",
              "      <td>-0.126126</td>\n",
              "      <td>0.728777</td>\n",
              "    </tr>\n",
              "    <tr>\n",
              "      <th>0.33</th>\n",
              "      <td>0.698930</td>\n",
              "      <td>-0.143579</td>\n",
              "      <td>0.702415</td>\n",
              "      <td>0.700046</td>\n",
              "      <td>-0.123482</td>\n",
              "      <td>0.726174</td>\n",
              "    </tr>\n",
              "    <tr>\n",
              "      <th>0.34</th>\n",
              "      <td>0.704443</td>\n",
              "      <td>-0.141442</td>\n",
              "      <td>0.698614</td>\n",
              "      <td>0.705033</td>\n",
              "      <td>-0.124001</td>\n",
              "      <td>0.719349</td>\n",
              "    </tr>\n",
              "    <tr>\n",
              "      <th>0.35</th>\n",
              "      <td>0.713039</td>\n",
              "      <td>-0.136052</td>\n",
              "      <td>0.693060</td>\n",
              "      <td>0.714548</td>\n",
              "      <td>-0.116040</td>\n",
              "      <td>0.717541</td>\n",
              "    </tr>\n",
              "    <tr>\n",
              "      <th>0.36</th>\n",
              "      <td>0.713039</td>\n",
              "      <td>-0.136052</td>\n",
              "      <td>0.693060</td>\n",
              "      <td>0.714548</td>\n",
              "      <td>-0.116040</td>\n",
              "      <td>0.717541</td>\n",
              "    </tr>\n",
              "    <tr>\n",
              "      <th>0.37</th>\n",
              "      <td>0.717239</td>\n",
              "      <td>-0.133435</td>\n",
              "      <td>0.689531</td>\n",
              "      <td>0.718157</td>\n",
              "      <td>-0.114958</td>\n",
              "      <td>0.712781</td>\n",
              "    </tr>\n",
              "    <tr>\n",
              "      <th>0.38</th>\n",
              "      <td>0.721635</td>\n",
              "      <td>-0.130054</td>\n",
              "      <td>0.687098</td>\n",
              "      <td>0.720782</td>\n",
              "      <td>-0.110749</td>\n",
              "      <td>0.713166</td>\n",
              "    </tr>\n",
              "    <tr>\n",
              "      <th>0.39</th>\n",
              "      <td>0.724588</td>\n",
              "      <td>-0.128115</td>\n",
              "      <td>0.684516</td>\n",
              "      <td>0.722948</td>\n",
              "      <td>-0.108737</td>\n",
              "      <td>0.710726</td>\n",
              "    </tr>\n",
              "    <tr>\n",
              "      <th>0.40</th>\n",
              "      <td>0.726360</td>\n",
              "      <td>-0.123164</td>\n",
              "      <td>0.685959</td>\n",
              "      <td>0.726426</td>\n",
              "      <td>-0.105457</td>\n",
              "      <td>0.708640</td>\n",
              "    </tr>\n",
              "    <tr>\n",
              "      <th>0.41</th>\n",
              "      <td>0.731216</td>\n",
              "      <td>-0.116124</td>\n",
              "      <td>0.684726</td>\n",
              "      <td>0.731150</td>\n",
              "      <td>-0.102352</td>\n",
              "      <td>0.703013</td>\n",
              "    </tr>\n",
              "    <tr>\n",
              "      <th>0.42</th>\n",
              "      <td>0.731216</td>\n",
              "      <td>-0.116124</td>\n",
              "      <td>0.684726</td>\n",
              "      <td>0.731150</td>\n",
              "      <td>-0.102352</td>\n",
              "      <td>0.703013</td>\n",
              "    </tr>\n",
              "    <tr>\n",
              "      <th>0.43</th>\n",
              "      <td>0.733185</td>\n",
              "      <td>-0.113685</td>\n",
              "      <td>0.682869</td>\n",
              "      <td>0.734300</td>\n",
              "      <td>-0.097206</td>\n",
              "      <td>0.704907</td>\n",
              "    </tr>\n",
              "    <tr>\n",
              "      <th>0.44</th>\n",
              "      <td>0.735809</td>\n",
              "      <td>-0.109612</td>\n",
              "      <td>0.682963</td>\n",
              "      <td>0.735875</td>\n",
              "      <td>-0.095574</td>\n",
              "      <td>0.702138</td>\n",
              "    </tr>\n",
              "    <tr>\n",
              "      <th>0.45</th>\n",
              "      <td>0.735941</td>\n",
              "      <td>-0.108555</td>\n",
              "      <td>0.679736</td>\n",
              "      <td>0.736531</td>\n",
              "      <td>-0.094140</td>\n",
              "      <td>0.699598</td>\n",
              "    </tr>\n",
              "    <tr>\n",
              "      <th>0.46</th>\n",
              "      <td>0.737516</td>\n",
              "      <td>-0.103647</td>\n",
              "      <td>0.682317</td>\n",
              "      <td>0.737187</td>\n",
              "      <td>-0.091121</td>\n",
              "      <td>0.699617</td>\n",
              "    </tr>\n",
              "    <tr>\n",
              "      <th>0.47</th>\n",
              "      <td>0.740206</td>\n",
              "      <td>-0.099961</td>\n",
              "      <td>0.678268</td>\n",
              "      <td>0.739681</td>\n",
              "      <td>-0.089469</td>\n",
              "      <td>0.693596</td>\n",
              "    </tr>\n",
              "    <tr>\n",
              "      <th>0.48</th>\n",
              "      <td>0.740206</td>\n",
              "      <td>-0.099961</td>\n",
              "      <td>0.678268</td>\n",
              "      <td>0.739681</td>\n",
              "      <td>-0.089469</td>\n",
              "      <td>0.693596</td>\n",
              "    </tr>\n",
              "    <tr>\n",
              "      <th>0.49</th>\n",
              "      <td>0.742962</td>\n",
              "      <td>-0.096847</td>\n",
              "      <td>0.677813</td>\n",
              "      <td>0.740665</td>\n",
              "      <td>-0.086943</td>\n",
              "      <td>0.692768</td>\n",
              "    </tr>\n",
              "    <tr>\n",
              "      <th>0.50</th>\n",
              "      <td>0.743225</td>\n",
              "      <td>-0.095114</td>\n",
              "      <td>0.675965</td>\n",
              "      <td>0.740337</td>\n",
              "      <td>-0.087627</td>\n",
              "      <td>0.688071</td>\n",
              "    </tr>\n",
              "    <tr>\n",
              "      <th>0.51</th>\n",
              "      <td>0.743553</td>\n",
              "      <td>-0.093809</td>\n",
              "      <td>0.672866</td>\n",
              "      <td>0.741912</td>\n",
              "      <td>-0.085756</td>\n",
              "      <td>0.686807</td>\n",
              "    </tr>\n",
              "    <tr>\n",
              "      <th>0.52</th>\n",
              "      <td>0.744275</td>\n",
              "      <td>-0.094578</td>\n",
              "      <td>0.666832</td>\n",
              "      <td>0.741715</td>\n",
              "      <td>-0.083662</td>\n",
              "      <td>0.685303</td>\n",
              "    </tr>\n",
              "    <tr>\n",
              "      <th>0.53</th>\n",
              "      <td>0.742568</td>\n",
              "      <td>-0.093906</td>\n",
              "      <td>0.663692</td>\n",
              "      <td>0.741715</td>\n",
              "      <td>-0.082071</td>\n",
              "      <td>0.683943</td>\n",
              "    </tr>\n",
              "    <tr>\n",
              "      <th>0.54</th>\n",
              "      <td>0.742175</td>\n",
              "      <td>-0.093656</td>\n",
              "      <td>0.660498</td>\n",
              "      <td>0.741978</td>\n",
              "      <td>-0.080836</td>\n",
              "      <td>0.682523</td>\n",
              "    </tr>\n",
              "    <tr>\n",
              "      <th>0.55</th>\n",
              "      <td>0.742043</td>\n",
              "      <td>-0.091500</td>\n",
              "      <td>0.659614</td>\n",
              "      <td>0.742700</td>\n",
              "      <td>-0.078843</td>\n",
              "      <td>0.681320</td>\n",
              "    </tr>\n",
              "    <tr>\n",
              "      <th>0.56</th>\n",
              "      <td>0.741715</td>\n",
              "      <td>-0.090250</td>\n",
              "      <td>0.656860</td>\n",
              "      <td>0.742109</td>\n",
              "      <td>-0.078900</td>\n",
              "      <td>0.677443</td>\n",
              "    </tr>\n",
              "    <tr>\n",
              "      <th>0.57</th>\n",
              "      <td>0.740731</td>\n",
              "      <td>-0.087195</td>\n",
              "      <td>0.653052</td>\n",
              "      <td>0.740928</td>\n",
              "      <td>-0.076451</td>\n",
              "      <td>0.673596</td>\n",
              "    </tr>\n",
              "    <tr>\n",
              "      <th>0.58</th>\n",
              "      <td>0.740731</td>\n",
              "      <td>-0.087195</td>\n",
              "      <td>0.653052</td>\n",
              "      <td>0.740928</td>\n",
              "      <td>-0.076451</td>\n",
              "      <td>0.673596</td>\n",
              "    </tr>\n",
              "    <tr>\n",
              "      <th>0.59</th>\n",
              "      <td>0.740075</td>\n",
              "      <td>-0.084268</td>\n",
              "      <td>0.653583</td>\n",
              "      <td>0.739615</td>\n",
              "      <td>-0.074436</td>\n",
              "      <td>0.672932</td>\n",
              "    </tr>\n",
              "    <tr>\n",
              "      <th>0.60</th>\n",
              "      <td>0.738434</td>\n",
              "      <td>-0.082028</td>\n",
              "      <td>0.652727</td>\n",
              "      <td>0.738762</td>\n",
              "      <td>-0.075198</td>\n",
              "      <td>0.667463</td>\n",
              "    </tr>\n",
              "    <tr>\n",
              "      <th>0.61</th>\n",
              "      <td>0.737122</td>\n",
              "      <td>-0.082000</td>\n",
              "      <td>0.648181</td>\n",
              "      <td>0.737253</td>\n",
              "      <td>-0.073991</td>\n",
              "      <td>0.665791</td>\n",
              "    </tr>\n",
              "    <tr>\n",
              "      <th>0.62</th>\n",
              "      <td>0.735416</td>\n",
              "      <td>-0.082974</td>\n",
              "      <td>0.641798</td>\n",
              "      <td>0.734891</td>\n",
              "      <td>-0.074650</td>\n",
              "      <td>0.660835</td>\n",
              "    </tr>\n",
              "    <tr>\n",
              "      <th>0.63</th>\n",
              "      <td>0.733775</td>\n",
              "      <td>-0.079570</td>\n",
              "      <td>0.643487</td>\n",
              "      <td>0.732791</td>\n",
              "      <td>-0.074841</td>\n",
              "      <td>0.655642</td>\n",
              "    </tr>\n",
              "    <tr>\n",
              "      <th>0.64</th>\n",
              "      <td>0.731872</td>\n",
              "      <td>-0.082807</td>\n",
              "      <td>0.631528</td>\n",
              "      <td>0.730100</td>\n",
              "      <td>-0.075157</td>\n",
              "      <td>0.649164</td>\n",
              "    </tr>\n",
              "    <tr>\n",
              "      <th>0.65</th>\n",
              "      <td>0.729379</td>\n",
              "      <td>-0.082796</td>\n",
              "      <td>0.626610</td>\n",
              "      <td>0.727869</td>\n",
              "      <td>-0.073401</td>\n",
              "      <td>0.648439</td>\n",
              "    </tr>\n",
              "    <tr>\n",
              "      <th>0.66</th>\n",
              "      <td>0.724719</td>\n",
              "      <td>-0.084791</td>\n",
              "      <td>0.616692</td>\n",
              "      <td>0.725704</td>\n",
              "      <td>-0.077475</td>\n",
              "      <td>0.634029</td>\n",
              "    </tr>\n",
              "    <tr>\n",
              "      <th>0.67</th>\n",
              "      <td>0.722816</td>\n",
              "      <td>-0.086250</td>\n",
              "      <td>0.607861</td>\n",
              "      <td>0.723735</td>\n",
              "      <td>-0.076484</td>\n",
              "      <td>0.630991</td>\n",
              "    </tr>\n",
              "    <tr>\n",
              "      <th>0.68</th>\n",
              "      <td>0.720782</td>\n",
              "      <td>-0.088560</td>\n",
              "      <td>0.596298</td>\n",
              "      <td>0.721110</td>\n",
              "      <td>-0.077861</td>\n",
              "      <td>0.620932</td>\n",
              "    </tr>\n",
              "    <tr>\n",
              "      <th>0.69</th>\n",
              "      <td>0.712645</td>\n",
              "      <td>-0.093466</td>\n",
              "      <td>0.569973</td>\n",
              "      <td>0.712251</td>\n",
              "      <td>-0.084655</td>\n",
              "      <td>0.591987</td>\n",
              "    </tr>\n",
              "    <tr>\n",
              "      <th>0.70</th>\n",
              "      <td>0.709299</td>\n",
              "      <td>-0.095316</td>\n",
              "      <td>0.557033</td>\n",
              "      <td>0.707527</td>\n",
              "      <td>-0.086591</td>\n",
              "      <td>0.577084</td>\n",
              "    </tr>\n",
              "    <tr>\n",
              "      <th>0.71</th>\n",
              "      <td>0.709299</td>\n",
              "      <td>-0.095316</td>\n",
              "      <td>0.557033</td>\n",
              "      <td>0.707527</td>\n",
              "      <td>-0.086591</td>\n",
              "      <td>0.577084</td>\n",
              "    </tr>\n",
              "    <tr>\n",
              "      <th>0.72</th>\n",
              "      <td>0.703721</td>\n",
              "      <td>-0.099485</td>\n",
              "      <td>0.535078</td>\n",
              "      <td>0.702540</td>\n",
              "      <td>-0.090171</td>\n",
              "      <td>0.558554</td>\n",
              "    </tr>\n",
              "    <tr>\n",
              "      <th>0.73</th>\n",
              "      <td>0.698537</td>\n",
              "      <td>-0.100342</td>\n",
              "      <td>0.521226</td>\n",
              "      <td>0.696174</td>\n",
              "      <td>-0.087766</td>\n",
              "      <td>0.553819</td>\n",
              "    </tr>\n",
              "    <tr>\n",
              "      <th>0.74</th>\n",
              "      <td>0.694271</td>\n",
              "      <td>-0.104471</td>\n",
              "      <td>0.498121</td>\n",
              "      <td>0.691318</td>\n",
              "      <td>-0.087314</td>\n",
              "      <td>0.544784</td>\n",
              "    </tr>\n",
              "    <tr>\n",
              "      <th>0.75</th>\n",
              "      <td>0.689547</td>\n",
              "      <td>-0.105778</td>\n",
              "      <td>0.480996</td>\n",
              "      <td>0.685675</td>\n",
              "      <td>-0.090151</td>\n",
              "      <td>0.525226</td>\n",
              "    </tr>\n",
              "    <tr>\n",
              "      <th>0.76</th>\n",
              "      <td>0.683575</td>\n",
              "      <td>-0.105539</td>\n",
              "      <td>0.466024</td>\n",
              "      <td>0.681738</td>\n",
              "      <td>-0.091295</td>\n",
              "      <td>0.504471</td>\n",
              "    </tr>\n",
              "    <tr>\n",
              "      <th>0.77</th>\n",
              "      <td>0.677079</td>\n",
              "      <td>-0.103642</td>\n",
              "      <td>0.453711</td>\n",
              "      <td>0.675569</td>\n",
              "      <td>-0.092258</td>\n",
              "      <td>0.484093</td>\n",
              "    </tr>\n",
              "    <tr>\n",
              "      <th>0.78</th>\n",
              "      <td>0.670057</td>\n",
              "      <td>-0.103670</td>\n",
              "      <td>0.431766</td>\n",
              "      <td>0.669795</td>\n",
              "      <td>-0.089780</td>\n",
              "      <td>0.471046</td>\n",
              "    </tr>\n",
              "    <tr>\n",
              "      <th>0.79</th>\n",
              "      <td>0.663495</td>\n",
              "      <td>-0.104332</td>\n",
              "      <td>0.408541</td>\n",
              "      <td>0.664545</td>\n",
              "      <td>-0.090821</td>\n",
              "      <td>0.444823</td>\n",
              "    </tr>\n",
              "    <tr>\n",
              "      <th>0.80</th>\n",
              "      <td>0.656867</td>\n",
              "      <td>-0.102238</td>\n",
              "      <td>0.387470</td>\n",
              "      <td>0.656670</td>\n",
              "      <td>-0.092491</td>\n",
              "      <td>0.413043</td>\n",
              "    </tr>\n",
              "    <tr>\n",
              "      <th>0.81</th>\n",
              "      <td>0.650043</td>\n",
              "      <td>-0.104484</td>\n",
              "      <td>0.351896</td>\n",
              "      <td>0.648665</td>\n",
              "      <td>-0.089298</td>\n",
              "      <td>0.395164</td>\n",
              "    </tr>\n",
              "    <tr>\n",
              "      <th>0.82</th>\n",
              "      <td>0.637312</td>\n",
              "      <td>-0.097484</td>\n",
              "      <td>0.309220</td>\n",
              "      <td>0.634884</td>\n",
              "      <td>-0.079863</td>\n",
              "      <td>0.361410</td>\n",
              "    </tr>\n",
              "    <tr>\n",
              "      <th>0.83</th>\n",
              "      <td>0.630422</td>\n",
              "      <td>-0.094786</td>\n",
              "      <td>0.278044</td>\n",
              "      <td>0.627666</td>\n",
              "      <td>-0.072712</td>\n",
              "      <td>0.351059</td>\n",
              "    </tr>\n",
              "    <tr>\n",
              "      <th>0.84</th>\n",
              "      <td>0.630422</td>\n",
              "      <td>-0.094786</td>\n",
              "      <td>0.278044</td>\n",
              "      <td>0.627666</td>\n",
              "      <td>-0.072712</td>\n",
              "      <td>0.351059</td>\n",
              "    </tr>\n",
              "    <tr>\n",
              "      <th>0.85</th>\n",
              "      <td>0.623532</td>\n",
              "      <td>-0.083095</td>\n",
              "      <td>0.276581</td>\n",
              "      <td>0.621169</td>\n",
              "      <td>-0.067098</td>\n",
              "      <td>0.329196</td>\n",
              "    </tr>\n",
              "    <tr>\n",
              "      <th>0.86</th>\n",
              "      <td>0.617495</td>\n",
              "      <td>-0.079261</td>\n",
              "      <td>0.246897</td>\n",
              "      <td>0.613229</td>\n",
              "      <td>-0.057824</td>\n",
              "      <td>0.320555</td>\n",
              "    </tr>\n",
              "    <tr>\n",
              "      <th>0.87</th>\n",
              "      <td>0.611195</td>\n",
              "      <td>-0.073225</td>\n",
              "      <td>0.212578</td>\n",
              "      <td>0.606339</td>\n",
              "      <td>-0.049687</td>\n",
              "      <td>0.308034</td>\n",
              "    </tr>\n",
              "    <tr>\n",
              "      <th>0.88</th>\n",
              "      <td>0.604370</td>\n",
              "      <td>-0.061396</td>\n",
              "      <td>0.194239</td>\n",
              "      <td>0.600302</td>\n",
              "      <td>-0.042102</td>\n",
              "      <td>0.295709</td>\n",
              "    </tr>\n",
              "    <tr>\n",
              "      <th>0.89</th>\n",
              "      <td>0.597743</td>\n",
              "      <td>-0.053861</td>\n",
              "      <td>0.164776</td>\n",
              "      <td>0.596168</td>\n",
              "      <td>-0.036683</td>\n",
              "      <td>0.274533</td>\n",
              "    </tr>\n",
              "    <tr>\n",
              "      <th>0.90</th>\n",
              "      <td>0.591968</td>\n",
              "      <td>-0.042678</td>\n",
              "      <td>0.152399</td>\n",
              "      <td>0.591246</td>\n",
              "      <td>-0.031003</td>\n",
              "      <td>0.254433</td>\n",
              "    </tr>\n",
              "    <tr>\n",
              "      <th>0.91</th>\n",
              "      <td>0.587834</td>\n",
              "      <td>-0.035165</td>\n",
              "      <td>0.130982</td>\n",
              "      <td>0.587178</td>\n",
              "      <td>-0.026427</td>\n",
              "      <td>0.206631</td>\n",
              "    </tr>\n",
              "    <tr>\n",
              "      <th>0.92</th>\n",
              "      <td>0.584422</td>\n",
              "      <td>-0.029335</td>\n",
              "      <td>0.113081</td>\n",
              "      <td>0.583634</td>\n",
              "      <td>-0.019831</td>\n",
              "      <td>0.179223</td>\n",
              "    </tr>\n",
              "    <tr>\n",
              "      <th>0.93</th>\n",
              "      <td>0.582387</td>\n",
              "      <td>-0.023594</td>\n",
              "      <td>0.101570</td>\n",
              "      <td>0.580222</td>\n",
              "      <td>-0.013335</td>\n",
              "      <td>0.168007</td>\n",
              "    </tr>\n",
              "    <tr>\n",
              "      <th>0.94</th>\n",
              "      <td>0.577466</td>\n",
              "      <td>-0.009148</td>\n",
              "      <td>0.104383</td>\n",
              "      <td>0.576219</td>\n",
              "      <td>-0.005216</td>\n",
              "      <td>0.193854</td>\n",
              "    </tr>\n",
              "    <tr>\n",
              "      <th>0.95</th>\n",
              "      <td>0.575956</td>\n",
              "      <td>-0.005574</td>\n",
              "      <td>0.071420</td>\n",
              "      <td>0.575103</td>\n",
              "      <td>-0.003181</td>\n",
              "      <td>0.141352</td>\n",
              "    </tr>\n",
              "    <tr>\n",
              "      <th>0.96</th>\n",
              "      <td>0.575956</td>\n",
              "      <td>-0.005574</td>\n",
              "      <td>0.071420</td>\n",
              "      <td>0.575103</td>\n",
              "      <td>-0.003181</td>\n",
              "      <td>0.141352</td>\n",
              "    </tr>\n",
              "    <tr>\n",
              "      <th>0.97</th>\n",
              "      <td>0.574972</td>\n",
              "      <td>-0.003696</td>\n",
              "      <td>0.000000</td>\n",
              "      <td>0.574382</td>\n",
              "      <td>-0.002001</td>\n",
              "      <td>0.052191</td>\n",
              "    </tr>\n",
              "    <tr>\n",
              "      <th>0.98</th>\n",
              "      <td>0.574382</td>\n",
              "      <td>-0.001928</td>\n",
              "      <td>0.000000</td>\n",
              "      <td>0.574250</td>\n",
              "      <td>-0.001283</td>\n",
              "      <td>0.000000</td>\n",
              "    </tr>\n",
              "    <tr>\n",
              "      <th>0.99</th>\n",
              "      <td>0.573922</td>\n",
              "      <td>-0.000481</td>\n",
              "      <td>0.000000</td>\n",
              "      <td>0.573725</td>\n",
              "      <td>0.000000</td>\n",
              "      <td>NaN</td>\n",
              "    </tr>\n",
              "    <tr>\n",
              "      <th>1.00</th>\n",
              "      <td>0.573725</td>\n",
              "      <td>0.000000</td>\n",
              "      <td>NaN</td>\n",
              "      <td>0.573725</td>\n",
              "      <td>0.000000</td>\n",
              "      <td>NaN</td>\n",
              "    </tr>\n",
              "  </tbody>\n",
              "</table>\n",
              "</div>"
            ],
            "text/plain": [
              "            accuracy_original  ...  disparate_impact_reweighed\n",
              "threshhold                     ...                            \n",
              "0.00                 0.426275  ...                    1.000000\n",
              "0.01                 0.428440  ...                    0.995477\n",
              "0.02                 0.431918  ...                    0.988576\n",
              "0.03                 0.437824  ...                    0.980555\n",
              "0.04                 0.445961  ...                    0.970599\n",
              "0.05                 0.455345  ...                    0.960340\n",
              "0.06                 0.464794  ...                    0.950914\n",
              "0.07                 0.474834  ...                    0.942446\n",
              "0.08                 0.485006  ...                    0.931121\n",
              "0.09                 0.495308  ...                    0.922923\n",
              "0.10                 0.506070  ...                    0.910767\n",
              "0.11                 0.517422  ...                    0.899603\n",
              "0.12                 0.529365  ...                    0.888567\n",
              "0.13                 0.540324  ...                    0.880163\n",
              "0.14                 0.551808  ...                    0.866630\n",
              "0.15                 0.562504  ...                    0.856122\n",
              "0.16                 0.571888  ...                    0.844161\n",
              "0.17                 0.580944  ...                    0.834774\n",
              "0.18                 0.590590  ...                    0.825611\n",
              "0.19                 0.599449  ...                    0.818238\n",
              "0.20                 0.608439  ...                    0.810257\n",
              "0.21                 0.617888  ...                    0.797832\n",
              "0.22                 0.625041  ...                    0.789202\n",
              "0.23                 0.632719  ...                    0.783708\n",
              "0.24                 0.640528  ...                    0.774536\n",
              "0.25                 0.648861  ...                    0.769838\n",
              "0.26                 0.655949  ...                    0.763972\n",
              "0.27                 0.663954  ...                    0.757146\n",
              "0.28                 0.670582  ...                    0.750899\n",
              "0.29                 0.676357  ...                    0.743808\n",
              "0.30                 0.682722  ...                    0.740141\n",
              "0.31                 0.688628  ...                    0.734142\n",
              "0.32                 0.693943  ...                    0.728777\n",
              "0.33                 0.698930  ...                    0.726174\n",
              "0.34                 0.704443  ...                    0.719349\n",
              "0.35                 0.713039  ...                    0.717541\n",
              "0.36                 0.713039  ...                    0.717541\n",
              "0.37                 0.717239  ...                    0.712781\n",
              "0.38                 0.721635  ...                    0.713166\n",
              "0.39                 0.724588  ...                    0.710726\n",
              "0.40                 0.726360  ...                    0.708640\n",
              "0.41                 0.731216  ...                    0.703013\n",
              "0.42                 0.731216  ...                    0.703013\n",
              "0.43                 0.733185  ...                    0.704907\n",
              "0.44                 0.735809  ...                    0.702138\n",
              "0.45                 0.735941  ...                    0.699598\n",
              "0.46                 0.737516  ...                    0.699617\n",
              "0.47                 0.740206  ...                    0.693596\n",
              "0.48                 0.740206  ...                    0.693596\n",
              "0.49                 0.742962  ...                    0.692768\n",
              "0.50                 0.743225  ...                    0.688071\n",
              "0.51                 0.743553  ...                    0.686807\n",
              "0.52                 0.744275  ...                    0.685303\n",
              "0.53                 0.742568  ...                    0.683943\n",
              "0.54                 0.742175  ...                    0.682523\n",
              "0.55                 0.742043  ...                    0.681320\n",
              "0.56                 0.741715  ...                    0.677443\n",
              "0.57                 0.740731  ...                    0.673596\n",
              "0.58                 0.740731  ...                    0.673596\n",
              "0.59                 0.740075  ...                    0.672932\n",
              "0.60                 0.738434  ...                    0.667463\n",
              "0.61                 0.737122  ...                    0.665791\n",
              "0.62                 0.735416  ...                    0.660835\n",
              "0.63                 0.733775  ...                    0.655642\n",
              "0.64                 0.731872  ...                    0.649164\n",
              "0.65                 0.729379  ...                    0.648439\n",
              "0.66                 0.724719  ...                    0.634029\n",
              "0.67                 0.722816  ...                    0.630991\n",
              "0.68                 0.720782  ...                    0.620932\n",
              "0.69                 0.712645  ...                    0.591987\n",
              "0.70                 0.709299  ...                    0.577084\n",
              "0.71                 0.709299  ...                    0.577084\n",
              "0.72                 0.703721  ...                    0.558554\n",
              "0.73                 0.698537  ...                    0.553819\n",
              "0.74                 0.694271  ...                    0.544784\n",
              "0.75                 0.689547  ...                    0.525226\n",
              "0.76                 0.683575  ...                    0.504471\n",
              "0.77                 0.677079  ...                    0.484093\n",
              "0.78                 0.670057  ...                    0.471046\n",
              "0.79                 0.663495  ...                    0.444823\n",
              "0.80                 0.656867  ...                    0.413043\n",
              "0.81                 0.650043  ...                    0.395164\n",
              "0.82                 0.637312  ...                    0.361410\n",
              "0.83                 0.630422  ...                    0.351059\n",
              "0.84                 0.630422  ...                    0.351059\n",
              "0.85                 0.623532  ...                    0.329196\n",
              "0.86                 0.617495  ...                    0.320555\n",
              "0.87                 0.611195  ...                    0.308034\n",
              "0.88                 0.604370  ...                    0.295709\n",
              "0.89                 0.597743  ...                    0.274533\n",
              "0.90                 0.591968  ...                    0.254433\n",
              "0.91                 0.587834  ...                    0.206631\n",
              "0.92                 0.584422  ...                    0.179223\n",
              "0.93                 0.582387  ...                    0.168007\n",
              "0.94                 0.577466  ...                    0.193854\n",
              "0.95                 0.575956  ...                    0.141352\n",
              "0.96                 0.575956  ...                    0.141352\n",
              "0.97                 0.574972  ...                    0.052191\n",
              "0.98                 0.574382  ...                    0.000000\n",
              "0.99                 0.573922  ...                         NaN\n",
              "1.00                 0.573725  ...                         NaN\n",
              "\n",
              "[101 rows x 6 columns]"
            ]
          },
          "metadata": {
            "tags": []
          }
        }
      ]
    },
    {
      "cell_type": "markdown",
      "metadata": {
        "id": "fN77tNN3n--J"
      },
      "source": [
        "## Complete the deliverable\n",
        "\n",
        "This notebook, complete with your reflections, is your deliverable."
      ]
    }
  ]
}